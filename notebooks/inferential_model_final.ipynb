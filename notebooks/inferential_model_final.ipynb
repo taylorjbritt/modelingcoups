{
 "cells": [
  {
   "cell_type": "code",
   "execution_count": 216,
   "metadata": {},
   "outputs": [],
   "source": [
    "import numpy as np\n",
    "import pandas as pd\n",
    "from inv_dict import wb_cow_dict\n",
    "\n",
    "import numpy as np\n",
    "import pandas as pd\n",
    "from sklearn import tree\n",
    "from sklearn.model_selection import train_test_split\n",
    "from sklearn.linear_model import LogisticRegression, LogisticRegressionCV\n",
    "from sklearn import metrics\n",
    "from sklearn.metrics import accuracy_score, precision_score, recall_score, f1_score, r2_score\n",
    "from sklearn.utils import resample\n",
    "from sklearn.preprocessing import StandardScaler, MinMaxScaler\n",
    "from statsmodels.stats.outliers_influence import variance_inflation_factor\n",
    "from statsmodels.tools.tools import add_constant\n",
    "from statsmodels.regression.linear_model import OLS\n",
    "from sklearn.ensemble import GradientBoostingClassifier, RandomForestClassifier\n",
    "from sklearn.inspection import plot_partial_dependence\n",
    "from imblearn.over_sampling import SMOTE\n",
    "import matplotlib.pyplot as plt\n",
    "import xgboost as xgb\n",
    "from sklearn.tree import DecisionTreeClassifier\n",
    "from sklearn.pipeline import Pipeline\n",
    "pd.options.display.max_rows = 999\n",
    "pd.options.display.max_columns = 999"
   ]
  },
  {
   "cell_type": "code",
   "execution_count": 217,
   "metadata": {},
   "outputs": [],
   "source": [
    "RandomState = 40"
   ]
  },
  {
   "cell_type": "code",
   "execution_count": 218,
   "metadata": {},
   "outputs": [],
   "source": [
    "def get_cc(val):\n",
    "    if val in wb_cow_dict:\n",
    "        return wb_cow_dict[val]\n",
    "    else:\n",
    "        return 0\n",
    "    \n",
    "def get_year(val):\n",
    "    return int(val)\n",
    "\n",
    "def add_wd_rows(reign_df, wdi_df, variable_list):\n",
    "    joint_df = reign_df.copy()\n",
    "    yearlist = [str(i) for i in np.arange(1960, 2020)]\n",
    "    for i in variable_list:\n",
    "        df = wdi_df[wdi_df['Indicator Name'] == i]\n",
    "        dfx = pd.melt(df, id_vars = ['Country Name'], value_vars=yearlist)\n",
    "        dfx['ccode'] = dfx['Country Name'].apply(get_cc)\n",
    "        dfx['year'] = dfx['variable'].apply(get_year)\n",
    "        dfx['yearcode'] = (dfx['year']) + 10000*dfx['ccode']\n",
    "        dfx[i] = dfx['value']\n",
    "        dfx_limited = dfx[[i, 'yearcode']]\n",
    "        joint_df = joint_df.join(dfx_limited.set_index('yearcode'), on='yearcode', how = 'inner')\n",
    "    return joint_df"
   ]
  },
  {
   "cell_type": "code",
   "execution_count": 219,
   "metadata": {},
   "outputs": [],
   "source": [
    "def upsampler(X_train, y_train, target = 'pt_attempt', ratio = 1.0):\n",
    "    '''\n",
    "    Args: X_train and y_train\n",
    "    Optional: what is the target\n",
    "    Returns: y_train, and X_train with the target rows sampled with replacement to equal \n",
    "    the number of non-target rows (makes X_train much bigger)\n",
    "    '''\n",
    "    y_train = pd.Series(y_train)\n",
    "    \n",
    "    X = pd.concat([X_train, y_train], axis=1) \n",
    "    no_coup = X[X[target]==0]\n",
    "    coup = X[X[target]==1]\n",
    "    coups_upsampled = resample(coup,\n",
    "                          replace=True, # sample with replacement\n",
    "                          n_samples=int(len(no_coup)*ratio), # match number in majority class\n",
    "                          random_state=29)\n",
    "    upsampled = pd.concat([no_coup, coups_upsampled])\n",
    "    y_up = upsampled[target]\n",
    "    X_up = upsampled.drop(target, axis = 1)\n",
    "    return X_up, y_up\n",
    "\n",
    "def metric_test(model, X_test, y_test):\n",
    "    '''\n",
    "    Prints out the accuracy, recall, precision, and f1 score for the \n",
    "    fit model when it predicts on the test data\n",
    "    '''\n",
    "    preds = model.predict(X_test)\n",
    "    print('accuracy = ' + str(accuracy_score(y_test, preds)))\n",
    "    print('recall = ' + str(recall_score(y_test, preds)))\n",
    "    print('precision = ' + str(precision_score(y_test, preds)))\n",
    "    print('f1 score = ' + str(f1_score(y_test, preds)))\n",
    "    \n",
    "def get_feature_weights(model, feature_labels):\n",
    "    '''\n",
    "    returns coefficients for features in a model (intended for logistic regression) \n",
    "    args: model, feature_labels\n",
    "    returns: a sorted series in ascending order of feature weights.\n",
    "    '''\n",
    "    d_log_vals = {}\n",
    "    for idx, feat in enumerate(model.coef_[0]):\n",
    "        d_log_vals[feature_labels[idx]] = feat  \n",
    "    s_log_vals = (pd.Series(d_log_vals)).sort_values()\n",
    "    return s_log_vals"
   ]
  },
  {
   "cell_type": "code",
   "execution_count": 220,
   "metadata": {},
   "outputs": [],
   "source": [
    "variable_list = ['Life expectancy at birth, female (years)', 'GDP growth (annual %)', 'Mineral rents (% of GDP)', 'Oil rents (% of GDP)', 'Trade (% of GDP)', 'Foreign direct investment, net inflows (% of GDP)', 'Natural gas rents (% of GDP)', 'Population ages 0-14 (% of total population)', 'Rural population (% of total population)',  'Population growth (annual %)', 'Arable land (hectares per person)',\n",
    " 'Merchandise exports (current US$)',\n",
    " 'Merchandise imports (current US$)',\n",
    " 'Primary education, duration (years)']"
   ]
  },
  {
   "cell_type": "code",
   "execution_count": 221,
   "metadata": {},
   "outputs": [],
   "source": [
    "wdi_df = pd.read_pickle('../data/wdi_complete.pkl')"
   ]
  },
  {
   "cell_type": "code",
   "execution_count": 222,
   "metadata": {},
   "outputs": [],
   "source": [
    "reign_df = pd.read_pickle('../data/year_agg.pkl')\n",
    "dummies = pd.get_dummies(reign_df['government'])\n",
    "df_dumb = reign_df.join(dummies)\n",
    "df_dumb['pt_attempt'] = df_dumb['coupyear']\n",
    "df_dumb['pt_suc'] = df_dumb['coupsuc']\n",
    "df = df_dumb.drop(['ccode', 'country', 'leader', 'month', 'government', 'coupyear', 'coupsuc'], axis = 1)"
   ]
  },
  {
   "cell_type": "code",
   "execution_count": 223,
   "metadata": {},
   "outputs": [],
   "source": [
    "joint_df = add_wd_rows(df, wdi_df, variable_list)"
   ]
  },
  {
   "cell_type": "code",
   "execution_count": 225,
   "metadata": {},
   "outputs": [
    {
     "data": {
      "text/plain": [
       "(9954, 62)"
      ]
     },
     "execution_count": 225,
     "metadata": {},
     "output_type": "execute_result"
    }
   ],
   "source": [
    "joint_df.shape"
   ]
  },
  {
   "cell_type": "code",
   "execution_count": 226,
   "metadata": {},
   "outputs": [
    {
     "data": {
      "text/plain": [
       "(9954, 62)"
      ]
     },
     "execution_count": 226,
     "metadata": {},
     "output_type": "execute_result"
    }
   ],
   "source": [
    "joint_df_thinner.shape"
   ]
  },
  {
   "cell_type": "code",
   "execution_count": 227,
   "metadata": {},
   "outputs": [],
   "source": [
    "joint_df_x = joint_df.dropna()"
   ]
  },
  {
   "cell_type": "code",
   "execution_count": 228,
   "metadata": {},
   "outputs": [
    {
     "data": {
      "text/plain": [
       "(5939, 62)"
      ]
     },
     "execution_count": 228,
     "metadata": {},
     "output_type": "execute_result"
    }
   ],
   "source": [
    "joint_df_x.shape"
   ]
  },
  {
   "cell_type": "code",
   "execution_count": 229,
   "metadata": {},
   "outputs": [],
   "source": [
    "y = joint_df_x ['pt_attempt']\n",
    "X = joint_df_x .drop(['pt_attempt','pt_suc', 'irregular'], axis = 1)"
   ]
  },
  {
   "cell_type": "code",
   "execution_count": 230,
   "metadata": {},
   "outputs": [],
   "source": [
    "X_train, X_test, y_train, y_test = train_test_split(X, y, test_size= .25, random_state= 40, stratify = y)"
   ]
  },
  {
   "cell_type": "code",
   "execution_count": 234,
   "metadata": {},
   "outputs": [],
   "source": [
    "ridge_scaled = LogisticRegressionCV(\n",
    "        cv=5, dual=False,\n",
    "        penalty='l1', \n",
    "        scoring='recall',\n",
    "        solver='saga', \n",
    "        n_jobs = 2,\n",
    "        tol=0.001,\n",
    "        max_iter=200,)"
   ]
  },
  {
   "cell_type": "code",
   "execution_count": 235,
   "metadata": {},
   "outputs": [],
   "source": [
    "X_up, y_up = upsampler(X_train, y_train, ratio = 1)"
   ]
  },
  {
   "cell_type": "code",
   "execution_count": 178,
   "metadata": {},
   "outputs": [],
   "source": [
    "joint_df_2x = joint_df_thinner.drop(['direct_recent',\n",
    "                                     'Merchandise imports (current US$)', \n",
    "                                     'Foreign direct investment, net inflows (% of GDP)', \n",
    "                                     'elected', 'Presidential Democracy'], axis =1)"
   ]
  },
  {
   "cell_type": "code",
   "execution_count": 179,
   "metadata": {},
   "outputs": [],
   "source": [
    "joint_df_2 = joint_df_2x.dropna()"
   ]
  },
  {
   "cell_type": "code",
   "execution_count": 238,
   "metadata": {},
   "outputs": [
    {
     "name": "stdout",
     "output_type": "stream",
     "text": [
      "accuracy = 0.7782925215089345\n",
      "recall = 0.8478260869565217\n",
      "precision = 0.10626702997275204\n",
      "f1 score = 0.18886198547215496\n"
     ]
    },
    {
     "data": {
      "text/plain": [
       "GDP growth (annual %)                          -0.753216\n",
       "election_recent                                -0.668782\n",
       "Monarchy                                       -0.444883\n",
       "Life expectancy at birth, female (years)       -0.428184\n",
       "Parliamentary Democracy                        -0.340441\n",
       "Dominant Party                                 -0.315062\n",
       "Foreign/Occupied                               -0.281219\n",
       "year                                           -0.280108\n",
       "male                                           -0.263977\n",
       "Oligarchy                                      -0.208242\n",
       "Merchandise exports (current US$)              -0.202342\n",
       "Trade (% of GDP)                               -0.187121\n",
       "loss                                           -0.151844\n",
       "indirect_recent                                -0.124510\n",
       "Warlordism                                     -0.119562\n",
       "precip                                         -0.113439\n",
       "election_now                                   -0.109256\n",
       "Oil rents (% of GDP)                           -0.086102\n",
       "Natural gas rents (% of GDP)                   -0.069158\n",
       "yearcode                                       -0.067106\n",
       "Party-Personal                                 -0.063953\n",
       "Party-Military                                 -0.016881\n",
       "militarycareer                                 -0.006507\n",
       "age                                             0.000000\n",
       "tenure_months                                   0.000000\n",
       "Personal Dictatorship                           0.000000\n",
       "exec_ant                                        0.000000\n",
       "leg_recent                                      0.000000\n",
       "nochange_recent                                 0.000000\n",
       "constant                                        0.000000\n",
       "lastelection                                    0.000000\n",
       "lead_recent                                     0.000000\n",
       "victory_recent                                  0.000000\n",
       "ref_recent                                      0.000000\n",
       "change_recent                                   0.000275\n",
       "leg_ant                                         0.021583\n",
       "Arable land (hectares per person)               0.033090\n",
       "anticipation                                    0.036393\n",
       "ref_ant                                         0.045436\n",
       "Party-Personal-Military Hybrid                  0.063181\n",
       "prev_conflict                                   0.074830\n",
       "Population ages 0-14 (% of total population)    0.076899\n",
       "delayed                                         0.082364\n",
       "Rural population (% of total population)        0.093143\n",
       "Provisional - Military                          0.115717\n",
       "Military-Personal                               0.118376\n",
       "Indirect Military                               0.131189\n",
       "Mineral rents (% of GDP)                        0.149380\n",
       "Provisional - Civilian                          0.215254\n",
       "defeat_recent                                   0.216293\n",
       "irreg_lead_ant                                  0.226312\n",
       "exec_recent                                     0.248724\n",
       "Military                                        0.315436\n",
       "Population growth (annual %)                    0.469950\n",
       "dtype: float64"
      ]
     },
     "execution_count": 238,
     "metadata": {},
     "output_type": "execute_result"
    }
   ],
   "source": [
    "y = joint_df_2['pt_attempt']\n",
    "X = joint_df_2.drop(['pt_attempt','pt_suc', 'irregular', 'Primary education, duration (years)'], axis = 1)\n",
    "X['constant'] = 1\n",
    "X_train, X_test, y_train, y_test = train_test_split(X, y, test_size= .25, random_state= 40, stratify = y)\n",
    "ridge = LogisticRegressionCV(\n",
    "        cv=5, dual=False,\n",
    "        penalty='l1', \n",
    "        scoring='recall',\n",
    "        solver='saga', \n",
    "        n_jobs = 2,\n",
    "        tol=0.001,\n",
    "        max_iter=200,)\n",
    "X_up, y_up = upsampler(X_train, y_train, ratio = 1)\n",
    "ridgepipe = Pipeline([('scaler', StandardScaler()),('ridge', ridge)])\n",
    "ridgepipe.fit(X_up, y_up)\n",
    "metric_test(ridgepipe, X_test, y_test)\n",
    "get_feature_weights(ridge, X.columns)"
   ]
  },
  {
   "cell_type": "code",
   "execution_count": 239,
   "metadata": {},
   "outputs": [],
   "source": [
    "revised_drops = ['age', 'tenure_months', 'Personal Dictatorship', 'exec_ant', 'leg_recent', 'nochange_recent', 'lastelection', 'lead_recent', 'victory_recent', 'ref_recent', 'irregular', 'Primary education, duration (years)', 'direct_recent',\n",
    "                                     'Merchandise imports (current US$)', \n",
    "                                     'Foreign direct investment, net inflows (% of GDP)', \n",
    "                                     'elected', 'Presidential Democracy', 'yearcode']"
   ]
  },
  {
   "cell_type": "code",
   "execution_count": 240,
   "metadata": {},
   "outputs": [
    {
     "data": {
      "text/plain": [
       "['age',\n",
       " 'tenure_months',\n",
       " 'Personal Dictatorship',\n",
       " 'exec_ant',\n",
       " 'leg_recent',\n",
       " 'nochange_recent',\n",
       " 'lastelection',\n",
       " 'lead_recent',\n",
       " 'victory_recent',\n",
       " 'ref_recent',\n",
       " 'irregular',\n",
       " 'Primary education, duration (years)',\n",
       " 'direct_recent',\n",
       " 'Merchandise imports (current US$)',\n",
       " 'Foreign direct investment, net inflows (% of GDP)',\n",
       " 'elected',\n",
       " 'Presidential Democracy',\n",
       " 'yearcode']"
      ]
     },
     "execution_count": 240,
     "metadata": {},
     "output_type": "execute_result"
    }
   ],
   "source": [
    "revised_drops"
   ]
  },
  {
   "cell_type": "code",
   "execution_count": 241,
   "metadata": {},
   "outputs": [],
   "source": [
    "joint_df_3x = joint_df_thinner.drop(revised_drops, axis =1)"
   ]
  },
  {
   "cell_type": "code",
   "execution_count": 242,
   "metadata": {},
   "outputs": [],
   "source": [
    "joint_df_3 = joint_df_3x.dropna()"
   ]
  },
  {
   "cell_type": "code",
   "execution_count": 243,
   "metadata": {},
   "outputs": [
    {
     "name": "stderr",
     "output_type": "stream",
     "text": [
      "/Users/taylorbritt/opt/anaconda3/lib/python3.7/site-packages/ipykernel_launcher.py:1: SettingWithCopyWarning: \n",
      "A value is trying to be set on a copy of a slice from a DataFrame.\n",
      "Try using .loc[row_indexer,col_indexer] = value instead\n",
      "\n",
      "See the caveats in the documentation: http://pandas.pydata.org/pandas-docs/stable/user_guide/indexing.html#returning-a-view-versus-a-copy\n",
      "  \"\"\"Entry point for launching an IPython kernel.\n"
     ]
    }
   ],
   "source": [
    "joint_df_3['constant'] = 1"
   ]
  },
  {
   "cell_type": "code",
   "execution_count": 244,
   "metadata": {},
   "outputs": [
    {
     "data": {
      "text/plain": [
       "Index(['year', 'male', 'militarycareer', 'anticipation', 'ref_ant', 'leg_ant',\n",
       "       'irreg_lead_ant', 'election_now', 'election_recent', 'exec_recent',\n",
       "       'indirect_recent', 'defeat_recent', 'change_recent', 'delayed', 'loss',\n",
       "       'prev_conflict', 'precip', 'Dominant Party', 'Foreign/Occupied',\n",
       "       'Indirect Military', 'Military', 'Military-Personal', 'Monarchy',\n",
       "       'Oligarchy', 'Parliamentary Democracy', 'Party-Military',\n",
       "       'Party-Personal', 'Party-Personal-Military Hybrid',\n",
       "       'Provisional - Civilian', 'Provisional - Military', 'Warlordism',\n",
       "       'pt_attempt', 'pt_suc', 'Life expectancy at birth, female (years)',\n",
       "       'GDP growth (annual %)', 'Mineral rents (% of GDP)',\n",
       "       'Oil rents (% of GDP)', 'Trade (% of GDP)',\n",
       "       'Natural gas rents (% of GDP)',\n",
       "       'Population ages 0-14 (% of total population)',\n",
       "       'Rural population (% of total population)',\n",
       "       'Population growth (annual %)', 'Arable land (hectares per person)',\n",
       "       'Merchandise exports (current US$)', 'constant'],\n",
       "      dtype='object')"
      ]
     },
     "execution_count": 244,
     "metadata": {},
     "output_type": "execute_result"
    }
   ],
   "source": [
    "joint_df_3.columns"
   ]
  },
  {
   "cell_type": "code",
   "execution_count": 249,
   "metadata": {},
   "outputs": [
    {
     "name": "stdout",
     "output_type": "stream",
     "text": [
      "accuracy = 0.9696169088507266\n",
      "recall = 0.0\n",
      "precision = 0.0\n",
      "f1 score = 0.0\n"
     ]
    },
    {
     "name": "stderr",
     "output_type": "stream",
     "text": [
      "/Users/taylorbritt/opt/anaconda3/lib/python3.7/site-packages/sklearn/metrics/classification.py:1437: UndefinedMetricWarning: Precision is ill-defined and being set to 0.0 due to no predicted samples.\n",
      "  'precision', 'predicted', average, warn_for)\n",
      "/Users/taylorbritt/opt/anaconda3/lib/python3.7/site-packages/sklearn/metrics/classification.py:1437: UndefinedMetricWarning: F-score is ill-defined and being set to 0.0 due to no predicted samples.\n",
      "  'precision', 'predicted', average, warn_for)\n"
     ]
    }
   ],
   "source": [
    "y = joint_df_3['pt_attempt']\n",
    "X = joint_df_3.drop(['pt_attempt','pt_suc'], axis = 1)\n",
    "X['constant'] = 1\n",
    "X_train, X_test, y_train, y_test = train_test_split(X, y, test_size= .25, random_state= 40, stratify = y)\n",
    "elastic_scaled = LogisticRegressionCV(\n",
    "        cv=5, dual=False,\n",
    "        penalty='elasticnet', \n",
    "        scoring='recall',\n",
    "        solver='saga', \n",
    "        n_jobs = 2,\n",
    "        tol=0.001,\n",
    "        max_iter=200,\n",
    "        l1_ratios = [0, .3, .5, .7, 1])\n",
    "X_up, y_up = upsampler(X_train, y_train, ratio = 1)\n",
    "elasticpipe = Pipeline([('scaler', StandardScaler()),('elastic_scaled', elastic_scaled)])\n",
    "elasticpipe.fit(X_up, y_up)\n",
    "metric_test(elasticpipe, X_test, y_test)\n",
    "weights = get_feature_weights(elastic_scaled, X.columns)"
   ]
  },
  {
   "cell_type": "code",
   "execution_count": 188,
   "metadata": {},
   "outputs": [],
   "source": [
    "US_dict = {}\n",
    "for val in X.columns:\n",
    "    US_dict[val] = 0"
   ]
  },
  {
   "cell_type": "code",
   "execution_count": 189,
   "metadata": {},
   "outputs": [
    {
     "data": {
      "text/html": [
       "<div>\n",
       "<style scoped>\n",
       "    .dataframe tbody tr th:only-of-type {\n",
       "        vertical-align: middle;\n",
       "    }\n",
       "\n",
       "    .dataframe tbody tr th {\n",
       "        vertical-align: top;\n",
       "    }\n",
       "\n",
       "    .dataframe thead th {\n",
       "        text-align: right;\n",
       "    }\n",
       "</style>\n",
       "<table border=\"1\" class=\"dataframe\">\n",
       "  <thead>\n",
       "    <tr style=\"text-align: right;\">\n",
       "      <th></th>\n",
       "      <th>year</th>\n",
       "      <th>elected</th>\n",
       "      <th>age</th>\n",
       "      <th>male</th>\n",
       "      <th>militarycareer</th>\n",
       "      <th>tenure_months</th>\n",
       "      <th>anticipation</th>\n",
       "      <th>ref_ant</th>\n",
       "      <th>leg_ant</th>\n",
       "      <th>exec_ant</th>\n",
       "      <th>irreg_lead_ant</th>\n",
       "      <th>election_now</th>\n",
       "      <th>election_recent</th>\n",
       "      <th>leg_recent</th>\n",
       "      <th>exec_recent</th>\n",
       "      <th>lead_recent</th>\n",
       "      <th>ref_recent</th>\n",
       "      <th>direct_recent</th>\n",
       "      <th>indirect_recent</th>\n",
       "      <th>victory_recent</th>\n",
       "      <th>defeat_recent</th>\n",
       "      <th>change_recent</th>\n",
       "      <th>nochange_recent</th>\n",
       "      <th>delayed</th>\n",
       "      <th>lastelection</th>\n",
       "      <th>loss</th>\n",
       "      <th>irregular</th>\n",
       "      <th>prev_conflict</th>\n",
       "      <th>precip</th>\n",
       "      <th>yearcode</th>\n",
       "      <th>Dominant Party</th>\n",
       "      <th>Foreign/Occupied</th>\n",
       "      <th>Indirect Military</th>\n",
       "      <th>Military</th>\n",
       "      <th>Military-Personal</th>\n",
       "      <th>Monarchy</th>\n",
       "      <th>Oligarchy</th>\n",
       "      <th>Parliamentary Democracy</th>\n",
       "      <th>Party-Military</th>\n",
       "      <th>Party-Personal</th>\n",
       "      <th>Party-Personal-Military Hybrid</th>\n",
       "      <th>Personal Dictatorship</th>\n",
       "      <th>Presidential Democracy</th>\n",
       "      <th>Provisional - Civilian</th>\n",
       "      <th>Provisional - Military</th>\n",
       "      <th>Warlordism</th>\n",
       "      <th>pt_attempt</th>\n",
       "      <th>pt_suc</th>\n",
       "      <th>Life expectancy at birth, female (years)</th>\n",
       "      <th>GDP growth (annual %)</th>\n",
       "      <th>Mineral rents (% of GDP)</th>\n",
       "      <th>Oil rents (% of GDP)</th>\n",
       "      <th>Trade (% of GDP)</th>\n",
       "      <th>Foreign direct investment, net inflows (% of GDP)</th>\n",
       "      <th>Natural gas rents (% of GDP)</th>\n",
       "      <th>Population ages 0-14 (% of total population)</th>\n",
       "      <th>Rural population (% of total population)</th>\n",
       "      <th>Population growth (annual %)</th>\n",
       "      <th>Arable land (hectares per person)</th>\n",
       "      <th>Merchandise exports (current US$)</th>\n",
       "      <th>Merchandise imports (current US$)</th>\n",
       "      <th>Primary education, duration (years)</th>\n",
       "    </tr>\n",
       "  </thead>\n",
       "  <tbody>\n",
       "    <tr>\n",
       "      <td>76</td>\n",
       "      <td>2017.0</td>\n",
       "      <td>1.0</td>\n",
       "      <td>56.0</td>\n",
       "      <td>1</td>\n",
       "      <td>0.0</td>\n",
       "      <td>97.0</td>\n",
       "      <td>0.0</td>\n",
       "      <td>0.0</td>\n",
       "      <td>0.0</td>\n",
       "      <td>0.0</td>\n",
       "      <td>0.0</td>\n",
       "      <td>0.0</td>\n",
       "      <td>1.0</td>\n",
       "      <td>0.0</td>\n",
       "      <td>1.0</td>\n",
       "      <td>1.0</td>\n",
       "      <td>0.0</td>\n",
       "      <td>1.0</td>\n",
       "      <td>0.0</td>\n",
       "      <td>0.0</td>\n",
       "      <td>1.0</td>\n",
       "      <td>1.0</td>\n",
       "      <td>0.0</td>\n",
       "      <td>0.0</td>\n",
       "      <td>1.098612</td>\n",
       "      <td>1.098612</td>\n",
       "      <td>7.913887</td>\n",
       "      <td>1.0</td>\n",
       "      <td>0.447575</td>\n",
       "      <td>22017.0</td>\n",
       "      <td>0</td>\n",
       "      <td>0</td>\n",
       "      <td>0</td>\n",
       "      <td>0</td>\n",
       "      <td>0</td>\n",
       "      <td>0</td>\n",
       "      <td>0</td>\n",
       "      <td>0</td>\n",
       "      <td>0</td>\n",
       "      <td>0</td>\n",
       "      <td>0</td>\n",
       "      <td>0</td>\n",
       "      <td>1</td>\n",
       "      <td>0</td>\n",
       "      <td>0</td>\n",
       "      <td>0</td>\n",
       "      <td>False</td>\n",
       "      <td>False</td>\n",
       "      <td>81.1</td>\n",
       "      <td>2.21701</td>\n",
       "      <td>0.08085</td>\n",
       "      <td>0.177276</td>\n",
       "      <td>27.14232</td>\n",
       "      <td>1.820076</td>\n",
       "      <td>0.0</td>\n",
       "      <td>18.858528</td>\n",
       "      <td>17.942</td>\n",
       "      <td>0.631008</td>\n",
       "      <td>NaN</td>\n",
       "      <td>1.546273e+12</td>\n",
       "      <td>2.408476e+12</td>\n",
       "      <td>6.0</td>\n",
       "    </tr>\n",
       "    <tr>\n",
       "      <td>77</td>\n",
       "      <td>2017.0</td>\n",
       "      <td>1.0</td>\n",
       "      <td>71.0</td>\n",
       "      <td>1</td>\n",
       "      <td>0.0</td>\n",
       "      <td>1.0</td>\n",
       "      <td>0.0</td>\n",
       "      <td>0.0</td>\n",
       "      <td>0.0</td>\n",
       "      <td>0.0</td>\n",
       "      <td>0.0</td>\n",
       "      <td>0.0</td>\n",
       "      <td>1.0</td>\n",
       "      <td>0.0</td>\n",
       "      <td>1.0</td>\n",
       "      <td>1.0</td>\n",
       "      <td>0.0</td>\n",
       "      <td>1.0</td>\n",
       "      <td>0.0</td>\n",
       "      <td>0.0</td>\n",
       "      <td>1.0</td>\n",
       "      <td>1.0</td>\n",
       "      <td>0.0</td>\n",
       "      <td>0.0</td>\n",
       "      <td>1.098612</td>\n",
       "      <td>1.098612</td>\n",
       "      <td>7.913887</td>\n",
       "      <td>1.0</td>\n",
       "      <td>0.447575</td>\n",
       "      <td>22017.0</td>\n",
       "      <td>0</td>\n",
       "      <td>0</td>\n",
       "      <td>0</td>\n",
       "      <td>0</td>\n",
       "      <td>0</td>\n",
       "      <td>0</td>\n",
       "      <td>0</td>\n",
       "      <td>0</td>\n",
       "      <td>0</td>\n",
       "      <td>0</td>\n",
       "      <td>0</td>\n",
       "      <td>0</td>\n",
       "      <td>1</td>\n",
       "      <td>0</td>\n",
       "      <td>0</td>\n",
       "      <td>0</td>\n",
       "      <td>False</td>\n",
       "      <td>False</td>\n",
       "      <td>81.1</td>\n",
       "      <td>2.21701</td>\n",
       "      <td>0.08085</td>\n",
       "      <td>0.177276</td>\n",
       "      <td>27.14232</td>\n",
       "      <td>1.820076</td>\n",
       "      <td>0.0</td>\n",
       "      <td>18.858528</td>\n",
       "      <td>17.942</td>\n",
       "      <td>0.631008</td>\n",
       "      <td>NaN</td>\n",
       "      <td>1.546273e+12</td>\n",
       "      <td>2.408476e+12</td>\n",
       "      <td>6.0</td>\n",
       "    </tr>\n",
       "  </tbody>\n",
       "</table>\n",
       "</div>"
      ],
      "text/plain": [
       "      year  elected   age  male  militarycareer  tenure_months  anticipation  \\\n",
       "76  2017.0      1.0  56.0     1             0.0           97.0           0.0   \n",
       "77  2017.0      1.0  71.0     1             0.0            1.0           0.0   \n",
       "\n",
       "    ref_ant  leg_ant  exec_ant  irreg_lead_ant  election_now  election_recent  \\\n",
       "76      0.0      0.0       0.0             0.0           0.0              1.0   \n",
       "77      0.0      0.0       0.0             0.0           0.0              1.0   \n",
       "\n",
       "    leg_recent  exec_recent  lead_recent  ref_recent  direct_recent  \\\n",
       "76         0.0          1.0          1.0         0.0            1.0   \n",
       "77         0.0          1.0          1.0         0.0            1.0   \n",
       "\n",
       "    indirect_recent  victory_recent  defeat_recent  change_recent  \\\n",
       "76              0.0             0.0            1.0            1.0   \n",
       "77              0.0             0.0            1.0            1.0   \n",
       "\n",
       "    nochange_recent  delayed  lastelection      loss  irregular  \\\n",
       "76              0.0      0.0      1.098612  1.098612   7.913887   \n",
       "77              0.0      0.0      1.098612  1.098612   7.913887   \n",
       "\n",
       "    prev_conflict    precip  yearcode  Dominant Party  Foreign/Occupied  \\\n",
       "76            1.0  0.447575   22017.0               0                 0   \n",
       "77            1.0  0.447575   22017.0               0                 0   \n",
       "\n",
       "    Indirect Military  Military  Military-Personal  Monarchy  Oligarchy  \\\n",
       "76                  0         0                  0         0          0   \n",
       "77                  0         0                  0         0          0   \n",
       "\n",
       "    Parliamentary Democracy  Party-Military  Party-Personal  \\\n",
       "76                        0               0               0   \n",
       "77                        0               0               0   \n",
       "\n",
       "    Party-Personal-Military Hybrid  Personal Dictatorship  \\\n",
       "76                               0                      0   \n",
       "77                               0                      0   \n",
       "\n",
       "    Presidential Democracy  Provisional - Civilian  Provisional - Military  \\\n",
       "76                       1                       0                       0   \n",
       "77                       1                       0                       0   \n",
       "\n",
       "    Warlordism  pt_attempt  pt_suc  Life expectancy at birth, female (years)  \\\n",
       "76           0       False   False                                      81.1   \n",
       "77           0       False   False                                      81.1   \n",
       "\n",
       "    GDP growth (annual %)  Mineral rents (% of GDP)  Oil rents (% of GDP)  \\\n",
       "76                2.21701                   0.08085              0.177276   \n",
       "77                2.21701                   0.08085              0.177276   \n",
       "\n",
       "    Trade (% of GDP)  Foreign direct investment, net inflows (% of GDP)  \\\n",
       "76          27.14232                                           1.820076   \n",
       "77          27.14232                                           1.820076   \n",
       "\n",
       "    Natural gas rents (% of GDP)  \\\n",
       "76                           0.0   \n",
       "77                           0.0   \n",
       "\n",
       "    Population ages 0-14 (% of total population)  \\\n",
       "76                                     18.858528   \n",
       "77                                     18.858528   \n",
       "\n",
       "    Rural population (% of total population)  Population growth (annual %)  \\\n",
       "76                                    17.942                      0.631008   \n",
       "77                                    17.942                      0.631008   \n",
       "\n",
       "    Arable land (hectares per person)  Merchandise exports (current US$)  \\\n",
       "76                                NaN                       1.546273e+12   \n",
       "77                                NaN                       1.546273e+12   \n",
       "\n",
       "    Merchandise imports (current US$)  Primary education, duration (years)  \n",
       "76                       2.408476e+12                                  6.0  \n",
       "77                       2.408476e+12                                  6.0  "
      ]
     },
     "execution_count": 189,
     "metadata": {},
     "output_type": "execute_result"
    }
   ],
   "source": [
    "joint_df_thinner[joint_df_thinner['yearcode'] == 22017]"
   ]
  },
  {
   "cell_type": "code",
   "execution_count": 193,
   "metadata": {},
   "outputs": [],
   "source": [
    "US_dict['year'] = 2020\n",
    "US_dict['male']= 1\n",
    "US_dict['lastelection']= 3.78419\n",
    "US_dict['Presidential Democracy']= 1\n",
    "US_dict['Life expectancy at birth, female (years)']= 81.1\n",
    "US_dict['GDP growth (annual %)']= -5.0\n",
    "US_dict['Mineral rents (% of GDP)']= 0.075769\n",
    "US_dict['Oil rents (% of GDP)']= 0.09245,\n",
    "US_dict['Trade (% of GDP)']= 27.543903\n",
    "US_dict['Population ages 0-14 (% of total population)']= 18.70904\n",
    "US_dict['Population growth (annual %)']= 0.522337\n",
    "US_dict['constant'] = 1\n",
    "\n",
    "    "
   ]
  },
  {
   "cell_type": "code",
   "execution_count": 196,
   "metadata": {},
   "outputs": [
    {
     "data": {
      "text/plain": [
       "{'year': 2020,\n",
       " 'male': 1,\n",
       " 'militarycareer': 0,\n",
       " 'anticipation': 0,\n",
       " 'ref_ant': 0,\n",
       " 'leg_ant': 0,\n",
       " 'irreg_lead_ant': 0,\n",
       " 'election_now': 0,\n",
       " 'election_recent': 0,\n",
       " 'exec_recent': 0,\n",
       " 'indirect_recent': 0,\n",
       " 'defeat_recent': 0,\n",
       " 'change_recent': 0,\n",
       " 'delayed': 0,\n",
       " 'loss': 0,\n",
       " 'prev_conflict': 0,\n",
       " 'precip': 0,\n",
       " 'Dominant Party': 0,\n",
       " 'Foreign/Occupied': 0,\n",
       " 'Indirect Military': 0,\n",
       " 'Military': 0,\n",
       " 'Military-Personal': 0,\n",
       " 'Monarchy': 0,\n",
       " 'Oligarchy': 0,\n",
       " 'Parliamentary Democracy': 0,\n",
       " 'Party-Military': 0,\n",
       " 'Party-Personal': 0,\n",
       " 'Party-Personal-Military Hybrid': 0,\n",
       " 'Provisional - Civilian': 0,\n",
       " 'Provisional - Military': 0,\n",
       " 'Warlordism': 0,\n",
       " 'Life expectancy at birth, female (years)': 81.1,\n",
       " 'GDP growth (annual %)': -5.0,\n",
       " 'Mineral rents (% of GDP)': 0.075769,\n",
       " 'Oil rents (% of GDP)': (0.09245,),\n",
       " 'Trade (% of GDP)': 27.543903,\n",
       " 'Natural gas rents (% of GDP)': 0,\n",
       " 'Population ages 0-14 (% of total population)': 18.70904,\n",
       " 'Rural population (% of total population)': 0,\n",
       " 'Population growth (annual %)': 0.522337,\n",
       " 'Arable land (hectares per person)': 0,\n",
       " 'Merchandise exports (current US$)': 0,\n",
       " 'constant': 1,\n",
       " 'lastelection': 3.78419,\n",
       " 'Presidential Democracy': 1}"
      ]
     },
     "execution_count": 196,
     "metadata": {},
     "output_type": "execute_result"
    }
   ],
   "source": [
    "US_dict"
   ]
  },
  {
   "cell_type": "code",
   "execution_count": 36,
   "metadata": {},
   "outputs": [],
   "source": [
    "y_dfj2020 = dfj2020['pt_attempt']\n",
    "X_dfj2020 = dfj2020.drop(['pt_attempt','pt_suc'], axis = 1)"
   ]
  },
  {
   "cell_type": "code",
   "execution_count": 38,
   "metadata": {},
   "outputs": [
    {
     "data": {
      "text/plain": [
       "Index(['year', 'victory_recent', 'defeat_recent', 'change_recent',\n",
       "       'nochange_recent', 'delayed', 'lastelection', 'loss', 'irregular',\n",
       "       'prev_conflict', 'Life expectancy at birth, female (years)',\n",
       "       'GDP growth (annual %)', 'Mineral rents (% of GDP)',\n",
       "       'Oil rents (% of GDP)', 'Trade (% of GDP)',\n",
       "       'Population ages 0-14 (% of total population)',\n",
       "       'Population growth (annual %)', 'Dominant Party', 'Foreign/Occupied',\n",
       "       'Indirect Military', 'Military', 'Military-Personal', 'Monarchy',\n",
       "       'Oligarchy', 'Party-Personal', 'Presidential Democracy',\n",
       "       'Provisional - Civilian', 'Constant'],\n",
       "      dtype='object')"
      ]
     },
     "execution_count": 38,
     "metadata": {},
     "output_type": "execute_result"
    }
   ],
   "source": [
    "X_dfj2020.columns"
   ]
  },
  {
   "cell_type": "code",
   "execution_count": 139,
   "metadata": {},
   "outputs": [],
   "source": [
    "usj2020 = pd.DataFrame.from_dict(us2020dict)"
   ]
  },
  {
   "cell_type": "code",
   "execution_count": 141,
   "metadata": {},
   "outputs": [
    {
     "ename": "ValueError",
     "evalue": "operands could not be broadcast together with shapes (1,27) (43,) (1,27) ",
     "output_type": "error",
     "traceback": [
      "\u001b[0;31m---------------------------------------------------------------------------\u001b[0m",
      "\u001b[0;31mValueError\u001b[0m                                Traceback (most recent call last)",
      "\u001b[0;32m<ipython-input-141-a7c603fb0961>\u001b[0m in \u001b[0;36m<module>\u001b[0;34m\u001b[0m\n\u001b[0;32m----> 1\u001b[0;31m \u001b[0melasticpipe\u001b[0m\u001b[0;34m.\u001b[0m\u001b[0mpredict_proba\u001b[0m\u001b[0;34m(\u001b[0m\u001b[0musj2020\u001b[0m\u001b[0;34m)\u001b[0m\u001b[0;34m\u001b[0m\u001b[0;34m\u001b[0m\u001b[0m\n\u001b[0m",
      "\u001b[0;32m~/opt/anaconda3/lib/python3.7/site-packages/sklearn/utils/metaestimators.py\u001b[0m in \u001b[0;36m<lambda>\u001b[0;34m(*args, **kwargs)\u001b[0m\n\u001b[1;32m    114\u001b[0m \u001b[0;34m\u001b[0m\u001b[0m\n\u001b[1;32m    115\u001b[0m         \u001b[0;31m# lambda, but not partial, allows help() to work with update_wrapper\u001b[0m\u001b[0;34m\u001b[0m\u001b[0;34m\u001b[0m\u001b[0;34m\u001b[0m\u001b[0m\n\u001b[0;32m--> 116\u001b[0;31m         \u001b[0mout\u001b[0m \u001b[0;34m=\u001b[0m \u001b[0;32mlambda\u001b[0m \u001b[0;34m*\u001b[0m\u001b[0margs\u001b[0m\u001b[0;34m,\u001b[0m \u001b[0;34m**\u001b[0m\u001b[0mkwargs\u001b[0m\u001b[0;34m:\u001b[0m \u001b[0mself\u001b[0m\u001b[0;34m.\u001b[0m\u001b[0mfn\u001b[0m\u001b[0;34m(\u001b[0m\u001b[0mobj\u001b[0m\u001b[0;34m,\u001b[0m \u001b[0;34m*\u001b[0m\u001b[0margs\u001b[0m\u001b[0;34m,\u001b[0m \u001b[0;34m**\u001b[0m\u001b[0mkwargs\u001b[0m\u001b[0;34m)\u001b[0m\u001b[0;34m\u001b[0m\u001b[0;34m\u001b[0m\u001b[0m\n\u001b[0m\u001b[1;32m    117\u001b[0m         \u001b[0;31m# update the docstring of the returned function\u001b[0m\u001b[0;34m\u001b[0m\u001b[0;34m\u001b[0m\u001b[0;34m\u001b[0m\u001b[0m\n\u001b[1;32m    118\u001b[0m         \u001b[0mupdate_wrapper\u001b[0m\u001b[0;34m(\u001b[0m\u001b[0mout\u001b[0m\u001b[0;34m,\u001b[0m \u001b[0mself\u001b[0m\u001b[0;34m.\u001b[0m\u001b[0mfn\u001b[0m\u001b[0;34m)\u001b[0m\u001b[0;34m\u001b[0m\u001b[0;34m\u001b[0m\u001b[0m\n",
      "\u001b[0;32m~/opt/anaconda3/lib/python3.7/site-packages/sklearn/pipeline.py\u001b[0m in \u001b[0;36mpredict_proba\u001b[0;34m(self, X)\u001b[0m\n\u001b[1;32m    471\u001b[0m         \u001b[0mXt\u001b[0m \u001b[0;34m=\u001b[0m \u001b[0mX\u001b[0m\u001b[0;34m\u001b[0m\u001b[0;34m\u001b[0m\u001b[0m\n\u001b[1;32m    472\u001b[0m         \u001b[0;32mfor\u001b[0m \u001b[0m_\u001b[0m\u001b[0;34m,\u001b[0m \u001b[0mname\u001b[0m\u001b[0;34m,\u001b[0m \u001b[0mtransform\u001b[0m \u001b[0;32min\u001b[0m \u001b[0mself\u001b[0m\u001b[0;34m.\u001b[0m\u001b[0m_iter\u001b[0m\u001b[0;34m(\u001b[0m\u001b[0mwith_final\u001b[0m\u001b[0;34m=\u001b[0m\u001b[0;32mFalse\u001b[0m\u001b[0;34m)\u001b[0m\u001b[0;34m:\u001b[0m\u001b[0;34m\u001b[0m\u001b[0;34m\u001b[0m\u001b[0m\n\u001b[0;32m--> 473\u001b[0;31m             \u001b[0mXt\u001b[0m \u001b[0;34m=\u001b[0m \u001b[0mtransform\u001b[0m\u001b[0;34m.\u001b[0m\u001b[0mtransform\u001b[0m\u001b[0;34m(\u001b[0m\u001b[0mXt\u001b[0m\u001b[0;34m)\u001b[0m\u001b[0;34m\u001b[0m\u001b[0;34m\u001b[0m\u001b[0m\n\u001b[0m\u001b[1;32m    474\u001b[0m         \u001b[0;32mreturn\u001b[0m \u001b[0mself\u001b[0m\u001b[0;34m.\u001b[0m\u001b[0msteps\u001b[0m\u001b[0;34m[\u001b[0m\u001b[0;34m-\u001b[0m\u001b[0;36m1\u001b[0m\u001b[0;34m]\u001b[0m\u001b[0;34m[\u001b[0m\u001b[0;34m-\u001b[0m\u001b[0;36m1\u001b[0m\u001b[0;34m]\u001b[0m\u001b[0;34m.\u001b[0m\u001b[0mpredict_proba\u001b[0m\u001b[0;34m(\u001b[0m\u001b[0mXt\u001b[0m\u001b[0;34m)\u001b[0m\u001b[0;34m\u001b[0m\u001b[0;34m\u001b[0m\u001b[0m\n\u001b[1;32m    475\u001b[0m \u001b[0;34m\u001b[0m\u001b[0m\n",
      "\u001b[0;32m~/opt/anaconda3/lib/python3.7/site-packages/sklearn/preprocessing/data.py\u001b[0m in \u001b[0;36mtransform\u001b[0;34m(self, X, copy)\u001b[0m\n\u001b[1;32m    767\u001b[0m         \u001b[0;32melse\u001b[0m\u001b[0;34m:\u001b[0m\u001b[0;34m\u001b[0m\u001b[0;34m\u001b[0m\u001b[0m\n\u001b[1;32m    768\u001b[0m             \u001b[0;32mif\u001b[0m \u001b[0mself\u001b[0m\u001b[0;34m.\u001b[0m\u001b[0mwith_mean\u001b[0m\u001b[0;34m:\u001b[0m\u001b[0;34m\u001b[0m\u001b[0;34m\u001b[0m\u001b[0m\n\u001b[0;32m--> 769\u001b[0;31m                 \u001b[0mX\u001b[0m \u001b[0;34m-=\u001b[0m \u001b[0mself\u001b[0m\u001b[0;34m.\u001b[0m\u001b[0mmean_\u001b[0m\u001b[0;34m\u001b[0m\u001b[0;34m\u001b[0m\u001b[0m\n\u001b[0m\u001b[1;32m    770\u001b[0m             \u001b[0;32mif\u001b[0m \u001b[0mself\u001b[0m\u001b[0;34m.\u001b[0m\u001b[0mwith_std\u001b[0m\u001b[0;34m:\u001b[0m\u001b[0;34m\u001b[0m\u001b[0;34m\u001b[0m\u001b[0m\n\u001b[1;32m    771\u001b[0m                 \u001b[0mX\u001b[0m \u001b[0;34m/=\u001b[0m \u001b[0mself\u001b[0m\u001b[0;34m.\u001b[0m\u001b[0mscale_\u001b[0m\u001b[0;34m\u001b[0m\u001b[0;34m\u001b[0m\u001b[0m\n",
      "\u001b[0;31mValueError\u001b[0m: operands could not be broadcast together with shapes (1,27) (43,) (1,27) "
     ]
    }
   ],
   "source": [
    "elasticpipe.predict_proba(usj2020)"
   ]
  },
  {
   "cell_type": "code",
   "execution_count": 137,
   "metadata": {},
   "outputs": [
    {
     "data": {
      "text/plain": [
       "{'year': [2020],\n",
       " 'male': [1],\n",
       " 'irreg_lead_ant': [0],\n",
       " 'election_recent': [0],\n",
       " 'victory_recent': [0],\n",
       " 'nochange_recent': [0],\n",
       " 'lastelection': [3.78419],\n",
       " 'irregular': [7.928766],\n",
       " 'yearcode': [22020],\n",
       " 'Dominant Party': [0],\n",
       " 'Foreign/Occupied': [0],\n",
       " 'Indirect Military': [0],\n",
       " 'Military': [0],\n",
       " 'Military-Personal': [0],\n",
       " 'Monarchy': [0],\n",
       " 'Oligarchy': [0],\n",
       " 'Party-Personal': [0],\n",
       " 'Presidential Democracy': [1],\n",
       " 'Provisional - Civilian': [0],\n",
       " 'Life expectancy at birth, female (years)': [81.1],\n",
       " 'GDP growth (annual %)': [-5.0],\n",
       " 'Mineral rents (% of GDP)': [0.075769],\n",
       " 'Oil rents (% of GDP)': [0.09245],\n",
       " 'Trade (% of GDP)': [27.543903],\n",
       " 'Population ages 0-14 (% of total population)': [18.70904],\n",
       " 'Population growth (annual %)': [0.522337],\n",
       " 'constant': [1]}"
      ]
     },
     "execution_count": 137,
     "metadata": {},
     "output_type": "execute_result"
    }
   ],
   "source": [
    "us2020dict"
   ]
  },
  {
   "cell_type": "code",
   "execution_count": 54,
   "metadata": {},
   "outputs": [
    {
     "data": {
      "text/html": [
       "<div>\n",
       "<style scoped>\n",
       "    .dataframe tbody tr th:only-of-type {\n",
       "        vertical-align: middle;\n",
       "    }\n",
       "\n",
       "    .dataframe tbody tr th {\n",
       "        vertical-align: top;\n",
       "    }\n",
       "\n",
       "    .dataframe thead th {\n",
       "        text-align: right;\n",
       "    }\n",
       "</style>\n",
       "<table border=\"1\" class=\"dataframe\">\n",
       "  <thead>\n",
       "    <tr style=\"text-align: right;\">\n",
       "      <th></th>\n",
       "      <th>year</th>\n",
       "      <th>male</th>\n",
       "      <th>irreg_lead_ant</th>\n",
       "      <th>election_recent</th>\n",
       "      <th>victory_recent</th>\n",
       "      <th>nochange_recent</th>\n",
       "      <th>lastelection</th>\n",
       "      <th>irregular</th>\n",
       "      <th>yearcode</th>\n",
       "      <th>Dominant Party</th>\n",
       "      <th>Foreign/Occupied</th>\n",
       "      <th>Indirect Military</th>\n",
       "      <th>Military</th>\n",
       "      <th>Military-Personal</th>\n",
       "      <th>Monarchy</th>\n",
       "      <th>Oligarchy</th>\n",
       "      <th>Party-Personal</th>\n",
       "      <th>Presidential Democracy</th>\n",
       "      <th>Provisional - Civilian</th>\n",
       "      <th>Life expectancy at birth, female (years)</th>\n",
       "      <th>GDP growth (annual %)</th>\n",
       "      <th>Mineral rents (% of GDP)</th>\n",
       "      <th>Oil rents (% of GDP)</th>\n",
       "      <th>Trade (% of GDP)</th>\n",
       "      <th>Population ages 0-14 (% of total population)</th>\n",
       "      <th>Population growth (annual %)</th>\n",
       "      <th>constant</th>\n",
       "    </tr>\n",
       "  </thead>\n",
       "  <tbody>\n",
       "    <tr>\n",
       "      <td>76</td>\n",
       "      <td>2017.0</td>\n",
       "      <td>1</td>\n",
       "      <td>0.0</td>\n",
       "      <td>1.0</td>\n",
       "      <td>0.0</td>\n",
       "      <td>0.0</td>\n",
       "      <td>1.098612</td>\n",
       "      <td>7.913887</td>\n",
       "      <td>22017.0</td>\n",
       "      <td>0</td>\n",
       "      <td>0</td>\n",
       "      <td>0</td>\n",
       "      <td>0</td>\n",
       "      <td>0</td>\n",
       "      <td>0</td>\n",
       "      <td>0</td>\n",
       "      <td>0</td>\n",
       "      <td>1</td>\n",
       "      <td>0</td>\n",
       "      <td>81.1</td>\n",
       "      <td>2.21701</td>\n",
       "      <td>0.08085</td>\n",
       "      <td>0.177276</td>\n",
       "      <td>27.14232</td>\n",
       "      <td>18.858528</td>\n",
       "      <td>0.631008</td>\n",
       "      <td>1</td>\n",
       "    </tr>\n",
       "    <tr>\n",
       "      <td>77</td>\n",
       "      <td>2017.0</td>\n",
       "      <td>1</td>\n",
       "      <td>0.0</td>\n",
       "      <td>1.0</td>\n",
       "      <td>0.0</td>\n",
       "      <td>0.0</td>\n",
       "      <td>1.098612</td>\n",
       "      <td>7.913887</td>\n",
       "      <td>22017.0</td>\n",
       "      <td>0</td>\n",
       "      <td>0</td>\n",
       "      <td>0</td>\n",
       "      <td>0</td>\n",
       "      <td>0</td>\n",
       "      <td>0</td>\n",
       "      <td>0</td>\n",
       "      <td>0</td>\n",
       "      <td>1</td>\n",
       "      <td>0</td>\n",
       "      <td>81.1</td>\n",
       "      <td>2.21701</td>\n",
       "      <td>0.08085</td>\n",
       "      <td>0.177276</td>\n",
       "      <td>27.14232</td>\n",
       "      <td>18.858528</td>\n",
       "      <td>0.631008</td>\n",
       "      <td>1</td>\n",
       "    </tr>\n",
       "  </tbody>\n",
       "</table>\n",
       "</div>"
      ],
      "text/plain": [
       "      year  male  irreg_lead_ant  election_recent  victory_recent  \\\n",
       "76  2017.0     1             0.0              1.0             0.0   \n",
       "77  2017.0     1             0.0              1.0             0.0   \n",
       "\n",
       "    nochange_recent  lastelection  irregular  yearcode  Dominant Party  \\\n",
       "76              0.0      1.098612   7.913887   22017.0               0   \n",
       "77              0.0      1.098612   7.913887   22017.0               0   \n",
       "\n",
       "    Foreign/Occupied  Indirect Military  Military  Military-Personal  \\\n",
       "76                 0                  0         0                  0   \n",
       "77                 0                  0         0                  0   \n",
       "\n",
       "    Monarchy  Oligarchy  Party-Personal  Presidential Democracy  \\\n",
       "76         0          0               0                       1   \n",
       "77         0          0               0                       1   \n",
       "\n",
       "    Provisional - Civilian  Life expectancy at birth, female (years)  \\\n",
       "76                       0                                      81.1   \n",
       "77                       0                                      81.1   \n",
       "\n",
       "    GDP growth (annual %)  Mineral rents (% of GDP)  Oil rents (% of GDP)  \\\n",
       "76                2.21701                   0.08085              0.177276   \n",
       "77                2.21701                   0.08085              0.177276   \n",
       "\n",
       "    Trade (% of GDP)  Population ages 0-14 (% of total population)  \\\n",
       "76          27.14232                                     18.858528   \n",
       "77          27.14232                                     18.858528   \n",
       "\n",
       "    Population growth (annual %)  constant  \n",
       "76                      0.631008         1  \n",
       "77                      0.631008         1  "
      ]
     },
     "execution_count": 54,
     "metadata": {},
     "output_type": "execute_result"
    }
   ],
   "source": [
    "X[X['yearcode'] == 22017]"
   ]
  },
  {
   "cell_type": "code",
   "execution_count": 55,
   "metadata": {},
   "outputs": [],
   "source": [
    "us2017dict = {'year': [2017], \n",
    "'male': [1], \n",
    "'irreg_lead_ant': [0],\n",
    "'election_recent': [0], \n",
    "'victory_recent': [0],\n",
    "'nochange_recent': [0], \n",
    "'lastelection': [1.098612],\n",
    "'irregular': [7.913887],\n",
    "'yearcode': [22017], \n",
    "'Dominant Party': [0],\n",
    "'Foreign/Occupied': [0], \n",
    "'Indirect Military': [0], \n",
    "'Military': [0], \n",
    "'Military-Personal': [0],\n",
    "'Monarchy':[0], \n",
    "'Oligarchy': [0],\n",
    "'Party-Personal': [0],\n",
    "'Presidential Democracy': [1],\n",
    "'Provisional - Civilian': [0], \n",
    "'Life expectancy at birth, female (years)': [81.1], \n",
    "'GDP growth (annual %)': [2.21701], \n",
    "'Mineral rents (% of GDP)': [0.08085],\n",
    "'Oil rents (% of GDP)': [0.177276], \n",
    "'Trade (% of GDP)': [27.14232],\n",
    "'Population ages 0-14 (% of total population)': [18.858528], \n",
    "'Population growth (annual %)': [0.631008],\n",
    "'constant': [1]}"
   ]
  },
  {
   "cell_type": "code",
   "execution_count": 45,
   "metadata": {},
   "outputs": [],
   "source": [
    "usj2020 = pd.DataFrame.from_dict(us2020dict)"
   ]
  },
  {
   "cell_type": "code",
   "execution_count": 56,
   "metadata": {},
   "outputs": [],
   "source": [
    "usj2017 = pd.DataFrame.from_dict(us2017dict)"
   ]
  },
  {
   "cell_type": "code",
   "execution_count": 46,
   "metadata": {},
   "outputs": [
    {
     "data": {
      "text/plain": [
       "array([[0.89591695, 0.10408305]])"
      ]
     },
     "execution_count": 46,
     "metadata": {},
     "output_type": "execute_result"
    }
   ],
   "source": [
    "logl1pipe.predict_proba(usj2020)"
   ]
  },
  {
   "cell_type": "code",
   "execution_count": 57,
   "metadata": {},
   "outputs": [
    {
     "data": {
      "text/plain": [
       "array([[0.98261326, 0.01738674]])"
      ]
     },
     "execution_count": 57,
     "metadata": {},
     "output_type": "execute_result"
    }
   ],
   "source": [
    "logl1pipe.predict_proba(usj2017)"
   ]
  },
  {
   "cell_type": "code",
   "execution_count": 62,
   "metadata": {},
   "outputs": [],
   "source": [
    "ushypodict = {'year': [2017], \n",
    "'male': [1], \n",
    "'irreg_lead_ant': [0],\n",
    "'election_recent': [0], \n",
    "'victory_recent': [0],\n",
    "'nochange_recent': [0], \n",
    "'lastelection': [1.098612],\n",
    "'irregular': [7.913887],\n",
    "'yearcode': [22017], \n",
    "'Dominant Party': [0],\n",
    "'Foreign/Occupied': [0], \n",
    "'Indirect Military': [0], \n",
    "'Military': [0], \n",
    "'Military-Personal': [0],\n",
    "'Monarchy':[0], \n",
    "'Oligarchy': [0],\n",
    "'Party-Personal': [0],\n",
    "'Presidential Democracy': [1],\n",
    "'Provisional - Civilian': [0], \n",
    "'Life expectancy at birth, female (years)': [61.1], \n",
    "'GDP growth (annual %)': [-10], \n",
    "'Mineral rents (% of GDP)': [0.08085],\n",
    "'Oil rents (% of GDP)': [0.177276], \n",
    "'Trade (% of GDP)': [7.14232],\n",
    "'Population ages 0-14 (% of total population)': [18.858528], \n",
    "'Population growth (annual %)': [0.631008],\n",
    "'constant': [1]}"
   ]
  },
  {
   "cell_type": "code",
   "execution_count": 63,
   "metadata": {},
   "outputs": [],
   "source": [
    "hypo = pd.DataFrame.from_dict(ushypodict)"
   ]
  },
  {
   "cell_type": "code",
   "execution_count": 64,
   "metadata": {},
   "outputs": [
    {
     "data": {
      "text/plain": [
       "array([[0.88841336, 0.11158664]])"
      ]
     },
     "execution_count": 64,
     "metadata": {},
     "output_type": "execute_result"
    }
   ],
   "source": [
    "logl1pipe.predict_proba(hypo)"
   ]
  },
  {
   "cell_type": "code",
   "execution_count": 47,
   "metadata": {},
   "outputs": [
    {
     "data": {
      "text/plain": [
       "(6031, 27)"
      ]
     },
     "execution_count": 47,
     "metadata": {},
     "output_type": "execute_result"
    }
   ],
   "source": [
    "X.shape"
   ]
  },
  {
   "cell_type": "code",
   "execution_count": 48,
   "metadata": {},
   "outputs": [],
   "source": [
    "y = joint_df_3['pt_attempt']\n",
    "X = joint_df_3.drop(['pt_attempt','pt_suc'], axis = 1)\n",
    "X_train, X_test, y_train, y_test = train_test_split(X, y, test_size= .25, random_state= 40, stratify = y)\n"
   ]
  },
  {
   "cell_type": "code",
   "execution_count": 49,
   "metadata": {},
   "outputs": [
    {
     "name": "stdout",
     "output_type": "stream",
     "text": [
      "accuracy = 0.7974921630094044\n",
      "recall = 0.673469387755102\n",
      "precision = 0.09705882352941177\n",
      "f1 score = 0.16966580976863754\n"
     ]
    }
   ],
   "source": [
    "clf = RandomForestClassifier(max_depth=5, n_estimators=1000)\n",
    "rfpipe = Pipeline([('scaler', StandardScaler()),('rf', clf)])\n",
    "X_up, y_up = upsampler(X_train, y_train, ratio = 1)\n",
    "rfpipe.fit(X_up, y_up)\n",
    "metric_test(rfpipe, X_test, y_test)\n",
    "#get_feature_weights(rfpipe, X.columns)"
   ]
  },
  {
   "cell_type": "code",
   "execution_count": 110,
   "metadata": {},
   "outputs": [
    {
     "data": {
      "text/plain": [
       "Index(['year', 'male', 'irreg_lead_ant', 'election_recent', 'victory_recent',\n",
       "       'nochange_recent', 'lastelection', 'irregular', 'yearcode',\n",
       "       'Dominant Party', 'Foreign/Occupied', 'Indirect Military', 'Military',\n",
       "       'Military-Personal', 'Monarchy', 'Oligarchy', 'Party-Personal',\n",
       "       'Presidential Democracy', 'Provisional - Civilian',\n",
       "       'Life expectancy at birth, female (years)', 'GDP growth (annual %)',\n",
       "       'Mineral rents (% of GDP)', 'Oil rents (% of GDP)', 'Trade (% of GDP)',\n",
       "       'Population ages 0-14 (% of total population)',\n",
       "       'Population growth (annual %)', 'constant'],\n",
       "      dtype='object')"
      ]
     },
     "execution_count": 110,
     "metadata": {},
     "output_type": "execute_result"
    }
   ],
   "source": [
    "X.columns"
   ]
  },
  {
   "cell_type": "code",
   "execution_count": 157,
   "metadata": {},
   "outputs": [
    {
     "data": {
      "text/plain": [
       "Pipeline(memory=None,\n",
       "         steps=[('scaler',\n",
       "                 StandardScaler(copy=True, with_mean=True, with_std=True)),\n",
       "                ('ridge_scaled',\n",
       "                 LogisticRegressionCV(Cs=10, class_weight=None, cv=5,\n",
       "                                      dual=False, fit_intercept=True,\n",
       "                                      intercept_scaling=1.0,\n",
       "                                      l1_ratios=[0, 0.3, 0.5, 0.7, 1],\n",
       "                                      max_iter=100, multi_class='warn',\n",
       "                                      n_jobs=2, penalty='elasticnet',\n",
       "                                      random_state=None, refit=True,\n",
       "                                      scoring='recall', solver='saga',\n",
       "                                      tol=0.0001, verbose=0))],\n",
       "         verbose=False)"
      ]
     },
     "execution_count": 157,
     "metadata": {},
     "output_type": "execute_result"
    }
   ],
   "source": [
    "logl1pipe"
   ]
  },
  {
   "cell_type": "code",
   "execution_count": 65,
   "metadata": {},
   "outputs": [
    {
     "name": "stderr",
     "output_type": "stream",
     "text": [
      "/Users/taylorbritt/opt/anaconda3/lib/python3.7/site-packages/sklearn/linear_model/sag.py:337: ConvergenceWarning: The max_iter was reached which means the coef_ did not converge\n",
      "  \"the coef_ did not converge\", ConvergenceWarning)\n",
      "/Users/taylorbritt/opt/anaconda3/lib/python3.7/site-packages/sklearn/linear_model/sag.py:337: ConvergenceWarning: The max_iter was reached which means the coef_ did not converge\n",
      "  \"the coef_ did not converge\", ConvergenceWarning)\n",
      "/Users/taylorbritt/opt/anaconda3/lib/python3.7/site-packages/sklearn/linear_model/sag.py:337: ConvergenceWarning: The max_iter was reached which means the coef_ did not converge\n",
      "  \"the coef_ did not converge\", ConvergenceWarning)\n",
      "/Users/taylorbritt/opt/anaconda3/lib/python3.7/site-packages/sklearn/linear_model/sag.py:337: ConvergenceWarning: The max_iter was reached which means the coef_ did not converge\n",
      "  \"the coef_ did not converge\", ConvergenceWarning)\n",
      "/Users/taylorbritt/opt/anaconda3/lib/python3.7/site-packages/sklearn/linear_model/sag.py:337: ConvergenceWarning: The max_iter was reached which means the coef_ did not converge\n",
      "  \"the coef_ did not converge\", ConvergenceWarning)\n",
      "/Users/taylorbritt/opt/anaconda3/lib/python3.7/site-packages/sklearn/linear_model/sag.py:337: ConvergenceWarning: The max_iter was reached which means the coef_ did not converge\n",
      "  \"the coef_ did not converge\", ConvergenceWarning)\n",
      "/Users/taylorbritt/opt/anaconda3/lib/python3.7/site-packages/sklearn/linear_model/sag.py:337: ConvergenceWarning: The max_iter was reached which means the coef_ did not converge\n",
      "  \"the coef_ did not converge\", ConvergenceWarning)\n",
      "/Users/taylorbritt/opt/anaconda3/lib/python3.7/site-packages/sklearn/linear_model/sag.py:337: ConvergenceWarning: The max_iter was reached which means the coef_ did not converge\n",
      "  \"the coef_ did not converge\", ConvergenceWarning)\n",
      "/Users/taylorbritt/opt/anaconda3/lib/python3.7/site-packages/sklearn/linear_model/sag.py:337: ConvergenceWarning: The max_iter was reached which means the coef_ did not converge\n",
      "  \"the coef_ did not converge\", ConvergenceWarning)\n",
      "/Users/taylorbritt/opt/anaconda3/lib/python3.7/site-packages/sklearn/linear_model/sag.py:337: ConvergenceWarning: The max_iter was reached which means the coef_ did not converge\n",
      "  \"the coef_ did not converge\", ConvergenceWarning)\n",
      "/Users/taylorbritt/opt/anaconda3/lib/python3.7/site-packages/sklearn/linear_model/sag.py:337: ConvergenceWarning: The max_iter was reached which means the coef_ did not converge\n",
      "  \"the coef_ did not converge\", ConvergenceWarning)\n",
      "/Users/taylorbritt/opt/anaconda3/lib/python3.7/site-packages/sklearn/linear_model/sag.py:337: ConvergenceWarning: The max_iter was reached which means the coef_ did not converge\n",
      "  \"the coef_ did not converge\", ConvergenceWarning)\n",
      "/Users/taylorbritt/opt/anaconda3/lib/python3.7/site-packages/sklearn/linear_model/sag.py:337: ConvergenceWarning: The max_iter was reached which means the coef_ did not converge\n",
      "  \"the coef_ did not converge\", ConvergenceWarning)\n",
      "/Users/taylorbritt/opt/anaconda3/lib/python3.7/site-packages/sklearn/linear_model/sag.py:337: ConvergenceWarning: The max_iter was reached which means the coef_ did not converge\n",
      "  \"the coef_ did not converge\", ConvergenceWarning)\n",
      "/Users/taylorbritt/opt/anaconda3/lib/python3.7/site-packages/sklearn/linear_model/sag.py:337: ConvergenceWarning: The max_iter was reached which means the coef_ did not converge\n",
      "  \"the coef_ did not converge\", ConvergenceWarning)\n",
      "/Users/taylorbritt/opt/anaconda3/lib/python3.7/site-packages/sklearn/linear_model/sag.py:337: ConvergenceWarning: The max_iter was reached which means the coef_ did not converge\n",
      "  \"the coef_ did not converge\", ConvergenceWarning)\n",
      "/Users/taylorbritt/opt/anaconda3/lib/python3.7/site-packages/sklearn/linear_model/sag.py:337: ConvergenceWarning: The max_iter was reached which means the coef_ did not converge\n",
      "  \"the coef_ did not converge\", ConvergenceWarning)\n",
      "/Users/taylorbritt/opt/anaconda3/lib/python3.7/site-packages/sklearn/linear_model/sag.py:337: ConvergenceWarning: The max_iter was reached which means the coef_ did not converge\n",
      "  \"the coef_ did not converge\", ConvergenceWarning)\n",
      "/Users/taylorbritt/opt/anaconda3/lib/python3.7/site-packages/sklearn/linear_model/sag.py:337: ConvergenceWarning: The max_iter was reached which means the coef_ did not converge\n",
      "  \"the coef_ did not converge\", ConvergenceWarning)\n",
      "/Users/taylorbritt/opt/anaconda3/lib/python3.7/site-packages/sklearn/linear_model/sag.py:337: ConvergenceWarning: The max_iter was reached which means the coef_ did not converge\n",
      "  \"the coef_ did not converge\", ConvergenceWarning)\n",
      "/Users/taylorbritt/opt/anaconda3/lib/python3.7/site-packages/sklearn/linear_model/sag.py:337: ConvergenceWarning: The max_iter was reached which means the coef_ did not converge\n",
      "  \"the coef_ did not converge\", ConvergenceWarning)\n",
      "/Users/taylorbritt/opt/anaconda3/lib/python3.7/site-packages/sklearn/linear_model/sag.py:337: ConvergenceWarning: The max_iter was reached which means the coef_ did not converge\n",
      "  \"the coef_ did not converge\", ConvergenceWarning)\n",
      "/Users/taylorbritt/opt/anaconda3/lib/python3.7/site-packages/sklearn/linear_model/sag.py:337: ConvergenceWarning: The max_iter was reached which means the coef_ did not converge\n",
      "  \"the coef_ did not converge\", ConvergenceWarning)\n",
      "/Users/taylorbritt/opt/anaconda3/lib/python3.7/site-packages/sklearn/linear_model/sag.py:337: ConvergenceWarning: The max_iter was reached which means the coef_ did not converge\n",
      "  \"the coef_ did not converge\", ConvergenceWarning)\n",
      "/Users/taylorbritt/opt/anaconda3/lib/python3.7/site-packages/sklearn/linear_model/sag.py:337: ConvergenceWarning: The max_iter was reached which means the coef_ did not converge\n",
      "  \"the coef_ did not converge\", ConvergenceWarning)\n"
     ]
    },
    {
     "name": "stdout",
     "output_type": "stream",
     "text": [
      "accuracy = 0.7818181818181819\n",
      "recall = 0.7551020408163265\n",
      "precision = 0.09919571045576407\n",
      "f1 score = 0.17535545023696683\n"
     ]
    },
    {
     "data": {
      "text/plain": [
       "GDP growth (annual %)                          -0.510773\n",
       "Life expectancy at birth, female (years)       -0.466309\n",
       "year                                           -0.286119\n",
       "Monarchy                                       -0.251277\n",
       "election_recent                                -0.251069\n",
       "Trade (% of GDP)                               -0.238177\n",
       "Dominant Party                                 -0.200396\n",
       "Oligarchy                                      -0.114081\n",
       "Oil rents (% of GDP)                           -0.106620\n",
       "Foreign/Occupied                               -0.076581\n",
       "male                                           -0.059179\n",
       "Party-Personal                                 -0.057282\n",
       "Presidential Democracy                          0.000000\n",
       "constant                                        0.000000\n",
       "yearcode                                        0.000000\n",
       "nochange_recent                                 0.000000\n",
       "victory_recent                                  0.000000\n",
       "lastelection                                    0.015892\n",
       "Indirect Military                               0.031933\n",
       "Mineral rents (% of GDP)                        0.078661\n",
       "irreg_lead_ant                                  0.089138\n",
       "Provisional - Civilian                          0.138739\n",
       "Military-Personal                               0.171481\n",
       "Military                                        0.224804\n",
       "Population growth (annual %)                    0.233071\n",
       "Population ages 0-14 (% of total population)    0.312775\n",
       "dtype: float64"
      ]
     },
     "execution_count": 65,
     "metadata": {},
     "output_type": "execute_result"
    }
   ],
   "source": [
    "y = joint_df_3['pt_attempt']\n",
    "X = joint_df_3.drop(['pt_attempt','pt_suc', 'irregular'], axis = 1)\n",
    "X_train, X_test, y_train, y_test = train_test_split(X, y, test_size= .25, random_state= 40, stratify = y)\n",
    "ridge_scaled = LogisticRegressionCV(\n",
    "        cv=5, dual=False,\n",
    "        penalty='elasticnet', \n",
    "        scoring='recall',\n",
    "        solver='saga', \n",
    "        n_jobs = 2,\n",
    "        tol=0.0001,\n",
    "        max_iter=100,\n",
    "        l1_ratios = [0, .3, .5, .7, 1])\n",
    "X_up, y_up = upsampler(X_train, y_train, ratio = 1)\n",
    "logl1pipe = Pipeline([('scaler', StandardScaler()),('ridge_scaled', ridge_scaled)])\n",
    "logl1pipe.fit(X_up, y_up)\n",
    "metric_test(logl1pipe, X_test, y_test)\n",
    "get_feature_weights(ridge_scaled, X.columns)"
   ]
  },
  {
   "cell_type": "code",
   "execution_count": null,
   "metadata": {},
   "outputs": [],
   "source": [
    "clf = LogisticRegressionCV(\n",
    "        cv=5, dual=False,\n",
    "        penalty='elasticnet', \n",
    "        scoring='recall',\n",
    "        solver='saga', \n",
    "        n_jobs = 2,\n",
    "        tol=0.0001,\n",
    "        max_iter=100,\n",
    "        l1_ratios = [0, .3, .5, .7, 1])\n",
    "logl1pipe = Pipeline([('scaler', StandardScaler()),('ridge_scaled', ridge_scaled)])\n",
    "logl1pipe.fit(X_up, y_up)\n",
    "metric_test(logl1pipe, X_test, y_test)\n",
    "get_feature_weights(ridge_scaled, X.columns)"
   ]
  },
  {
   "cell_type": "code",
   "execution_count": 66,
   "metadata": {},
   "outputs": [],
   "source": [
    "ushypodict = {'year': [2017], \n",
    "'male': [1], \n",
    "'irreg_lead_ant': [0],\n",
    "'election_recent': [0], \n",
    "'victory_recent': [0],\n",
    "'nochange_recent': [0], \n",
    "'lastelection': [1.098612],\n",
    "'yearcode': [22017], \n",
    "'Dominant Party': [0],\n",
    "'Foreign/Occupied': [0], \n",
    "'Indirect Military': [0], \n",
    "'Military': [0], \n",
    "'Military-Personal': [0],\n",
    "'Monarchy':[0], \n",
    "'Oligarchy': [0],\n",
    "'Party-Personal': [0],\n",
    "'Presidential Democracy': [1],\n",
    "'Provisional - Civilian': [0], \n",
    "'Life expectancy at birth, female (years)': [61.1], \n",
    "'GDP growth (annual %)': [-10], \n",
    "'Mineral rents (% of GDP)': [0.08085],\n",
    "'Oil rents (% of GDP)': [0.177276], \n",
    "'Trade (% of GDP)': [7.14232],\n",
    "'Population ages 0-14 (% of total population)': [18.858528], \n",
    "'Population growth (annual %)': [0.631008],\n",
    "'constant': [1]}"
   ]
  },
  {
   "cell_type": "code",
   "execution_count": 67,
   "metadata": {},
   "outputs": [
    {
     "data": {
      "text/plain": [
       "array([[0.47998802, 0.52001198]])"
      ]
     },
     "execution_count": 67,
     "metadata": {},
     "output_type": "execute_result"
    }
   ],
   "source": [
    "hypo = pd.DataFrame.from_dict(ushypodict)\n",
    "logl1pipe.predict_proba(hypo)"
   ]
  },
  {
   "cell_type": "code",
   "execution_count": 71,
   "metadata": {},
   "outputs": [
    {
     "data": {
      "text/plain": [
       "array([[0.85641474, 0.14358526]])"
      ]
     },
     "execution_count": 71,
     "metadata": {},
     "output_type": "execute_result"
    }
   ],
   "source": [
    "us2017dict = {'year': [2017], \n",
    "'male': [1], \n",
    "'irreg_lead_ant': [0],\n",
    "'election_recent': [0], \n",
    "'victory_recent': [0],\n",
    "'nochange_recent': [0], \n",
    "'lastelection': [1.098612],\n",
    "'yearcode': [22017], \n",
    "'Dominant Party': [0],\n",
    "'Foreign/Occupied': [0], \n",
    "'Indirect Military': [0], \n",
    "'Military': [0], \n",
    "'Military-Personal': [0],\n",
    "'Monarchy':[0], \n",
    "'Oligarchy': [0],\n",
    "'Party-Personal': [0],\n",
    "'Presidential Democracy': [1],\n",
    "'Provisional - Civilian': [0], \n",
    "'Life expectancy at birth, female (years)': [81.1], \n",
    "'GDP growth (annual %)': [2.21701], \n",
    "'Mineral rents (% of GDP)': [0.08085],\n",
    "'Oil rents (% of GDP)': [0.177276], \n",
    "'Trade (% of GDP)': [27.14232],\n",
    "'Population ages 0-14 (% of total population)': [18.858528], \n",
    "'Population growth (annual %)': [0.631008],\n",
    "'constant': [1]}\n",
    "us2017 = pd.DataFrame.from_dict(us2017dict)\n",
    "\n",
    "logl1pipe.predict_proba(us2017)"
   ]
  },
  {
   "cell_type": "code",
   "execution_count": 73,
   "metadata": {},
   "outputs": [],
   "source": [
    "us2020dict = {'year': [2020], \n",
    "'male': [1], \n",
    "'irreg_lead_ant': [0],\n",
    "'election_recent': [0], \n",
    "'victory_recent': [0],\n",
    "'nochange_recent': [0], \n",
    "'lastelection': [3.78419],\n",
    "'yearcode': [22020], \n",
    "'Dominant Party': [0],\n",
    "'Foreign/Occupied': [0], \n",
    "'Indirect Military': [0], \n",
    "'Military': [0], \n",
    "'Military-Personal': [0],\n",
    "'Monarchy':[0], \n",
    "'Oligarchy': [0],\n",
    "'Party-Personal': [0],\n",
    "'Presidential Democracy': [1],\n",
    "'Provisional - Civilian': [0], \n",
    "'Life expectancy at birth, female (years)': [81.1], \n",
    "'GDP growth (annual %)': [-5.0], \n",
    "'Mineral rents (% of GDP)': [0.075769],\n",
    "'Oil rents (% of GDP)': [0.09245], \n",
    "'Trade (% of GDP)': [27.543903],\n",
    "'Population ages 0-14 (% of total population)': [18.70904], \n",
    "'Population growth (annual %)': [0.522337],\n",
    "'constant': [1]}\n",
    "usj2020 = pd.DataFrame.from_dict(us2020dict)"
   ]
  },
  {
   "cell_type": "code",
   "execution_count": 74,
   "metadata": {},
   "outputs": [
    {
     "data": {
      "text/plain": [
       "array([[0.78104445, 0.21895555]])"
      ]
     },
     "execution_count": 74,
     "metadata": {},
     "output_type": "execute_result"
    }
   ],
   "source": [
    "logl1pipe.predict_proba(usj2020)"
   ]
  },
  {
   "cell_type": "code",
   "execution_count": 152,
   "metadata": {},
   "outputs": [],
   "source": [
    "vscode_cols = ['year', 'male', 'militarycareer', 'anticipation', 'ref_ant', 'leg_ant',\n",
    "       'irreg_lead_ant', 'election_now', 'election_recent', 'exec_recent',\n",
    "       'indirect_recent', 'defeat_recent', 'change_recent', 'delayed', 'loss',\n",
    "       'prev_conflict', 'precip', 'yearcode', 'Dominant Party',\n",
    "       'Foreign/Occupied', 'Indirect Military', 'Military',\n",
    "       'Military-Personal', 'Monarchy', 'Oligarchy', 'Parliamentary Democracy',\n",
    "       'Party-Military', 'Party-Personal', 'Party-Personal-Military Hybrid',\n",
    "       'Provisional - Civilian', 'Provisional - Military', 'Warlordism',\n",
    "       'pt_attempt', 'pt_suc', 'Life expectancy at birth, female (years)',\n",
    "       'GDP growth (annual %)', 'Mineral rents (% of GDP)',\n",
    "       'Oil rents (% of GDP)', 'Trade (% of GDP)',\n",
    "       'Natural gas rents (% of GDP)',\n",
    "       'Population ages 0-14 (% of total population)',\n",
    "       'Rural population (% of total population)',\n",
    "       'Population growth (annual %)', 'Arable land (hectares per person)',\n",
    "       'Merchandise exports (current US$)', 'constant']"
   ]
  },
  {
   "cell_type": "code",
   "execution_count": 154,
   "metadata": {},
   "outputs": [
    {
     "data": {
      "text/plain": [
       "45"
      ]
     },
     "execution_count": 154,
     "metadata": {},
     "output_type": "execute_result"
    }
   ],
   "source": [
    "len(joint_df_3.columns)"
   ]
  },
  {
   "cell_type": "code",
   "execution_count": 155,
   "metadata": {},
   "outputs": [
    {
     "data": {
      "text/plain": [
       "46"
      ]
     },
     "execution_count": 155,
     "metadata": {},
     "output_type": "execute_result"
    }
   ],
   "source": [
    "len(vscode_cols)"
   ]
  },
  {
   "cell_type": "code",
   "execution_count": null,
   "metadata": {},
   "outputs": [],
   "source": []
  }
 ],
 "metadata": {
  "kernelspec": {
   "display_name": "Python 3",
   "language": "python",
   "name": "python3"
  },
  "language_info": {
   "codemirror_mode": {
    "name": "ipython",
    "version": 3
   },
   "file_extension": ".py",
   "mimetype": "text/x-python",
   "name": "python",
   "nbconvert_exporter": "python",
   "pygments_lexer": "ipython3",
   "version": "3.7.4"
  }
 },
 "nbformat": 4,
 "nbformat_minor": 2
}
