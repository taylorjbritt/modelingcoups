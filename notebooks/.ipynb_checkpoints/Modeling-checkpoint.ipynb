{
 "cells": [
  {
   "cell_type": "code",
   "execution_count": 136,
   "metadata": {},
   "outputs": [],
   "source": [
    "import numpy as np\n",
    "import pandas as pd\n",
    "from sklearn import tree\n",
    "from sklearn.model_selection import train_test_split\n",
    "from sklearn.linear_model import LogisticRegression, LogisticRegressionCV\n",
    "from sklearn import metrics\n",
    "from sklearn.metrics import accuracy_score, precision_score, recall_score, f1_score, r2_score\n",
    "from sklearn.utils import resample\n",
    "from sklearn.preprocessing import StandardScaler, MinMaxScaler\n",
    "from statsmodels.stats.outliers_influence import variance_inflation_factor\n",
    "from statsmodels.tools.tools import add_constant\n",
    "from statsmodels.regression.linear_model import OLS\n",
    "from sklearn.ensemble import GradientBoostingClassifier, RandomForestClassifier\n",
    "from sklearn.inspection import plot_partial_dependence\n",
    "from imblearn.over_sampling import SMOTE\n",
    "import matplotlib.pyplot as plt\n",
    "import xgboost as xgb\n",
    "from sklearn.tree import DecisionTreeClassifier\n"
   ]
  },
  {
   "cell_type": "code",
   "execution_count": 27,
   "metadata": {},
   "outputs": [],
   "source": [
    "\n",
    "def scaler(X_train, X_test, minmax = False):\n",
    "    '''\n",
    "    Arguments: X_train and X_test data\n",
    "    Optional: minmax (scale between 0 and 1)\n",
    "\n",
    "    Returns: X_train and X_test either standardized by demeaning, or scaled to 1\n",
    "    '''\n",
    "    if minmax == True:\n",
    "        scaler = MinMaxScaler()\n",
    "    else:\n",
    "        scaler = StandardScaler()\n",
    "    X_train_scaled = scaler.fit_transform(X_train)\n",
    "    X_test_scaled = scaler.transform(X_test)\n",
    "    return X_train_scaled, X_test_scaled\n",
    "\n",
    "# def get_indices(df):\n",
    "#     X_full_indices = df.drop(['pt_suc', 'pt_attempt'], axis =1 ).columns\n",
    "#     return X_full_indices\n",
    "\n",
    "\n",
    "def splitter(df, target = 'pt_attempt', test_size = .25, random_state = 29, VIF_drop = False, scaled = False, minmax = False):\n",
    "    '''\n",
    "    Arguments: The dataframe\n",
    "    Optional Args: test size, random state, whether to drop a list (determined by VIF correlations)\n",
    "    whether to scale, whether to use minmax scaling (between 0 and 1)\n",
    "\n",
    "    Returns:\n",
    "    X_train, X_test, y_train, y_test, and the feature labels for the columns in X\n",
    "    '''\n",
    "    \n",
    "    _targets = ['pt_attempt', 'pt_suc']\n",
    "    if VIF_drop == True:\n",
    "        df = df.drop(vifdrops, axis = 1)\n",
    "        y = df[target]\n",
    "        X = df.drop(_targets, axis = 1)\n",
    "    if VIF_drop == False:\n",
    "        y = df[target]\n",
    "        X = df.drop(_targets, axis = 1)\n",
    "    colnames = X.columns\n",
    "    idx = colnames.to_numpy()\n",
    "    feature_labels = np.concatenate((['constant'], idx) )\n",
    "    X_train, X_test, y_train, y_test = train_test_split(X, y, test_size= test_size, random_state= random_state, stratify = y )\n",
    "    if scaled == True:\n",
    "        X_train, X_test = scaler(X_train, X_test, minmax = minmax)\n",
    "    X_train = add_constant(X_train)    \n",
    "    X_test =  add_constant(X_test)    \n",
    "    return X_train, X_test, y_train, y_test, feature_labels\n",
    "\n",
    "def upsampler(X_train, y_train, target = 'pt_attempt'):\n",
    "    '''\n",
    "    Args: X_train and y_train\n",
    "    Optional: what is the target\n",
    "    Returns: y_train, and X_train with the target rows sampled with replacement to equal \n",
    "    the number of non-target rows (makes X_train much bigger)\n",
    "    '''\n",
    "    X = pd.concat([X_train, y_train], axis=1) \n",
    "    no_coup = X[X[target]==0]\n",
    "    coup = X[X[target]==1]\n",
    "    coups_upsampled = resample(coup,\n",
    "                          replace=True, # sample with replacement\n",
    "                          n_samples=len(no_coup), # match number in majority class\n",
    "                          random_state=29)\n",
    "    upsampled = pd.concat([no_coup, coups_upsampled])\n",
    "    y_up = upsampled[target]\n",
    "    X_up = upsampled.drop(target, axis = 1)\n",
    "    return X_up, y_up\n",
    "\n",
    "def downsampler(X_train, y_train, target = 'pt_attempt'):\n",
    "    '''\n",
    "    Args: X_train and y_train\n",
    "    Optional: what is the target\n",
    "    Returns: y_train, and X_train with the non-target rows sampled with replacement to equal \n",
    "    the number of target rows (makes X_train much smaller)\n",
    "\n",
    "    '''\n",
    "    X = pd.concat([X_train, y_train], axis=1) \n",
    "    no_coup = X[X[target]==0]\n",
    "    coup = X[X[target]==1]\n",
    "    coups_downsampled = resample(no_coup,\n",
    "                          replace=True, # sample with replacement\n",
    "                          n_samples=len(coup), # match number in majority class\n",
    "                          random_state=29)\n",
    "    downsampled = pd.concat([coup, coups_downsampled])\n",
    "    y_down = downsampled[target]\n",
    "    X_down = downsampled.drop(target, axis = 1)\n",
    "    return X_down, y_down\n",
    "\n",
    "def smoter(X_train, y_train, ratio = 1.0):\n",
    "    '''\n",
    "    Args: X_train and y_train\n",
    "    Optional: ratio\n",
    "    Returns: y_train, and X_train with new target rows synthetically added to equal \n",
    "    the number of target rows (makes X_train much smaller) (or a different)\n",
    "    '''\n",
    "    sm = SMOTE(random_state=29, ratio=ratio)\n",
    "    X_train_sm, y_train_sm = sm.fit_sample(X_train, y_train)\n",
    "    return X_train_sm, y_train_sm\n",
    "\n",
    "\n",
    "\n",
    "def data_pipeline(df, target = 'pt_attempt', test_size = .25, random_state = 29, VIF_drop = False, scaled = False, minmax = False, resampler = None, sample_ratio = 1):\n",
    "    '''\n",
    "    Processes the onehot encoded dataframe to prepare it for modelling, with optional arguments \n",
    "    to drop collinear columns, resample, and scale.\n",
    "\n",
    "    Args: dataframe, \n",
    "    optional: target columns, ratio for test train split, random state,\n",
    "    whether to drop the vif_list, whether to scale, whether to use minmax (only makes sense if scaled = True),\n",
    "    whether to resample, and what ratio to resample at (only currenly implemented with SMOTE)\n",
    "    R\n",
    "\n",
    "    '''\n",
    "    X_train, X_test, y_train, y_test, feature_labels = splitter(df, target = 'pt_attempt', test_size = .25, \n",
    "                                                random_state = 29, VIF_drop = VIF_drop, scaled = scaled, minmax = minmax)\n",
    "    if resampler == 'upsample':\n",
    "        X_train, y_train = upsampler(X_train, y_train)\n",
    "    if resampler == 'downsample':\n",
    "        X_train, y_train = downsampler(X_train, y_train)\n",
    "    if resampler == 'smote':\n",
    "        X_train, y_train = smoter(X_train, y_train, ratio = sample_ratio)\n",
    "    return X_train, X_test, y_train, y_test, feature_labels\n",
    "\n",
    "def get_feature_weights(model, feature_labels):\n",
    "    '''\n",
    "    returns coefficients for features in a model (intended for logistic regression) \n",
    "    args: model, feature_labels\n",
    "    returns: a sorted series in ascending order of feature weights.\n",
    "    '''\n",
    "    d_log_vals = {}\n",
    "    for idx, feat in enumerate(model.coef_[0]):\n",
    "        d_log_vals[feature_labels[idx]] = feat  \n",
    "    s_log_vals = (pd.Series(d_log_vals)).sort_values()\n",
    "    return s_log_vals\n",
    "\n",
    "def metric_test(model, X_test, y_test):\n",
    "    '''\n",
    "    Prints out the accuracy, recall, precision, and f1 score for the \n",
    "    fit model when it predicts on the test data\n",
    "    '''\n",
    "    preds = model.predict(X_test)\n",
    "    print('accuracy = ' + str(accuracy_score(y_test, preds)))\n",
    "    print('recall = ' + str(recall_score(y_test, preds)))\n",
    "    print('precision = ' + str(precision_score(y_test, preds)))\n",
    "    print('f1 score = ' + str(f1_score(y_test, preds)))\n",
    "    #print('r2_score = ' + str(r2_score(y_test, preds)))\n",
    "\n",
    "\n",
    "def fit_test_model(model, X_train, X_test, y_train, y_test, indices, do_metric_test = True, get_features = False):\n",
    "    '''\n",
    "    fits a model to the training data, with the option argument to print out the feature weights\n",
    "    '''\n",
    "    model.fit(X_train, y_train)\n",
    "    if do_metric_test == True:\n",
    "        metric_test(model, X_test, y_test)\n",
    "    if get_features == True:\n",
    "        features = get_feature_weights(model, indices)\n",
    "        print(features)\n",
    "    return model\n",
    "\n",
    "def variance_inflation_factors(X):\n",
    "    '''\n",
    "    calculates VIF values for the X dataset, inteded to be used iteratively to reduce \n",
    "    collinearity by dropping values from X and rechecking the values\n",
    "    '''\n",
    "    # X = add_constant(X)\n",
    "    vifs = pd.Series(\n",
    "        [1 / (1. - OLS(X[col].values, \n",
    "                       X.loc[:, X.columns != col].values).fit().rsquared) \n",
    "         for col in X],\n",
    "        index=X.columns,\n",
    "        name='VIF'\n",
    "    )\n",
    "    return vifs.sort_values()"
   ]
  },
  {
   "cell_type": "code",
   "execution_count": 28,
   "metadata": {},
   "outputs": [],
   "source": [
    "df = pd.read_pickle('../data/year_agg_dum.pkl')"
   ]
  },
  {
   "cell_type": "code",
   "execution_count": 177,
   "metadata": {},
   "outputs": [],
   "source": [
    "year_agg = pd.read_pickle('../data/year_agg.pkl')"
   ]
  },
  {
   "cell_type": "code",
   "execution_count": 178,
   "metadata": {},
   "outputs": [
    {
     "data": {
      "text/html": [
       "<div>\n",
       "<style scoped>\n",
       "    .dataframe tbody tr th:only-of-type {\n",
       "        vertical-align: middle;\n",
       "    }\n",
       "\n",
       "    .dataframe tbody tr th {\n",
       "        vertical-align: top;\n",
       "    }\n",
       "\n",
       "    .dataframe thead th {\n",
       "        text-align: right;\n",
       "    }\n",
       "</style>\n",
       "<table border=\"1\" class=\"dataframe\">\n",
       "  <thead>\n",
       "    <tr style=\"text-align: right;\">\n",
       "      <th></th>\n",
       "      <th>ccode</th>\n",
       "      <th>country</th>\n",
       "      <th>leader</th>\n",
       "      <th>year</th>\n",
       "      <th>month</th>\n",
       "      <th>elected</th>\n",
       "      <th>age</th>\n",
       "      <th>male</th>\n",
       "      <th>militarycareer</th>\n",
       "      <th>tenure_months</th>\n",
       "      <th>...</th>\n",
       "      <th>nochange_recent</th>\n",
       "      <th>delayed</th>\n",
       "      <th>lastelection</th>\n",
       "      <th>loss</th>\n",
       "      <th>irregular</th>\n",
       "      <th>prev_conflict</th>\n",
       "      <th>precip</th>\n",
       "      <th>yearcode</th>\n",
       "      <th>coupyear</th>\n",
       "      <th>coupsuc</th>\n",
       "    </tr>\n",
       "  </thead>\n",
       "  <tbody>\n",
       "    <tr>\n",
       "      <td>0</td>\n",
       "      <td>2.0</td>\n",
       "      <td>USA</td>\n",
       "      <td>Truman</td>\n",
       "      <td>1950.0</td>\n",
       "      <td>1.0</td>\n",
       "      <td>1.0</td>\n",
       "      <td>66.0</td>\n",
       "      <td>1</td>\n",
       "      <td>0.0</td>\n",
       "      <td>58.0</td>\n",
       "      <td>...</td>\n",
       "      <td>0.0</td>\n",
       "      <td>0.0</td>\n",
       "      <td>2.639057</td>\n",
       "      <td>5.327876</td>\n",
       "      <td>7.565793</td>\n",
       "      <td>0.0</td>\n",
       "      <td>-0.069058</td>\n",
       "      <td>21950.0</td>\n",
       "      <td>False</td>\n",
       "      <td>False</td>\n",
       "    </tr>\n",
       "    <tr>\n",
       "      <td>1</td>\n",
       "      <td>2.0</td>\n",
       "      <td>USA</td>\n",
       "      <td>Truman</td>\n",
       "      <td>1951.0</td>\n",
       "      <td>1.0</td>\n",
       "      <td>1.0</td>\n",
       "      <td>67.0</td>\n",
       "      <td>1</td>\n",
       "      <td>0.0</td>\n",
       "      <td>70.0</td>\n",
       "      <td>...</td>\n",
       "      <td>0.0</td>\n",
       "      <td>0.0</td>\n",
       "      <td>3.258097</td>\n",
       "      <td>5.384495</td>\n",
       "      <td>7.571989</td>\n",
       "      <td>0.0</td>\n",
       "      <td>-0.202572</td>\n",
       "      <td>21951.0</td>\n",
       "      <td>False</td>\n",
       "      <td>False</td>\n",
       "    </tr>\n",
       "    <tr>\n",
       "      <td>2</td>\n",
       "      <td>2.0</td>\n",
       "      <td>USA</td>\n",
       "      <td>Truman</td>\n",
       "      <td>1952.0</td>\n",
       "      <td>1.0</td>\n",
       "      <td>1.0</td>\n",
       "      <td>68.0</td>\n",
       "      <td>1</td>\n",
       "      <td>0.0</td>\n",
       "      <td>82.0</td>\n",
       "      <td>...</td>\n",
       "      <td>0.0</td>\n",
       "      <td>0.0</td>\n",
       "      <td>3.637586</td>\n",
       "      <td>5.438079</td>\n",
       "      <td>7.578145</td>\n",
       "      <td>0.0</td>\n",
       "      <td>0.394373</td>\n",
       "      <td>21952.0</td>\n",
       "      <td>False</td>\n",
       "      <td>False</td>\n",
       "    </tr>\n",
       "    <tr>\n",
       "      <td>3</td>\n",
       "      <td>2.0</td>\n",
       "      <td>USA</td>\n",
       "      <td>Truman</td>\n",
       "      <td>1953.0</td>\n",
       "      <td>1.0</td>\n",
       "      <td>1.0</td>\n",
       "      <td>69.0</td>\n",
       "      <td>1</td>\n",
       "      <td>0.0</td>\n",
       "      <td>94.0</td>\n",
       "      <td>...</td>\n",
       "      <td>0.0</td>\n",
       "      <td>0.0</td>\n",
       "      <td>1.098612</td>\n",
       "      <td>1.098612</td>\n",
       "      <td>7.584265</td>\n",
       "      <td>0.0</td>\n",
       "      <td>-0.665329</td>\n",
       "      <td>21953.0</td>\n",
       "      <td>False</td>\n",
       "      <td>False</td>\n",
       "    </tr>\n",
       "    <tr>\n",
       "      <td>4</td>\n",
       "      <td>2.0</td>\n",
       "      <td>USA</td>\n",
       "      <td>Eisenhower</td>\n",
       "      <td>1953.0</td>\n",
       "      <td>1.0</td>\n",
       "      <td>1.0</td>\n",
       "      <td>63.0</td>\n",
       "      <td>1</td>\n",
       "      <td>1.0</td>\n",
       "      <td>1.0</td>\n",
       "      <td>...</td>\n",
       "      <td>0.0</td>\n",
       "      <td>0.0</td>\n",
       "      <td>1.098612</td>\n",
       "      <td>1.098612</td>\n",
       "      <td>7.584265</td>\n",
       "      <td>0.0</td>\n",
       "      <td>-0.665329</td>\n",
       "      <td>21953.0</td>\n",
       "      <td>False</td>\n",
       "      <td>False</td>\n",
       "    </tr>\n",
       "    <tr>\n",
       "      <td>...</td>\n",
       "      <td>...</td>\n",
       "      <td>...</td>\n",
       "      <td>...</td>\n",
       "      <td>...</td>\n",
       "      <td>...</td>\n",
       "      <td>...</td>\n",
       "      <td>...</td>\n",
       "      <td>...</td>\n",
       "      <td>...</td>\n",
       "      <td>...</td>\n",
       "      <td>...</td>\n",
       "      <td>...</td>\n",
       "      <td>...</td>\n",
       "      <td>...</td>\n",
       "      <td>...</td>\n",
       "      <td>...</td>\n",
       "      <td>...</td>\n",
       "      <td>...</td>\n",
       "      <td>...</td>\n",
       "      <td>...</td>\n",
       "      <td>...</td>\n",
       "    </tr>\n",
       "    <tr>\n",
       "      <td>11364</td>\n",
       "      <td>990.0</td>\n",
       "      <td>Samoa</td>\n",
       "      <td>Tuilaepa Sailele Malielegaoi</td>\n",
       "      <td>2016.0</td>\n",
       "      <td>1.0</td>\n",
       "      <td>1.0</td>\n",
       "      <td>71.0</td>\n",
       "      <td>1</td>\n",
       "      <td>0.0</td>\n",
       "      <td>206.0</td>\n",
       "      <td>...</td>\n",
       "      <td>0.0</td>\n",
       "      <td>0.0</td>\n",
       "      <td>4.077538</td>\n",
       "      <td>5.817111</td>\n",
       "      <td>6.476973</td>\n",
       "      <td>0.0</td>\n",
       "      <td>-0.391420</td>\n",
       "      <td>9902016.0</td>\n",
       "      <td>False</td>\n",
       "      <td>False</td>\n",
       "    </tr>\n",
       "    <tr>\n",
       "      <td>11365</td>\n",
       "      <td>990.0</td>\n",
       "      <td>Samoa</td>\n",
       "      <td>Tuilaepa Sailele Malielegaoi</td>\n",
       "      <td>2017.0</td>\n",
       "      <td>1.0</td>\n",
       "      <td>1.0</td>\n",
       "      <td>72.0</td>\n",
       "      <td>1</td>\n",
       "      <td>0.0</td>\n",
       "      <td>218.0</td>\n",
       "      <td>...</td>\n",
       "      <td>0.0</td>\n",
       "      <td>0.0</td>\n",
       "      <td>2.397895</td>\n",
       "      <td>5.852202</td>\n",
       "      <td>6.495265</td>\n",
       "      <td>0.0</td>\n",
       "      <td>0.025780</td>\n",
       "      <td>9902017.0</td>\n",
       "      <td>False</td>\n",
       "      <td>False</td>\n",
       "    </tr>\n",
       "    <tr>\n",
       "      <td>11366</td>\n",
       "      <td>990.0</td>\n",
       "      <td>Samoa</td>\n",
       "      <td>Tuilaepa Sailele Malielegaoi</td>\n",
       "      <td>2018.0</td>\n",
       "      <td>1.0</td>\n",
       "      <td>1.0</td>\n",
       "      <td>73.0</td>\n",
       "      <td>1</td>\n",
       "      <td>0.0</td>\n",
       "      <td>230.0</td>\n",
       "      <td>...</td>\n",
       "      <td>0.0</td>\n",
       "      <td>0.0</td>\n",
       "      <td>3.135494</td>\n",
       "      <td>5.886104</td>\n",
       "      <td>6.513230</td>\n",
       "      <td>0.0</td>\n",
       "      <td>0.278135</td>\n",
       "      <td>9902018.0</td>\n",
       "      <td>False</td>\n",
       "      <td>False</td>\n",
       "    </tr>\n",
       "    <tr>\n",
       "      <td>11367</td>\n",
       "      <td>990.0</td>\n",
       "      <td>Samoa</td>\n",
       "      <td>Tuilaepa Sailele Malielegaoi</td>\n",
       "      <td>2019.0</td>\n",
       "      <td>1.0</td>\n",
       "      <td>1.0</td>\n",
       "      <td>74.0</td>\n",
       "      <td>1</td>\n",
       "      <td>0.0</td>\n",
       "      <td>242.0</td>\n",
       "      <td>...</td>\n",
       "      <td>0.0</td>\n",
       "      <td>0.0</td>\n",
       "      <td>3.555348</td>\n",
       "      <td>5.918894</td>\n",
       "      <td>6.530878</td>\n",
       "      <td>0.0</td>\n",
       "      <td>0.210903</td>\n",
       "      <td>9902019.0</td>\n",
       "      <td>False</td>\n",
       "      <td>False</td>\n",
       "    </tr>\n",
       "    <tr>\n",
       "      <td>11368</td>\n",
       "      <td>990.0</td>\n",
       "      <td>Samoa</td>\n",
       "      <td>Tuilaepa Sailele Malielegaoi</td>\n",
       "      <td>2020.0</td>\n",
       "      <td>1.0</td>\n",
       "      <td>1.0</td>\n",
       "      <td>75.0</td>\n",
       "      <td>1</td>\n",
       "      <td>0.0</td>\n",
       "      <td>254.0</td>\n",
       "      <td>...</td>\n",
       "      <td>0.0</td>\n",
       "      <td>0.0</td>\n",
       "      <td>3.850147</td>\n",
       "      <td>5.950643</td>\n",
       "      <td>6.548219</td>\n",
       "      <td>0.0</td>\n",
       "      <td>-0.034972</td>\n",
       "      <td>9902020.0</td>\n",
       "      <td>False</td>\n",
       "      <td>False</td>\n",
       "    </tr>\n",
       "  </tbody>\n",
       "</table>\n",
       "<p>11369 rows × 37 columns</p>\n",
       "</div>"
      ],
      "text/plain": [
       "       ccode country                        leader    year  month  elected  \\\n",
       "0        2.0     USA                        Truman  1950.0    1.0      1.0   \n",
       "1        2.0     USA                        Truman  1951.0    1.0      1.0   \n",
       "2        2.0     USA                        Truman  1952.0    1.0      1.0   \n",
       "3        2.0     USA                        Truman  1953.0    1.0      1.0   \n",
       "4        2.0     USA                    Eisenhower  1953.0    1.0      1.0   \n",
       "...      ...     ...                           ...     ...    ...      ...   \n",
       "11364  990.0   Samoa  Tuilaepa Sailele Malielegaoi  2016.0    1.0      1.0   \n",
       "11365  990.0   Samoa  Tuilaepa Sailele Malielegaoi  2017.0    1.0      1.0   \n",
       "11366  990.0   Samoa  Tuilaepa Sailele Malielegaoi  2018.0    1.0      1.0   \n",
       "11367  990.0   Samoa  Tuilaepa Sailele Malielegaoi  2019.0    1.0      1.0   \n",
       "11368  990.0   Samoa  Tuilaepa Sailele Malielegaoi  2020.0    1.0      1.0   \n",
       "\n",
       "        age  male  militarycareer  tenure_months  ... nochange_recent  \\\n",
       "0      66.0     1             0.0           58.0  ...             0.0   \n",
       "1      67.0     1             0.0           70.0  ...             0.0   \n",
       "2      68.0     1             0.0           82.0  ...             0.0   \n",
       "3      69.0     1             0.0           94.0  ...             0.0   \n",
       "4      63.0     1             1.0            1.0  ...             0.0   \n",
       "...     ...   ...             ...            ...  ...             ...   \n",
       "11364  71.0     1             0.0          206.0  ...             0.0   \n",
       "11365  72.0     1             0.0          218.0  ...             0.0   \n",
       "11366  73.0     1             0.0          230.0  ...             0.0   \n",
       "11367  74.0     1             0.0          242.0  ...             0.0   \n",
       "11368  75.0     1             0.0          254.0  ...             0.0   \n",
       "\n",
       "       delayed  lastelection      loss  irregular  prev_conflict    precip  \\\n",
       "0          0.0      2.639057  5.327876   7.565793            0.0 -0.069058   \n",
       "1          0.0      3.258097  5.384495   7.571989            0.0 -0.202572   \n",
       "2          0.0      3.637586  5.438079   7.578145            0.0  0.394373   \n",
       "3          0.0      1.098612  1.098612   7.584265            0.0 -0.665329   \n",
       "4          0.0      1.098612  1.098612   7.584265            0.0 -0.665329   \n",
       "...        ...           ...       ...        ...            ...       ...   \n",
       "11364      0.0      4.077538  5.817111   6.476973            0.0 -0.391420   \n",
       "11365      0.0      2.397895  5.852202   6.495265            0.0  0.025780   \n",
       "11366      0.0      3.135494  5.886104   6.513230            0.0  0.278135   \n",
       "11367      0.0      3.555348  5.918894   6.530878            0.0  0.210903   \n",
       "11368      0.0      3.850147  5.950643   6.548219            0.0 -0.034972   \n",
       "\n",
       "        yearcode  coupyear  coupsuc  \n",
       "0        21950.0     False    False  \n",
       "1        21951.0     False    False  \n",
       "2        21952.0     False    False  \n",
       "3        21953.0     False    False  \n",
       "4        21953.0     False    False  \n",
       "...          ...       ...      ...  \n",
       "11364  9902016.0     False    False  \n",
       "11365  9902017.0     False    False  \n",
       "11366  9902018.0     False    False  \n",
       "11367  9902019.0     False    False  \n",
       "11368  9902020.0     False    False  \n",
       "\n",
       "[11369 rows x 37 columns]"
      ]
     },
     "execution_count": 178,
     "metadata": {},
     "output_type": "execute_result"
    }
   ],
   "source": [
    "year_agg"
   ]
  },
  {
   "cell_type": "code",
   "execution_count": 180,
   "metadata": {},
   "outputs": [],
   "source": [
    "df2 = pd.read_pickle('../data/df_one_hot_num.pkl')"
   ]
  },
  {
   "cell_type": "code",
   "execution_count": 184,
   "metadata": {},
   "outputs": [],
   "source": [
    "df3 = pd.read_pickle('../data/yearly_nmc_trade.pkl')"
   ]
  },
  {
   "cell_type": "code",
   "execution_count": 182,
   "metadata": {},
   "outputs": [
    {
     "data": {
      "text/plain": [
       "Index(['year', 'month', 'elected', 'age', 'male', 'militarycareer',\n",
       "       'tenure_months', 'anticipation', 'ref_ant', 'leg_ant', 'exec_ant',\n",
       "       'irreg_lead_ant', 'election_now', 'election_recent', 'leg_recent',\n",
       "       'exec_recent', 'lead_recent', 'ref_recent', 'direct_recent',\n",
       "       'indirect_recent', 'victory_recent', 'defeat_recent', 'change_recent',\n",
       "       'nochange_recent', 'delayed', 'lastelection', 'loss', 'irregular',\n",
       "       'prev_conflict', 'pt_suc', 'pt_attempt', 'precip', 'imports', 'exports',\n",
       "       'milex', 'milper', 'irst', 'pec', 'upop', 'cinc', 'population',\n",
       "       'Dominant Party', 'Foreign/Occupied', 'Indirect Military', 'Military',\n",
       "       'Military-Personal', 'Monarchy', 'Oligarchy', 'Party-Military',\n",
       "       'Party-Personal', 'Party-Personal-Military Hybrid',\n",
       "       'Personal Dictatorship', 'Presidential Democracy',\n",
       "       'Provisional - Civilian', 'Provisional - Military', 'Warlordism',\n",
       "       'trade balance', 'urban_percent', 'mil_percent'],\n",
       "      dtype='object')"
      ]
     },
     "execution_count": 182,
     "metadata": {},
     "output_type": "execute_result"
    }
   ],
   "source": [
    "df2.columns"
   ]
  },
  {
   "cell_type": "code",
   "execution_count": 185,
   "metadata": {},
   "outputs": [
    {
     "data": {
      "text/plain": [
       "Index(['ccode', 'country', 'leader', 'year', 'month', 'elected', 'age', 'male',\n",
       "       'militarycareer', 'tenure_months', 'government', 'anticipation',\n",
       "       'ref_ant', 'leg_ant', 'exec_ant', 'irreg_lead_ant', 'election_now',\n",
       "       'election_recent', 'leg_recent', 'exec_recent', 'lead_recent',\n",
       "       'ref_recent', 'direct_recent', 'indirect_recent', 'victory_recent',\n",
       "       'defeat_recent', 'change_recent', 'nochange_recent', 'delayed',\n",
       "       'lastelection', 'loss', 'irregular', 'prev_conflict', 'precip',\n",
       "       'imports', 'exports', 'milex', 'milper', 'irst', 'pec', 'upop', 'cinc',\n",
       "       'pt_attempt', 'pt_suc', 'Dominant Party', 'Foreign/Occupied',\n",
       "       'Indirect Military', 'Military', 'Military-Personal', 'Monarchy',\n",
       "       'Oligarchy', 'Party-Military', 'Party-Personal',\n",
       "       'Party-Personal-Military Hybrid', 'Personal Dictatorship',\n",
       "       'Presidential Democracy', 'Provisional - Civilian',\n",
       "       'Provisional - Military', 'Warlordism'],\n",
       "      dtype='object')"
      ]
     },
     "execution_count": 185,
     "metadata": {},
     "output_type": "execute_result"
    }
   ],
   "source": [
    "df3.columns"
   ]
  },
  {
   "cell_type": "code",
   "execution_count": 188,
   "metadata": {},
   "outputs": [],
   "source": [
    "df3 = df3.drop(['country', 'leader', 'government'], axis = 1)"
   ]
  },
  {
   "cell_type": "code",
   "execution_count": 31,
   "metadata": {},
   "outputs": [],
   "source": [
    "df['pt_attempt'] = df['coupyear']"
   ]
  },
  {
   "cell_type": "code",
   "execution_count": 32,
   "metadata": {},
   "outputs": [],
   "source": [
    "df['pt_suc'] = df['coupsuc']"
   ]
  },
  {
   "cell_type": "code",
   "execution_count": 33,
   "metadata": {},
   "outputs": [],
   "source": [
    "df = df.drop(['coupyear', 'coupsuc', 'ccode', 'country', 'leader', 'year', 'month', 'government'], axis =1)"
   ]
  },
  {
   "cell_type": "code",
   "execution_count": 34,
   "metadata": {},
   "outputs": [
    {
     "data": {
      "text/html": [
       "<div>\n",
       "<style scoped>\n",
       "    .dataframe tbody tr th:only-of-type {\n",
       "        vertical-align: middle;\n",
       "    }\n",
       "\n",
       "    .dataframe tbody tr th {\n",
       "        vertical-align: top;\n",
       "    }\n",
       "\n",
       "    .dataframe thead th {\n",
       "        text-align: right;\n",
       "    }\n",
       "</style>\n",
       "<table border=\"1\" class=\"dataframe\">\n",
       "  <thead>\n",
       "    <tr style=\"text-align: right;\">\n",
       "      <th></th>\n",
       "      <th>elected</th>\n",
       "      <th>age</th>\n",
       "      <th>male</th>\n",
       "      <th>militarycareer</th>\n",
       "      <th>tenure_months</th>\n",
       "      <th>anticipation</th>\n",
       "      <th>ref_ant</th>\n",
       "      <th>leg_ant</th>\n",
       "      <th>exec_ant</th>\n",
       "      <th>irreg_lead_ant</th>\n",
       "      <th>...</th>\n",
       "      <th>Party-Military</th>\n",
       "      <th>Party-Personal</th>\n",
       "      <th>Party-Personal-Military Hybrid</th>\n",
       "      <th>Personal Dictatorship</th>\n",
       "      <th>Presidential Democracy</th>\n",
       "      <th>Provisional - Civilian</th>\n",
       "      <th>Provisional - Military</th>\n",
       "      <th>Warlordism</th>\n",
       "      <th>pt_attempt</th>\n",
       "      <th>pt_suc</th>\n",
       "    </tr>\n",
       "  </thead>\n",
       "  <tbody>\n",
       "    <tr>\n",
       "      <td>0</td>\n",
       "      <td>1.0</td>\n",
       "      <td>66.0</td>\n",
       "      <td>1</td>\n",
       "      <td>0.0</td>\n",
       "      <td>58.0</td>\n",
       "      <td>0.0</td>\n",
       "      <td>0.0</td>\n",
       "      <td>0.0</td>\n",
       "      <td>0.0</td>\n",
       "      <td>0.0</td>\n",
       "      <td>...</td>\n",
       "      <td>0</td>\n",
       "      <td>0</td>\n",
       "      <td>0</td>\n",
       "      <td>0</td>\n",
       "      <td>1</td>\n",
       "      <td>0</td>\n",
       "      <td>0</td>\n",
       "      <td>0</td>\n",
       "      <td>False</td>\n",
       "      <td>False</td>\n",
       "    </tr>\n",
       "    <tr>\n",
       "      <td>1</td>\n",
       "      <td>1.0</td>\n",
       "      <td>67.0</td>\n",
       "      <td>1</td>\n",
       "      <td>0.0</td>\n",
       "      <td>70.0</td>\n",
       "      <td>0.0</td>\n",
       "      <td>0.0</td>\n",
       "      <td>0.0</td>\n",
       "      <td>0.0</td>\n",
       "      <td>0.0</td>\n",
       "      <td>...</td>\n",
       "      <td>0</td>\n",
       "      <td>0</td>\n",
       "      <td>0</td>\n",
       "      <td>0</td>\n",
       "      <td>1</td>\n",
       "      <td>0</td>\n",
       "      <td>0</td>\n",
       "      <td>0</td>\n",
       "      <td>False</td>\n",
       "      <td>False</td>\n",
       "    </tr>\n",
       "    <tr>\n",
       "      <td>2</td>\n",
       "      <td>1.0</td>\n",
       "      <td>68.0</td>\n",
       "      <td>1</td>\n",
       "      <td>0.0</td>\n",
       "      <td>82.0</td>\n",
       "      <td>0.0</td>\n",
       "      <td>0.0</td>\n",
       "      <td>0.0</td>\n",
       "      <td>0.0</td>\n",
       "      <td>0.0</td>\n",
       "      <td>...</td>\n",
       "      <td>0</td>\n",
       "      <td>0</td>\n",
       "      <td>0</td>\n",
       "      <td>0</td>\n",
       "      <td>1</td>\n",
       "      <td>0</td>\n",
       "      <td>0</td>\n",
       "      <td>0</td>\n",
       "      <td>False</td>\n",
       "      <td>False</td>\n",
       "    </tr>\n",
       "    <tr>\n",
       "      <td>3</td>\n",
       "      <td>1.0</td>\n",
       "      <td>69.0</td>\n",
       "      <td>1</td>\n",
       "      <td>0.0</td>\n",
       "      <td>94.0</td>\n",
       "      <td>0.0</td>\n",
       "      <td>0.0</td>\n",
       "      <td>0.0</td>\n",
       "      <td>0.0</td>\n",
       "      <td>0.0</td>\n",
       "      <td>...</td>\n",
       "      <td>0</td>\n",
       "      <td>0</td>\n",
       "      <td>0</td>\n",
       "      <td>0</td>\n",
       "      <td>1</td>\n",
       "      <td>0</td>\n",
       "      <td>0</td>\n",
       "      <td>0</td>\n",
       "      <td>False</td>\n",
       "      <td>False</td>\n",
       "    </tr>\n",
       "    <tr>\n",
       "      <td>4</td>\n",
       "      <td>1.0</td>\n",
       "      <td>63.0</td>\n",
       "      <td>1</td>\n",
       "      <td>1.0</td>\n",
       "      <td>1.0</td>\n",
       "      <td>0.0</td>\n",
       "      <td>0.0</td>\n",
       "      <td>0.0</td>\n",
       "      <td>0.0</td>\n",
       "      <td>0.0</td>\n",
       "      <td>...</td>\n",
       "      <td>0</td>\n",
       "      <td>0</td>\n",
       "      <td>0</td>\n",
       "      <td>0</td>\n",
       "      <td>1</td>\n",
       "      <td>0</td>\n",
       "      <td>0</td>\n",
       "      <td>0</td>\n",
       "      <td>False</td>\n",
       "      <td>False</td>\n",
       "    </tr>\n",
       "    <tr>\n",
       "      <td>...</td>\n",
       "      <td>...</td>\n",
       "      <td>...</td>\n",
       "      <td>...</td>\n",
       "      <td>...</td>\n",
       "      <td>...</td>\n",
       "      <td>...</td>\n",
       "      <td>...</td>\n",
       "      <td>...</td>\n",
       "      <td>...</td>\n",
       "      <td>...</td>\n",
       "      <td>...</td>\n",
       "      <td>...</td>\n",
       "      <td>...</td>\n",
       "      <td>...</td>\n",
       "      <td>...</td>\n",
       "      <td>...</td>\n",
       "      <td>...</td>\n",
       "      <td>...</td>\n",
       "      <td>...</td>\n",
       "      <td>...</td>\n",
       "      <td>...</td>\n",
       "    </tr>\n",
       "    <tr>\n",
       "      <td>11364</td>\n",
       "      <td>1.0</td>\n",
       "      <td>71.0</td>\n",
       "      <td>1</td>\n",
       "      <td>0.0</td>\n",
       "      <td>206.0</td>\n",
       "      <td>1.0</td>\n",
       "      <td>0.0</td>\n",
       "      <td>1.0</td>\n",
       "      <td>0.0</td>\n",
       "      <td>0.0</td>\n",
       "      <td>...</td>\n",
       "      <td>0</td>\n",
       "      <td>0</td>\n",
       "      <td>0</td>\n",
       "      <td>0</td>\n",
       "      <td>0</td>\n",
       "      <td>0</td>\n",
       "      <td>0</td>\n",
       "      <td>0</td>\n",
       "      <td>False</td>\n",
       "      <td>False</td>\n",
       "    </tr>\n",
       "    <tr>\n",
       "      <td>11365</td>\n",
       "      <td>1.0</td>\n",
       "      <td>72.0</td>\n",
       "      <td>1</td>\n",
       "      <td>0.0</td>\n",
       "      <td>218.0</td>\n",
       "      <td>0.0</td>\n",
       "      <td>0.0</td>\n",
       "      <td>0.0</td>\n",
       "      <td>0.0</td>\n",
       "      <td>0.0</td>\n",
       "      <td>...</td>\n",
       "      <td>0</td>\n",
       "      <td>0</td>\n",
       "      <td>0</td>\n",
       "      <td>0</td>\n",
       "      <td>0</td>\n",
       "      <td>0</td>\n",
       "      <td>0</td>\n",
       "      <td>0</td>\n",
       "      <td>False</td>\n",
       "      <td>False</td>\n",
       "    </tr>\n",
       "    <tr>\n",
       "      <td>11366</td>\n",
       "      <td>1.0</td>\n",
       "      <td>73.0</td>\n",
       "      <td>1</td>\n",
       "      <td>0.0</td>\n",
       "      <td>230.0</td>\n",
       "      <td>0.0</td>\n",
       "      <td>0.0</td>\n",
       "      <td>0.0</td>\n",
       "      <td>0.0</td>\n",
       "      <td>0.0</td>\n",
       "      <td>...</td>\n",
       "      <td>0</td>\n",
       "      <td>0</td>\n",
       "      <td>0</td>\n",
       "      <td>0</td>\n",
       "      <td>0</td>\n",
       "      <td>0</td>\n",
       "      <td>0</td>\n",
       "      <td>0</td>\n",
       "      <td>False</td>\n",
       "      <td>False</td>\n",
       "    </tr>\n",
       "    <tr>\n",
       "      <td>11367</td>\n",
       "      <td>1.0</td>\n",
       "      <td>74.0</td>\n",
       "      <td>1</td>\n",
       "      <td>0.0</td>\n",
       "      <td>242.0</td>\n",
       "      <td>0.0</td>\n",
       "      <td>0.0</td>\n",
       "      <td>0.0</td>\n",
       "      <td>0.0</td>\n",
       "      <td>0.0</td>\n",
       "      <td>...</td>\n",
       "      <td>0</td>\n",
       "      <td>0</td>\n",
       "      <td>0</td>\n",
       "      <td>0</td>\n",
       "      <td>0</td>\n",
       "      <td>0</td>\n",
       "      <td>0</td>\n",
       "      <td>0</td>\n",
       "      <td>False</td>\n",
       "      <td>False</td>\n",
       "    </tr>\n",
       "    <tr>\n",
       "      <td>11368</td>\n",
       "      <td>1.0</td>\n",
       "      <td>75.0</td>\n",
       "      <td>1</td>\n",
       "      <td>0.0</td>\n",
       "      <td>254.0</td>\n",
       "      <td>0.0</td>\n",
       "      <td>0.0</td>\n",
       "      <td>0.0</td>\n",
       "      <td>0.0</td>\n",
       "      <td>0.0</td>\n",
       "      <td>...</td>\n",
       "      <td>0</td>\n",
       "      <td>0</td>\n",
       "      <td>0</td>\n",
       "      <td>0</td>\n",
       "      <td>0</td>\n",
       "      <td>0</td>\n",
       "      <td>0</td>\n",
       "      <td>0</td>\n",
       "      <td>False</td>\n",
       "      <td>False</td>\n",
       "    </tr>\n",
       "  </tbody>\n",
       "</table>\n",
       "<p>11369 rows × 46 columns</p>\n",
       "</div>"
      ],
      "text/plain": [
       "       elected   age  male  militarycareer  tenure_months  anticipation  \\\n",
       "0          1.0  66.0     1             0.0           58.0           0.0   \n",
       "1          1.0  67.0     1             0.0           70.0           0.0   \n",
       "2          1.0  68.0     1             0.0           82.0           0.0   \n",
       "3          1.0  69.0     1             0.0           94.0           0.0   \n",
       "4          1.0  63.0     1             1.0            1.0           0.0   \n",
       "...        ...   ...   ...             ...            ...           ...   \n",
       "11364      1.0  71.0     1             0.0          206.0           1.0   \n",
       "11365      1.0  72.0     1             0.0          218.0           0.0   \n",
       "11366      1.0  73.0     1             0.0          230.0           0.0   \n",
       "11367      1.0  74.0     1             0.0          242.0           0.0   \n",
       "11368      1.0  75.0     1             0.0          254.0           0.0   \n",
       "\n",
       "       ref_ant  leg_ant  exec_ant  irreg_lead_ant  ...  Party-Military  \\\n",
       "0          0.0      0.0       0.0             0.0  ...               0   \n",
       "1          0.0      0.0       0.0             0.0  ...               0   \n",
       "2          0.0      0.0       0.0             0.0  ...               0   \n",
       "3          0.0      0.0       0.0             0.0  ...               0   \n",
       "4          0.0      0.0       0.0             0.0  ...               0   \n",
       "...        ...      ...       ...             ...  ...             ...   \n",
       "11364      0.0      1.0       0.0             0.0  ...               0   \n",
       "11365      0.0      0.0       0.0             0.0  ...               0   \n",
       "11366      0.0      0.0       0.0             0.0  ...               0   \n",
       "11367      0.0      0.0       0.0             0.0  ...               0   \n",
       "11368      0.0      0.0       0.0             0.0  ...               0   \n",
       "\n",
       "       Party-Personal  Party-Personal-Military Hybrid  Personal Dictatorship  \\\n",
       "0                   0                               0                      0   \n",
       "1                   0                               0                      0   \n",
       "2                   0                               0                      0   \n",
       "3                   0                               0                      0   \n",
       "4                   0                               0                      0   \n",
       "...               ...                             ...                    ...   \n",
       "11364               0                               0                      0   \n",
       "11365               0                               0                      0   \n",
       "11366               0                               0                      0   \n",
       "11367               0                               0                      0   \n",
       "11368               0                               0                      0   \n",
       "\n",
       "       Presidential Democracy  Provisional - Civilian  Provisional - Military  \\\n",
       "0                           1                       0                       0   \n",
       "1                           1                       0                       0   \n",
       "2                           1                       0                       0   \n",
       "3                           1                       0                       0   \n",
       "4                           1                       0                       0   \n",
       "...                       ...                     ...                     ...   \n",
       "11364                       0                       0                       0   \n",
       "11365                       0                       0                       0   \n",
       "11366                       0                       0                       0   \n",
       "11367                       0                       0                       0   \n",
       "11368                       0                       0                       0   \n",
       "\n",
       "       Warlordism  pt_attempt  pt_suc  \n",
       "0               0       False   False  \n",
       "1               0       False   False  \n",
       "2               0       False   False  \n",
       "3               0       False   False  \n",
       "4               0       False   False  \n",
       "...           ...         ...     ...  \n",
       "11364           0       False   False  \n",
       "11365           0       False   False  \n",
       "11366           0       False   False  \n",
       "11367           0       False   False  \n",
       "11368           0       False   False  \n",
       "\n",
       "[11369 rows x 46 columns]"
      ]
     },
     "execution_count": 34,
     "metadata": {},
     "output_type": "execute_result"
    }
   ],
   "source": [
    "df"
   ]
  },
  {
   "cell_type": "code",
   "execution_count": 35,
   "metadata": {},
   "outputs": [
    {
     "data": {
      "text/plain": [
       "Index(['elected', 'age', 'male', 'militarycareer', 'tenure_months',\n",
       "       'anticipation', 'ref_ant', 'leg_ant', 'exec_ant', 'irreg_lead_ant',\n",
       "       'election_now', 'election_recent', 'leg_recent', 'exec_recent',\n",
       "       'lead_recent', 'ref_recent', 'direct_recent', 'indirect_recent',\n",
       "       'victory_recent', 'defeat_recent', 'change_recent', 'nochange_recent',\n",
       "       'delayed', 'lastelection', 'loss', 'irregular', 'prev_conflict',\n",
       "       'precip', 'yearcode', 'Dominant Party', 'Foreign/Occupied',\n",
       "       'Indirect Military', 'Military', 'Military-Personal', 'Monarchy',\n",
       "       'Oligarchy', 'Party-Military', 'Party-Personal',\n",
       "       'Party-Personal-Military Hybrid', 'Personal Dictatorship',\n",
       "       'Presidential Democracy', 'Provisional - Civilian',\n",
       "       'Provisional - Military', 'Warlordism', 'pt_attempt', 'pt_suc'],\n",
       "      dtype='object')"
      ]
     },
     "execution_count": 35,
     "metadata": {},
     "output_type": "execute_result"
    }
   ],
   "source": [
    "df.columns"
   ]
  },
  {
   "cell_type": "code",
   "execution_count": 189,
   "metadata": {},
   "outputs": [
    {
     "name": "stderr",
     "output_type": "stream",
     "text": [
      "/Users/taylorbritt/opt/anaconda3/lib/python3.7/site-packages/numpy/core/fromnumeric.py:2495: FutureWarning: Method .ptp is deprecated and will be removed in a future version. Use numpy.ptp instead.\n",
      "  return ptp(axis=axis, out=out, **kwargs)\n"
     ]
    }
   ],
   "source": [
    "X_train, X_test, y_train, y_test, indices = data_pipeline(df3, target = 'pt_attempt', test_size = .25, random_state = 30, VIF_drop = False, scaled = False, minmax = False, resampler = 'upsample', sample_ratio = 1)\n"
   ]
  },
  {
   "cell_type": "code",
   "execution_count": null,
   "metadata": {},
   "outputs": [],
   "source": []
  },
  {
   "cell_type": "code",
   "execution_count": 193,
   "metadata": {},
   "outputs": [],
   "source": [
    "clf = RandomForestClassifier( n_estimators = 1000, max_depth = 3)"
   ]
  },
  {
   "cell_type": "code",
   "execution_count": 194,
   "metadata": {},
   "outputs": [
    {
     "data": {
      "text/plain": [
       "RandomForestClassifier(bootstrap=True, class_weight=None, criterion='gini',\n",
       "                       max_depth=3, max_features='auto', max_leaf_nodes=None,\n",
       "                       min_impurity_decrease=0.0, min_impurity_split=None,\n",
       "                       min_samples_leaf=1, min_samples_split=2,\n",
       "                       min_weight_fraction_leaf=0.0, n_estimators=1000,\n",
       "                       n_jobs=None, oob_score=False, random_state=None,\n",
       "                       verbose=0, warm_start=False)"
      ]
     },
     "execution_count": 194,
     "metadata": {},
     "output_type": "execute_result"
    }
   ],
   "source": [
    "clf.fit(X_train, y_train)\n"
   ]
  },
  {
   "cell_type": "code",
   "execution_count": 195,
   "metadata": {},
   "outputs": [],
   "source": [
    "clf_preds = clf.predict_proba(X_test)"
   ]
  },
  {
   "cell_type": "code",
   "execution_count": 196,
   "metadata": {},
   "outputs": [],
   "source": [
    "clf_fpr, clf_tpr, thresholds = metrics.roc_curve(y_test, clf_preds[:,1])"
   ]
  },
  {
   "cell_type": "code",
   "execution_count": 160,
   "metadata": {},
   "outputs": [],
   "source": [
    "dt = DecisionTreeClassifier()"
   ]
  },
  {
   "cell_type": "code",
   "execution_count": 161,
   "metadata": {},
   "outputs": [
    {
     "data": {
      "text/plain": [
       "DecisionTreeClassifier(class_weight=None, criterion='gini', max_depth=None,\n",
       "                       max_features=None, max_leaf_nodes=None,\n",
       "                       min_impurity_decrease=0.0, min_impurity_split=None,\n",
       "                       min_samples_leaf=1, min_samples_split=2,\n",
       "                       min_weight_fraction_leaf=0.0, presort=False,\n",
       "                       random_state=None, splitter='best')"
      ]
     },
     "execution_count": 161,
     "metadata": {},
     "output_type": "execute_result"
    }
   ],
   "source": [
    "dt.fit(X_train, y_train)"
   ]
  },
  {
   "cell_type": "code",
   "execution_count": 162,
   "metadata": {},
   "outputs": [
    {
     "name": "stdout",
     "output_type": "stream",
     "text": [
      "accuracy = 0.937741822018994\n",
      "recall = 0.102803738317757\n",
      "precision = 0.11956521739130435\n",
      "f1 score = 0.11055276381909548\n"
     ]
    }
   ],
   "source": [
    "metric_test(dt, X_test, y_test)\n"
   ]
  },
  {
   "cell_type": "code",
   "execution_count": 163,
   "metadata": {},
   "outputs": [],
   "source": [
    "dt_preds = dt.predict_proba(X_test)"
   ]
  },
  {
   "cell_type": "code",
   "execution_count": 164,
   "metadata": {},
   "outputs": [],
   "source": [
    "dt_fpr, dt_tpr, thresholds = metrics.roc_curve(y_test, dt_preds[:,1])"
   ]
  },
  {
   "cell_type": "code",
   "execution_count": 165,
   "metadata": {},
   "outputs": [],
   "source": [
    "clf_fpr, clf_tpr, thresholds = metrics.roc_curve(y_test, clf_preds[:,1])"
   ]
  },
  {
   "cell_type": "code",
   "execution_count": 166,
   "metadata": {},
   "outputs": [
    {
     "name": "stdout",
     "output_type": "stream",
     "text": [
      "====yearly df=====\n",
      "accuracy = 0.6795638410130144\n",
      "recall = 0.7289719626168224\n",
      "precision = 0.08125\n",
      "f1 score = 0.14620431115276478\n"
     ]
    }
   ],
   "source": [
    "print('====yearly df=====')\n",
    "metric_test(clf, X_test, y_test)\n"
   ]
  },
  {
   "cell_type": "code",
   "execution_count": 167,
   "metadata": {},
   "outputs": [
    {
     "name": "stdout",
     "output_type": "stream",
     "text": [
      "====df2====\n",
      "accuracy = 0.6795638410130144\n",
      "recall = 0.7289719626168224\n",
      "precision = 0.08125\n",
      "f1 score = 0.14620431115276478\n"
     ]
    }
   ],
   "source": [
    "print('====df2====')\n",
    "metric_test(clf, X_test, y_test)"
   ]
  },
  {
   "cell_type": "code",
   "execution_count": 17,
   "metadata": {},
   "outputs": [],
   "source": [
    "scores = clf.predict_proba(X_test)[:,1]"
   ]
  },
  {
   "cell_type": "code",
   "execution_count": 48,
   "metadata": {},
   "outputs": [],
   "source": [
    "fpr, tpr, thresholds = metrics.roc_curve(y_test, scores)"
   ]
  },
  {
   "cell_type": "code",
   "execution_count": 103,
   "metadata": {},
   "outputs": [],
   "source": [
    "xgclf = xgb.XGBClassifier(objective = 'reg:logistic')"
   ]
  },
  {
   "cell_type": "code",
   "execution_count": 168,
   "metadata": {},
   "outputs": [],
   "source": [
    "xgclf2 = xgb.XGBClassifier(objective = 'reg:logistic')"
   ]
  },
  {
   "cell_type": "code",
   "execution_count": 56,
   "metadata": {},
   "outputs": [],
   "source": [
    "data_dmatrix = xgb.DMatrix(data=X_train,label=y_train)"
   ]
  },
  {
   "cell_type": "code",
   "execution_count": 190,
   "metadata": {},
   "outputs": [
    {
     "data": {
      "text/plain": [
       "XGBClassifier(base_score=0.5, booster='gbtree', colsample_bylevel=1,\n",
       "              colsample_bynode=1, colsample_bytree=1, gamma=0,\n",
       "              learning_rate=0.1, max_delta_step=0, max_depth=3,\n",
       "              min_child_weight=1, missing=None, n_estimators=100, n_jobs=1,\n",
       "              nthread=None, objective='reg:logistic', random_state=0,\n",
       "              reg_alpha=0, reg_lambda=1, scale_pos_weight=1, seed=None,\n",
       "              silent=None, subsample=1, verbosity=1)"
      ]
     },
     "execution_count": 190,
     "metadata": {},
     "output_type": "execute_result"
    }
   ],
   "source": [
    "xgclf2.fit(X_train, y_train)"
   ]
  },
  {
   "cell_type": "code",
   "execution_count": 191,
   "metadata": {},
   "outputs": [],
   "source": [
    "xg_preds = xgclf2.predict_proba(X_test)"
   ]
  },
  {
   "cell_type": "code",
   "execution_count": 100,
   "metadata": {},
   "outputs": [],
   "source": [
    "bin_preds = xgclf2.predict(X_test)"
   ]
  },
  {
   "cell_type": "code",
   "execution_count": 192,
   "metadata": {},
   "outputs": [
    {
     "name": "stdout",
     "output_type": "stream",
     "text": [
      "accuracy = 0.7954545454545454\n",
      "recall = 0.7029702970297029\n",
      "precision = 0.1446028513238289\n",
      "f1 score = 0.23986486486486486\n"
     ]
    }
   ],
   "source": [
    "metric_test(xgclf2, X_test, y_test)"
   ]
  },
  {
   "cell_type": "code",
   "execution_count": 88,
   "metadata": {},
   "outputs": [],
   "source": [
    "from sklearn.metrics import roc_auc_score, auc, roc_curve\n",
    "import matplotlib.pyplot as plt"
   ]
  },
  {
   "cell_type": "code",
   "execution_count": 80,
   "metadata": {},
   "outputs": [
    {
     "data": {
      "text/plain": [
       "array([0.05040842, 0.00827473, 0.00586543, ..., 0.00238031, 0.03477336,\n",
       "       0.00533398], dtype=float32)"
      ]
     },
     "execution_count": 80,
     "metadata": {},
     "output_type": "execute_result"
    }
   ],
   "source": [
    "preds[:,1]"
   ]
  },
  {
   "cell_type": "code",
   "execution_count": 172,
   "metadata": {},
   "outputs": [
    {
     "data": {
      "text/plain": [
       "0.7833558780127889"
      ]
     },
     "execution_count": 172,
     "metadata": {},
     "output_type": "execute_result"
    }
   ],
   "source": [
    "roc_auc_score(y_test, xg_preds[:,1])"
   ]
  },
  {
   "cell_type": "code",
   "execution_count": 173,
   "metadata": {},
   "outputs": [
    {
     "data": {
      "text/plain": [
       "0.7637368830955894"
      ]
     },
     "execution_count": 173,
     "metadata": {},
     "output_type": "execute_result"
    }
   ],
   "source": [
    "roc_auc_score(y_test, clf_preds[:,1])"
   ]
  },
  {
   "cell_type": "code",
   "execution_count": 174,
   "metadata": {},
   "outputs": [],
   "source": [
    "xg_fpr, xg_tpr, thresholds = metrics.roc_curve(y_test, xg_preds[:,1])"
   ]
  },
  {
   "cell_type": "code",
   "execution_count": null,
   "metadata": {},
   "outputs": [],
   "source": []
  },
  {
   "cell_type": "code",
   "execution_count": 113,
   "metadata": {},
   "outputs": [
    {
     "data": {
      "text/plain": [
       "array([1.9279029e+00, 9.2790300e-01, 9.2248660e-01, ..., 1.0617145e-03,\n",
       "       1.0131568e-03, 7.1063376e-04], dtype=float32)"
      ]
     },
     "execution_count": 113,
     "metadata": {},
     "output_type": "execute_result"
    }
   ],
   "source": [
    "thresholds"
   ]
  },
  {
   "cell_type": "code",
   "execution_count": 197,
   "metadata": {},
   "outputs": [
    {
     "data": {
      "image/png": "[encoded data removed]",
      "text/plain": [
       "<Figure size 864x864 with 1 Axes>"
      ]
     },
     "metadata": {
      "needs_background": "light"
     },
     "output_type": "display_data"
    }
   ],
   "source": [
    "fig, ax = plt.subplots(figsize = (12, 12))\n",
    "\n",
    "ax.plot(xg_fpr, xg_tpr, marker='.', label='XGboost')\n",
    "ax.plot(clf_fpr, clf_tpr, marker='x', label='Random Forest')\n",
    "#ax.plot(dt_fpr, dt_tpr, marker='+', label='Decision Tree')\n",
    "\n",
    "\n",
    "\n",
    "# axis labels\n",
    "ax.set_xlabel('False Positive Rate', fontsize = 14)\n",
    "ax.set_ylabel('True Positive Rate', fontsize = 14)\n",
    "ax.set_title('ROC for XGBoost and Random Forest (Yearly Guesses, Expanded)', fontsize = 18)\n",
    "ax.plot([0, 1], [0, 1], linestyle='--', lw=2, color='r',\n",
    "        label='Chance', alpha=.8)\n",
    "# show the legend\n",
    "ax.legend()\n",
    "# show the plot\n",
    "fig.savefig('../images/ROC_xg_rf_yearly_expanded.png')"
   ]
  },
  {
   "cell_type": "code",
   "execution_count": 116,
   "metadata": {},
   "outputs": [
    {
     "data": {
      "text/plain": [
       "array([10259, 10605,  6509, ...,  8051,  3242, 22008])"
      ]
     },
     "execution_count": 116,
     "metadata": {},
     "output_type": "execute_result"
    }
   ],
   "source": [
    "preds[:,1].argsort()"
   ]
  },
  {
   "cell_type": "code",
   "execution_count": 119,
   "metadata": {},
   "outputs": [
    {
     "data": {
      "text/plain": [
       "0.927903"
      ]
     },
     "execution_count": 119,
     "metadata": {},
     "output_type": "execute_result"
    }
   ],
   "source": [
    "preds[:,1][22008]"
   ]
  },
  {
   "cell_type": "code",
   "execution_count": 120,
   "metadata": {},
   "outputs": [
    {
     "data": {
      "text/plain": [
       "26502"
      ]
     },
     "execution_count": 120,
     "metadata": {},
     "output_type": "execute_result"
    }
   ],
   "source": [
    "len(preds)"
   ]
  },
  {
   "cell_type": "code",
   "execution_count": 153,
   "metadata": {},
   "outputs": [
    {
     "data": {
      "image/png": "[encoded data removed]",
      "text/plain": [
       "<Figure size 432x288 with 1 Axes>"
      ]
     },
     "metadata": {
      "needs_background": "light"
     },
     "output_type": "display_data"
    }
   ],
   "source": [
    "\n",
    "plt.bar(range(len(xgclf2.feature_importances_)), xgclf2.feature_importances_)\n",
    "plt.show()"
   ]
  },
  {
   "cell_type": "code",
   "execution_count": null,
   "metadata": {},
   "outputs": [],
   "source": []
  }
 ],
 "metadata": {
  "kernelspec": {
   "display_name": "Python 3",
   "language": "python",
   "name": "python3"
  },
  "language_info": {
   "codemirror_mode": {
    "name": "ipython",
    "version": 3
   },
   "file_extension": ".py",
   "mimetype": "text/x-python",
   "name": "python",
   "nbconvert_exporter": "python",
   "pygments_lexer": "ipython3",
   "version": "3.7.4"
  }
 },
 "nbformat": 4,
 "nbformat_minor": 2
}
