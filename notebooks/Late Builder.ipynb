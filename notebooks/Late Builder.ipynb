{
 "cells": [
  {
   "cell_type": "code",
   "execution_count": 7,
   "metadata": {},
   "outputs": [],
   "source": [
    "import numpy as np\n",
    "import pandas as pd\n",
    "from inv_dict import wb_cow_dict\n",
    "\n"
   ]
  },
  {
   "cell_type": "code",
   "execution_count": 13,
   "metadata": {},
   "outputs": [],
   "source": [
    "def get_cc(val):\n",
    "    if val in wb_cow_dict:\n",
    "        return wb_cow_dict[val]\n",
    "    else:\n",
    "        return 0\n",
    "    \n",
    "def get_year(val):\n",
    "    return int(val)\n",
    "\n",
    "def add_wd_rows(reign_df, wdi_df, variable_list):\n",
    "    joint_df = reign_df.copy()\n",
    "    yearlist = [str(i) for i in np.arange(1960, 2020)]\n",
    "    for i in variable_list:\n",
    "        df = wdi_df[wdi_df['Indicator Name'] == i]\n",
    "        dfx = pd.melt(df, id_vars = ['Country Name'], value_vars=yearlist)\n",
    "        dfx['ccode'] = dfx['Country Name'].apply(get_cc)\n",
    "        dfx['year'] = dfx['variable'].apply(get_year)\n",
    "        dfx['yearcode'] = (dfx['year']) + 10000*dfx['ccode']\n",
    "        dfx[i] = dfx['value']\n",
    "        dfx_limited = dfx[[i, 'yearcode']]\n",
    "        joint_df = joint_df.join(dfx_limited.set_index('yearcode'), on='yearcode', how = 'inner')\n",
    "    return joint_df"
   ]
  },
  {
   "cell_type": "code",
   "execution_count": 20,
   "metadata": {},
   "outputs": [],
   "source": [
    "reign_df = pd.read_pickle('../data/pickles/df_late.pkl')\n",
    "wdi_df = pd.read_pickle('../data/wdi_complete.pkl')"
   ]
  },
  {
   "cell_type": "code",
   "execution_count": 31,
   "metadata": {},
   "outputs": [
    {
     "data": {
      "text/plain": [
       "28       False\n",
       "29       False\n",
       "30       False\n",
       "31       False\n",
       "32       False\n",
       "         ...  \n",
       "11364    False\n",
       "11365    False\n",
       "11366    False\n",
       "11367    False\n",
       "11368    False\n",
       "Name: coupyear, Length: 8493, dtype: bool"
      ]
     },
     "execution_count": 31,
     "metadata": {},
     "output_type": "execute_result"
    }
   ],
   "source": [
    "reign_df['coupyear']"
   ]
  },
  {
   "cell_type": "code",
   "execution_count": 9,
   "metadata": {},
   "outputs": [],
   "source": [
    "populated_vars = ['Adolescent fertility rate (births per 1,000 women ages 15-19)', \n",
    "'Age dependency ratio (% of working-age population)', \n",
    "'Birth rate, crude (per 1,000 people)', \n",
    "'Death rate, crude (per 1,000 people)', \n",
    "'Fertility rate, total (births per woman)',\n",
    "'Life expectancy at birth, female (years)',\n",
    "'Life expectancy at birth, male (years)', \n",
    "'Mortality rate, adult, male (per 1,000 male adults)',\n",
    "'Population ages 0-14 (% of total population)', \n",
    "'Population growth (annual %)',\n",
    "'Rural population (% of total population)', \n",
    "'Urban population growth (annual %)']\n",
    "\n",
    "hp_vars = ['GDP (constant 2010 US$)', \n",
    "'Gross national expenditure (% of GDP)', \n",
    "'GINI index (World Bank estimate)']"
   ]
  },
  {
   "cell_type": "code",
   "execution_count": 10,
   "metadata": {},
   "outputs": [],
   "source": [
    "late_populated = ['Arable land (hectares per person)', 'Merchandise exports (current US$)', 'Merchandise imports (current US$)', 'Population growth (annual %)', 'Primary education, duration (years)', ]\n",
    "late_med = ['Air transport, registered carrier departures worldwide', 'Foreign direct investment, net inflows (% of GDP)', 'GDP growth (annual %)', 'GDP per capita (constant 2010 US$)', 'Military expenditure (% of GDP)', 'Mineral rents (% of GDP)', 'Natural gas rents (% of GDP)', 'Net official development assistance and official aid received (constant 2015 US$)', 'Oil rents (% of GDP)', 'Trade (% of GDP)']"
   ]
  },
  {
   "cell_type": "code",
   "execution_count": 15,
   "metadata": {},
   "outputs": [
    {
     "data": {
      "text/plain": [
       "['GDP (constant 2010 US$)',\n",
       " 'Gross national expenditure (% of GDP)',\n",
       " 'GINI index (World Bank estimate)']"
      ]
     },
     "execution_count": 15,
     "metadata": {},
     "output_type": "execute_result"
    }
   ],
   "source": [
    "hp_vars"
   ]
  },
  {
   "cell_type": "code",
   "execution_count": 11,
   "metadata": {},
   "outputs": [
    {
     "data": {
      "text/plain": [
       "['Arable land (hectares per person)',\n",
       " 'Merchandise exports (current US$)',\n",
       " 'Merchandise imports (current US$)',\n",
       " 'Population growth (annual %)',\n",
       " 'Primary education, duration (years)']"
      ]
     },
     "execution_count": 11,
     "metadata": {},
     "output_type": "execute_result"
    }
   ],
   "source": [
    "late_populated"
   ]
  },
  {
   "cell_type": "code",
   "execution_count": 12,
   "metadata": {},
   "outputs": [
    {
     "data": {
      "text/plain": [
       "['Air transport, registered carrier departures worldwide',\n",
       " 'Foreign direct investment, net inflows (% of GDP)',\n",
       " 'GDP growth (annual %)',\n",
       " 'GDP per capita (constant 2010 US$)',\n",
       " 'Military expenditure (% of GDP)',\n",
       " 'Mineral rents (% of GDP)',\n",
       " 'Natural gas rents (% of GDP)',\n",
       " 'Net official development assistance and official aid received (constant 2015 US$)',\n",
       " 'Oil rents (% of GDP)',\n",
       " 'Trade (% of GDP)']"
      ]
     },
     "execution_count": 12,
     "metadata": {},
     "output_type": "execute_result"
    }
   ],
   "source": [
    "late_med"
   ]
  },
  {
   "cell_type": "code",
   "execution_count": 16,
   "metadata": {},
   "outputs": [
    {
     "data": {
      "text/plain": [
       "['Adolescent fertility rate (births per 1,000 women ages 15-19)',\n",
       " 'Age dependency ratio (% of working-age population)',\n",
       " 'Birth rate, crude (per 1,000 people)',\n",
       " 'Death rate, crude (per 1,000 people)',\n",
       " 'Fertility rate, total (births per woman)',\n",
       " 'Life expectancy at birth, female (years)',\n",
       " 'Life expectancy at birth, male (years)',\n",
       " 'Mortality rate, adult, male (per 1,000 male adults)',\n",
       " 'Population ages 0-14 (% of total population)',\n",
       " 'Population growth (annual %)',\n",
       " 'Rural population (% of total population)',\n",
       " 'Urban population growth (annual %)']"
      ]
     },
     "execution_count": 16,
     "metadata": {},
     "output_type": "execute_result"
    }
   ],
   "source": [
    "populated_vars"
   ]
  },
  {
   "cell_type": "code",
   "execution_count": 48,
   "metadata": {},
   "outputs": [
    {
     "data": {
      "text/plain": [
       "['Life expectancy at birth, female (years)',\n",
       " 'GDP growth (annual %)',\n",
       " 'Mineral rents (% of GDP)',\n",
       " 'Oil rents (% of GDP)',\n",
       " 'Trade (% of GDP)',\n",
       " 'Rural population (% of total population)']"
      ]
     },
     "execution_count": 48,
     "metadata": {},
     "output_type": "execute_result"
    }
   ],
   "source": [
    "variable_list"
   ]
  },
  {
   "cell_type": "code",
   "execution_count": 40,
   "metadata": {},
   "outputs": [],
   "source": [
    "variable_list = ['Life expectancy at birth, female (years)', 'GDP growth (annual %)', 'Mineral rents (% of GDP)', 'Oil rents (% of GDP)', 'Trade (% of GDP)', 'Rural population (% of total population)', ]"
   ]
  },
  {
   "cell_type": "code",
   "execution_count": 51,
   "metadata": {},
   "outputs": [],
   "source": [
    "variable_list_expanded = ['Life expectancy at birth, female (years)', 'GDP growth (annual %)', 'Mineral rents (% of GDP)', 'Oil rents (% of GDP)', 'Trade (% of GDP)', 'Foreign direct investment, net inflows (% of GDP)', 'Natural gas rents (% of GDP)', 'Population ages 0-14 (% of total population)', 'Rural population (% of total population)',  'Population growth (annual %)', 'GINI index (World Bank estimate)']"
   ]
  },
  {
   "cell_type": "code",
   "execution_count": 41,
   "metadata": {},
   "outputs": [],
   "source": [
    "joint_df = add_wd_rows(reign_df, wdi_df, variable_list)"
   ]
  },
  {
   "cell_type": "code",
   "execution_count": 56,
   "metadata": {},
   "outputs": [],
   "source": [
    "variable_list_expanded_test = ['Life expectancy at birth, female (years)', 'GDP growth (annual %)', 'Mineral rents (% of GDP)', 'Oil rents (% of GDP)', 'Trade (% of GDP)', 'Foreign direct investment, net inflows (% of GDP)', 'Natural gas rents (% of GDP)', 'Population ages 0-14 (% of total population)', 'Rural population (% of total population)',  'Population growth (annual %)']"
   ]
  },
  {
   "cell_type": "code",
   "execution_count": 57,
   "metadata": {},
   "outputs": [],
   "source": [
    "joint_df2 = add_wd_rows(reign_df, wdi_df, variable_list_expanded_test)"
   ]
  },
  {
   "cell_type": "code",
   "execution_count": 58,
   "metadata": {},
   "outputs": [
    {
     "data": {
      "text/plain": [
       "(8041, 48)"
      ]
     },
     "execution_count": 58,
     "metadata": {},
     "output_type": "execute_result"
    }
   ],
   "source": [
    "joint_df2.shape"
   ]
  },
  {
   "cell_type": "code",
   "execution_count": 60,
   "metadata": {},
   "outputs": [],
   "source": [
    "joint_df2.dropna().to_pickle('../data/pickles/late_joined_expanded_no_na.pkl')"
   ]
  },
  {
   "cell_type": "code",
   "execution_count": 42,
   "metadata": {},
   "outputs": [],
   "source": [
    "no_na_df = joint_df.dropna()"
   ]
  },
  {
   "cell_type": "code",
   "execution_count": 43,
   "metadata": {},
   "outputs": [],
   "source": [
    "zero_df = joint_df.fillna(value = 0)"
   ]
  },
  {
   "cell_type": "code",
   "execution_count": 44,
   "metadata": {},
   "outputs": [],
   "source": [
    "no_na_df.to_pickle('../data/pickles/late_joined_no_na.pkl')"
   ]
  },
  {
   "cell_type": "code",
   "execution_count": 45,
   "metadata": {},
   "outputs": [],
   "source": [
    "zero_df.to_pickle('../data/pickles/late_joined_zero_fill.pkl')"
   ]
  },
  {
   "cell_type": "code",
   "execution_count": 47,
   "metadata": {},
   "outputs": [
    {
     "data": {
      "text/plain": [
       "Index(['ccode', 'country', 'leader', 'year', 'month', 'elected', 'age', 'male',\n",
       "       'militarycareer', 'tenure_months', 'government', 'anticipation',\n",
       "       'ref_ant', 'leg_ant', 'exec_ant', 'irreg_lead_ant', 'election_now',\n",
       "       'election_recent', 'leg_recent', 'exec_recent', 'lead_recent',\n",
       "       'ref_recent', 'direct_recent', 'indirect_recent', 'victory_recent',\n",
       "       'defeat_recent', 'change_recent', 'nochange_recent', 'delayed',\n",
       "       'lastelection', 'loss', 'irregular', 'prev_conflict', 'precip',\n",
       "       'yearcode', 'coupyear', 'coupsuc', 'risk',\n",
       "       'Life expectancy at birth, female (years)', 'GDP growth (annual %)',\n",
       "       'Mineral rents (% of GDP)', 'Oil rents (% of GDP)', 'Trade (% of GDP)',\n",
       "       'Rural population (% of total population)'],\n",
       "      dtype='object')"
      ]
     },
     "execution_count": 47,
     "metadata": {},
     "output_type": "execute_result"
    }
   ],
   "source": [
    "no_na_df.columns"
   ]
  },
  {
   "cell_type": "code",
   "execution_count": null,
   "metadata": {},
   "outputs": [],
   "source": []
  }
 ],
 "metadata": {
  "kernelspec": {
   "display_name": "Python 3",
   "language": "python",
   "name": "python3"
  },
  "language_info": {
   "codemirror_mode": {
    "name": "ipython",
    "version": 3
   },
   "file_extension": ".py",
   "mimetype": "text/x-python",
   "name": "python",
   "nbconvert_exporter": "python",
   "pygments_lexer": "ipython3",
   "version": "3.7.4"
  }
 },
 "nbformat": 4,
 "nbformat_minor": 2
}
