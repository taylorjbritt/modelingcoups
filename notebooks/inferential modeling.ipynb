{
 "cells": [
  {
   "cell_type": "code",
   "execution_count": 9,
   "metadata": {},
   "outputs": [],
   "source": [
    "import numpy as np\n",
    "import pandas as pd\n",
    "from sklearn import tree\n",
    "from sklearn.model_selection import train_test_split\n",
    "from sklearn.linear_model import LogisticRegression, LogisticRegressionCV\n",
    "from sklearn import metrics\n",
    "from sklearn.metrics import accuracy_score, precision_score, recall_score, f1_score, r2_score\n",
    "from sklearn.utils import resample\n",
    "from sklearn.preprocessing import StandardScaler, MinMaxScaler\n",
    "from statsmodels.stats.outliers_influence import variance_inflation_factor\n",
    "from statsmodels.tools.tools import add_constant\n",
    "from statsmodels.regression.linear_model import OLS\n",
    "from sklearn.ensemble import GradientBoostingClassifier, RandomForestClassifier\n",
    "from sklearn.inspection import plot_partial_dependence\n",
    "from imblearn.over_sampling import SMOTE\n",
    "import matplotlib.pyplot as plt\n",
    "import xgboost as xgb\n",
    "from sklearn.tree import DecisionTreeClassifier\n",
    "from sklearn.pipeline import Pipeline\n",
    "pd.options.display.max_rows = 999\n",
    "pd.options.display.max_columns = 999"
   ]
  },
  {
   "cell_type": "code",
   "execution_count": 52,
   "metadata": {},
   "outputs": [],
   "source": [
    "def upsampler(X_train, y_train, target = 'pt_attempt'):\n",
    "    '''\n",
    "    Args: X_train and y_train\n",
    "    Optional: what is the target\n",
    "    Returns: y_train, and X_train with the target rows sampled with replacement to equal \n",
    "    the number of non-target rows (makes X_train much bigger)\n",
    "    '''\n",
    "    y_train = pd.Series(y_train)\n",
    "    \n",
    "    X = pd.concat([X_train, y_train], axis=1) \n",
    "    no_coup = X[X[target]==0]\n",
    "    coup = X[X[target]==1]\n",
    "    coups_upsampled = resample(coup,\n",
    "                          replace=True, # sample with replacement\n",
    "                          n_samples=len(no_coup), # match number in majority class\n",
    "                          random_state=29)\n",
    "    upsampled = pd.concat([no_coup, coups_upsampled])\n",
    "    y_up = upsampled[target]\n",
    "    X_up = upsampled.drop(target, axis = 1)\n",
    "    return X_up, y_up\n",
    "\n",
    "def metric_test(model, X_test, y_test):\n",
    "    '''\n",
    "    Prints out the accuracy, recall, precision, and f1 score for the \n",
    "    fit model when it predicts on the test data\n",
    "    '''\n",
    "    preds = model.predict(X_test)\n",
    "    print('accuracy = ' + str(accuracy_score(y_test, preds)))\n",
    "    print('recall = ' + str(recall_score(y_test, preds)))\n",
    "    print('precision = ' + str(precision_score(y_test, preds)))\n",
    "    print('f1 score = ' + str(f1_score(y_test, preds)))\n",
    "    \n",
    "def get_feature_weights(model, feature_labels):\n",
    "    '''\n",
    "    returns coefficients for features in a model (intended for logistic regression) \n",
    "    args: model, feature_labels\n",
    "    returns: a sorted series in ascending order of feature weights.\n",
    "    '''\n",
    "    d_log_vals = {}\n",
    "    for idx, feat in enumerate(model.coef_[0]):\n",
    "        d_log_vals[feature_labels[idx]] = feat  \n",
    "    s_log_vals = (pd.Series(d_log_vals)).sort_values()\n",
    "    return s_log_vals"
   ]
  },
  {
   "cell_type": "code",
   "execution_count": 26,
   "metadata": {},
   "outputs": [],
   "source": [
    "df_max = pd.read_pickle('../data/pickles/df_maximus.pkl')"
   ]
  },
  {
   "cell_type": "code",
   "execution_count": 27,
   "metadata": {},
   "outputs": [
    {
     "data": {
      "text/plain": [
       "(7721, 67)"
      ]
     },
     "execution_count": 27,
     "metadata": {},
     "output_type": "execute_result"
    }
   ],
   "source": [
    "df_max.shape"
   ]
  },
  {
   "cell_type": "code",
   "execution_count": 28,
   "metadata": {},
   "outputs": [],
   "source": [
    "df = df_max.drop(['month'], axis =1).dropna()"
   ]
  },
  {
   "cell_type": "code",
   "execution_count": 29,
   "metadata": {},
   "outputs": [],
   "source": [
    "y = df['pt_attempt']\n",
    "X = df.drop(['pt_attempt','pt_suc'], axis = 1)"
   ]
  },
  {
   "cell_type": "code",
   "execution_count": 51,
   "metadata": {},
   "outputs": [
    {
     "data": {
      "text/plain": [
       "Index(['year', 'elected', 'age', 'male', 'militarycareer', 'tenure_months',\n",
       "       'anticipation', 'ref_ant', 'leg_ant', 'exec_ant', 'irreg_lead_ant',\n",
       "       'election_now', 'election_recent', 'leg_recent', 'exec_recent',\n",
       "       'lead_recent', 'ref_recent', 'direct_recent', 'indirect_recent',\n",
       "       'victory_recent', 'defeat_recent', 'change_recent', 'nochange_recent',\n",
       "       'delayed', 'lastelection', 'loss', 'irregular', 'prev_conflict',\n",
       "       'precip',\n",
       "       'Adolescent fertility rate (births per 1,000 women ages 15-19)',\n",
       "       'Age dependency ratio (% of working-age population)',\n",
       "       'Birth rate, crude (per 1,000 people)',\n",
       "       'Death rate, crude (per 1,000 people)',\n",
       "       'Fertility rate, total (births per woman)',\n",
       "       'Life expectancy at birth, female (years)',\n",
       "       'Life expectancy at birth, male (years)',\n",
       "       'Mortality rate, adult, male (per 1,000 male adults)',\n",
       "       'Population ages 0-14 (% of total population)',\n",
       "       'Population growth (annual %)',\n",
       "       'Rural population (% of total population)',\n",
       "       'Urban population growth (annual %)', 'imports', 'exports', 'milex',\n",
       "       'milper', 'irst', 'pec', 'upop', 'cinc', 'Dominant Party',\n",
       "       'Foreign/Occupied', 'Indirect Military', 'Military',\n",
       "       'Military-Personal', 'Monarchy', 'Oligarchy', 'Party-Military',\n",
       "       'Party-Personal', 'Party-Personal-Military Hybrid',\n",
       "       'Personal Dictatorship', 'Presidential Democracy',\n",
       "       'Provisional - Civilian', 'Provisional - Military', 'Warlordism'],\n",
       "      dtype='object')"
      ]
     },
     "execution_count": 51,
     "metadata": {},
     "output_type": "execute_result"
    }
   ],
   "source": [
    "X.columns"
   ]
  },
  {
   "cell_type": "code",
   "execution_count": 64,
   "metadata": {},
   "outputs": [],
   "source": [
    "clf = RandomForestClassifier(max_depth=5, n_estimators=1000)"
   ]
  },
  {
   "cell_type": "code",
   "execution_count": 65,
   "metadata": {},
   "outputs": [],
   "source": [
    "rfpipe = Pipeline([('scaler', StandardScaler()),('rf', clf)])"
   ]
  },
  {
   "cell_type": "code",
   "execution_count": 31,
   "metadata": {},
   "outputs": [],
   "source": [
    "X_train, X_test, y_train, y_test = train_test_split(X, y, test_size= .25, random_state= 40, stratify = y)"
   ]
  },
  {
   "cell_type": "code",
   "execution_count": 32,
   "metadata": {},
   "outputs": [],
   "source": [
    "X_up, y_up = upsampler(X_train, y_train)"
   ]
  },
  {
   "cell_type": "code",
   "execution_count": 66,
   "metadata": {},
   "outputs": [
    {
     "data": {
      "text/plain": [
       "Pipeline(memory=None,\n",
       "         steps=[('scaler',\n",
       "                 StandardScaler(copy=True, with_mean=True, with_std=True)),\n",
       "                ('rf',\n",
       "                 RandomForestClassifier(bootstrap=True, class_weight=None,\n",
       "                                        criterion='gini', max_depth=5,\n",
       "                                        max_features='auto',\n",
       "                                        max_leaf_nodes=None,\n",
       "                                        min_impurity_decrease=0.0,\n",
       "                                        min_impurity_split=None,\n",
       "                                        min_samples_leaf=1, min_samples_split=2,\n",
       "                                        min_weight_fraction_leaf=0.0,\n",
       "                                        n_estimators=1000, n_jobs=None,\n",
       "                                        oob_score=False, random_state=None,\n",
       "                                        verbose=0, warm_start=False))],\n",
       "         verbose=False)"
      ]
     },
     "execution_count": 66,
     "metadata": {},
     "output_type": "execute_result"
    }
   ],
   "source": [
    "rfpipe.fit(X_up, y_up)"
   ]
  },
  {
   "cell_type": "code",
   "execution_count": 34,
   "metadata": {},
   "outputs": [
    {
     "name": "stdout",
     "output_type": "stream",
     "text": [
      "accuracy = 0.7226435536294691\n",
      "recall = 0.7023809523809523\n",
      "precision = 0.10805860805860806\n",
      "f1 score = 0.1873015873015873\n"
     ]
    }
   ],
   "source": [
    "metric_test(rfpipe, X_test, y_test)"
   ]
  },
  {
   "cell_type": "code",
   "execution_count": 25,
   "metadata": {},
   "outputs": [
    {
     "name": "stdout",
     "output_type": "stream",
     "text": [
      "accuracy = 0.7161430119176598\n",
      "recall = 0.7023809523809523\n",
      "precision = 0.1057347670250896\n",
      "f1 score = 0.1838006230529595\n"
     ]
    }
   ],
   "source": [
    "#metric_test(rfpipe, X_test, y_test)"
   ]
  },
  {
   "cell_type": "code",
   "execution_count": 39,
   "metadata": {},
   "outputs": [],
   "source": [
    "ridge_scaled = LogisticRegressionCV(\n",
    "        cv=5, dual=False,\n",
    "        penalty='l1', \n",
    "        scoring='recall',\n",
    "        solver='saga', \n",
    "        n_jobs = 2,\n",
    "        tol=0.0001,\n",
    "        max_iter=100,)"
   ]
  },
  {
   "cell_type": "code",
   "execution_count": 40,
   "metadata": {},
   "outputs": [],
   "source": [
    "logl1pipe = Pipeline([('scaler', StandardScaler()),('ridge_scaled', ridge_scaled)])"
   ]
  },
  {
   "cell_type": "code",
   "execution_count": 41,
   "metadata": {},
   "outputs": [
    {
     "name": "stderr",
     "output_type": "stream",
     "text": [
      "/Users/taylorbritt/opt/anaconda3/lib/python3.7/site-packages/sklearn/linear_model/sag.py:337: ConvergenceWarning: The max_iter was reached which means the coef_ did not converge\n",
      "  \"the coef_ did not converge\", ConvergenceWarning)\n",
      "/Users/taylorbritt/opt/anaconda3/lib/python3.7/site-packages/sklearn/linear_model/sag.py:337: ConvergenceWarning: The max_iter was reached which means the coef_ did not converge\n",
      "  \"the coef_ did not converge\", ConvergenceWarning)\n",
      "/Users/taylorbritt/opt/anaconda3/lib/python3.7/site-packages/sklearn/linear_model/sag.py:337: ConvergenceWarning: The max_iter was reached which means the coef_ did not converge\n",
      "  \"the coef_ did not converge\", ConvergenceWarning)\n",
      "/Users/taylorbritt/opt/anaconda3/lib/python3.7/site-packages/sklearn/linear_model/sag.py:337: ConvergenceWarning: The max_iter was reached which means the coef_ did not converge\n",
      "  \"the coef_ did not converge\", ConvergenceWarning)\n",
      "/Users/taylorbritt/opt/anaconda3/lib/python3.7/site-packages/sklearn/linear_model/sag.py:337: ConvergenceWarning: The max_iter was reached which means the coef_ did not converge\n",
      "  \"the coef_ did not converge\", ConvergenceWarning)\n",
      "/Users/taylorbritt/opt/anaconda3/lib/python3.7/site-packages/sklearn/linear_model/sag.py:337: ConvergenceWarning: The max_iter was reached which means the coef_ did not converge\n",
      "  \"the coef_ did not converge\", ConvergenceWarning)\n"
     ]
    },
    {
     "data": {
      "text/plain": [
       "Pipeline(memory=None,\n",
       "         steps=[('scaler',\n",
       "                 StandardScaler(copy=True, with_mean=True, with_std=True)),\n",
       "                ('ridge_scaled',\n",
       "                 LogisticRegressionCV(Cs=10, class_weight=None, cv=5,\n",
       "                                      dual=False, fit_intercept=True,\n",
       "                                      intercept_scaling=1.0, l1_ratios=None,\n",
       "                                      max_iter=100, multi_class='warn',\n",
       "                                      n_jobs=2, penalty='l1', random_state=None,\n",
       "                                      refit=True, scoring='recall',\n",
       "                                      solver='saga', tol=0.0001, verbose=0))],\n",
       "         verbose=False)"
      ]
     },
     "execution_count": 41,
     "metadata": {},
     "output_type": "execute_result"
    }
   ],
   "source": [
    "logl1pipe.fit(X_up, y_up)"
   ]
  },
  {
   "cell_type": "code",
   "execution_count": 42,
   "metadata": {},
   "outputs": [
    {
     "name": "stdout",
     "output_type": "stream",
     "text": [
      "accuracy = 0.7210184182015168\n",
      "recall = 0.7023809523809523\n",
      "precision = 0.10746812386156648\n",
      "f1 score = 0.1864139020537125\n"
     ]
    }
   ],
   "source": [
    "metric_test(logl1pipe, X_test, y_test)"
   ]
  },
  {
   "cell_type": "code",
   "execution_count": 50,
   "metadata": {},
   "outputs": [
    {
     "data": {
      "text/plain": [
       "64"
      ]
     },
     "execution_count": 50,
     "metadata": {},
     "output_type": "execute_result"
    }
   ],
   "source": [
    "len(ridge_scaled.coef_[0]), "
   ]
  },
  {
   "cell_type": "code",
   "execution_count": 54,
   "metadata": {},
   "outputs": [
    {
     "data": {
      "text/plain": [
       "irregular                                                       -0.437488\n",
       "Life expectancy at birth, female (years)                        -0.386778\n",
       "upop                                                            -0.341833\n",
       "cinc                                                            -0.323442\n",
       "loss                                                            -0.262181\n",
       "election_recent                                                 -0.261735\n",
       "year                                                            -0.254180\n",
       "Monarchy                                                        -0.246250\n",
       "exports                                                         -0.234292\n",
       "Oligarchy                                                       -0.230480\n",
       "Dominant Party                                                  -0.219033\n",
       "Rural population (% of total population)                        -0.205509\n",
       "male                                                            -0.181997\n",
       "precip                                                          -0.098750\n",
       "Party-Personal                                                  -0.077943\n",
       "leg_recent                                                      -0.066780\n",
       "leg_ant                                                         -0.064969\n",
       "tenure_months                                                   -0.051983\n",
       "Age dependency ratio (% of working-age population)              -0.050404\n",
       "Party-Personal-Military Hybrid                                  -0.037198\n",
       "Adolescent fertility rate (births per 1,000 women ages 15-19)   -0.024229\n",
       "Mortality rate, adult, male (per 1,000 male adults)             -0.006790\n",
       "Population growth (annual %)                                    -0.004021\n",
       "imports                                                          0.000000\n",
       "milper                                                           0.000000\n",
       "Life expectancy at birth, male (years)                           0.000000\n",
       "Foreign/Occupied                                                 0.000000\n",
       "Death rate, crude (per 1,000 people)                             0.000000\n",
       "Presidential Democracy                                           0.000000\n",
       "milex                                                            0.000000\n",
       "irst                                                             0.000000\n",
       "Birth rate, crude (per 1,000 people)                             0.000000\n",
       "exec_recent                                                      0.000000\n",
       "lead_recent                                                      0.000000\n",
       "direct_recent                                                    0.000000\n",
       "indirect_recent                                                  0.000000\n",
       "defeat_recent                                                    0.000000\n",
       "anticipation                                                     0.000000\n",
       "election_now                                                     0.000000\n",
       "nochange_recent                                                  0.000000\n",
       "Party-Military                                                   0.019540\n",
       "militarycareer                                                   0.031912\n",
       "elected                                                          0.049947\n",
       "irreg_lead_ant                                                   0.054306\n",
       "Urban population growth (annual %)                               0.058121\n",
       "ref_recent                                                       0.062737\n",
       "exec_ant                                                         0.073546\n",
       "ref_ant                                                          0.087635\n",
       "delayed                                                          0.088244\n",
       "Warlordism                                                       0.096057\n",
       "Provisional - Civilian                                           0.096990\n",
       "change_recent                                                    0.101093\n",
       "Provisional - Military                                           0.112685\n",
       "victory_recent                                                   0.139849\n",
       "age                                                              0.149444\n",
       "Indirect Military                                                0.157331\n",
       "prev_conflict                                                    0.174787\n",
       "Military-Personal                                                0.178138\n",
       "Personal Dictatorship                                            0.191795\n",
       "Military                                                         0.265745\n",
       "Fertility rate, total (births per woman)                         0.289217\n",
       "Population ages 0-14 (% of total population)                     0.347287\n",
       "pec                                                              0.450466\n",
       "lastelection                                                     0.464393\n",
       "dtype: float64"
      ]
     },
     "execution_count": 54,
     "metadata": {},
     "output_type": "execute_result"
    }
   ],
   "source": [
    "get_feature_weights(ridge_scaled, X.columns)"
   ]
  },
  {
   "cell_type": "code",
   "execution_count": 55,
   "metadata": {},
   "outputs": [],
   "source": [
    "elastic_scaled = LogisticRegressionCV(\n",
    "        cv=5, dual=False,\n",
    "        penalty='elasticnet', \n",
    "        scoring='recall',\n",
    "        solver='saga', \n",
    "        n_jobs = 2,\n",
    "        tol=0.0001,\n",
    "        max_iter=100,\n",
    "        l1_ratios = [0, .3, .5, .7, 1])"
   ]
  },
  {
   "cell_type": "code",
   "execution_count": 56,
   "metadata": {},
   "outputs": [],
   "source": [
    "logl1pipe2 = Pipeline([('scaler', StandardScaler()),('elastic_scaled', elastic_scaled)])"
   ]
  },
  {
   "cell_type": "code",
   "execution_count": 57,
   "metadata": {},
   "outputs": [
    {
     "name": "stderr",
     "output_type": "stream",
     "text": [
      "/Users/taylorbritt/opt/anaconda3/lib/python3.7/site-packages/sklearn/linear_model/sag.py:337: ConvergenceWarning: The max_iter was reached which means the coef_ did not converge\n",
      "  \"the coef_ did not converge\", ConvergenceWarning)\n",
      "/Users/taylorbritt/opt/anaconda3/lib/python3.7/site-packages/sklearn/linear_model/sag.py:337: ConvergenceWarning: The max_iter was reached which means the coef_ did not converge\n",
      "  \"the coef_ did not converge\", ConvergenceWarning)\n",
      "/Users/taylorbritt/opt/anaconda3/lib/python3.7/site-packages/sklearn/linear_model/sag.py:337: ConvergenceWarning: The max_iter was reached which means the coef_ did not converge\n",
      "  \"the coef_ did not converge\", ConvergenceWarning)\n",
      "/Users/taylorbritt/opt/anaconda3/lib/python3.7/site-packages/sklearn/linear_model/sag.py:337: ConvergenceWarning: The max_iter was reached which means the coef_ did not converge\n",
      "  \"the coef_ did not converge\", ConvergenceWarning)\n",
      "/Users/taylorbritt/opt/anaconda3/lib/python3.7/site-packages/sklearn/linear_model/sag.py:337: ConvergenceWarning: The max_iter was reached which means the coef_ did not converge\n",
      "  \"the coef_ did not converge\", ConvergenceWarning)\n",
      "/Users/taylorbritt/opt/anaconda3/lib/python3.7/site-packages/sklearn/linear_model/sag.py:337: ConvergenceWarning: The max_iter was reached which means the coef_ did not converge\n",
      "  \"the coef_ did not converge\", ConvergenceWarning)\n",
      "/Users/taylorbritt/opt/anaconda3/lib/python3.7/site-packages/sklearn/linear_model/sag.py:337: ConvergenceWarning: The max_iter was reached which means the coef_ did not converge\n",
      "  \"the coef_ did not converge\", ConvergenceWarning)\n",
      "/Users/taylorbritt/opt/anaconda3/lib/python3.7/site-packages/sklearn/linear_model/sag.py:337: ConvergenceWarning: The max_iter was reached which means the coef_ did not converge\n",
      "  \"the coef_ did not converge\", ConvergenceWarning)\n",
      "/Users/taylorbritt/opt/anaconda3/lib/python3.7/site-packages/sklearn/linear_model/sag.py:337: ConvergenceWarning: The max_iter was reached which means the coef_ did not converge\n",
      "  \"the coef_ did not converge\", ConvergenceWarning)\n",
      "/Users/taylorbritt/opt/anaconda3/lib/python3.7/site-packages/sklearn/linear_model/sag.py:337: ConvergenceWarning: The max_iter was reached which means the coef_ did not converge\n",
      "  \"the coef_ did not converge\", ConvergenceWarning)\n",
      "/Users/taylorbritt/opt/anaconda3/lib/python3.7/site-packages/sklearn/linear_model/sag.py:337: ConvergenceWarning: The max_iter was reached which means the coef_ did not converge\n",
      "  \"the coef_ did not converge\", ConvergenceWarning)\n",
      "/Users/taylorbritt/opt/anaconda3/lib/python3.7/site-packages/sklearn/linear_model/sag.py:337: ConvergenceWarning: The max_iter was reached which means the coef_ did not converge\n",
      "  \"the coef_ did not converge\", ConvergenceWarning)\n",
      "/Users/taylorbritt/opt/anaconda3/lib/python3.7/site-packages/sklearn/linear_model/sag.py:337: ConvergenceWarning: The max_iter was reached which means the coef_ did not converge\n",
      "  \"the coef_ did not converge\", ConvergenceWarning)\n",
      "/Users/taylorbritt/opt/anaconda3/lib/python3.7/site-packages/sklearn/linear_model/sag.py:337: ConvergenceWarning: The max_iter was reached which means the coef_ did not converge\n",
      "  \"the coef_ did not converge\", ConvergenceWarning)\n",
      "/Users/taylorbritt/opt/anaconda3/lib/python3.7/site-packages/sklearn/linear_model/sag.py:337: ConvergenceWarning: The max_iter was reached which means the coef_ did not converge\n",
      "  \"the coef_ did not converge\", ConvergenceWarning)\n",
      "/Users/taylorbritt/opt/anaconda3/lib/python3.7/site-packages/sklearn/linear_model/sag.py:337: ConvergenceWarning: The max_iter was reached which means the coef_ did not converge\n",
      "  \"the coef_ did not converge\", ConvergenceWarning)\n",
      "/Users/taylorbritt/opt/anaconda3/lib/python3.7/site-packages/sklearn/linear_model/sag.py:337: ConvergenceWarning: The max_iter was reached which means the coef_ did not converge\n",
      "  \"the coef_ did not converge\", ConvergenceWarning)\n",
      "/Users/taylorbritt/opt/anaconda3/lib/python3.7/site-packages/sklearn/linear_model/sag.py:337: ConvergenceWarning: The max_iter was reached which means the coef_ did not converge\n",
      "  \"the coef_ did not converge\", ConvergenceWarning)\n",
      "/Users/taylorbritt/opt/anaconda3/lib/python3.7/site-packages/sklearn/linear_model/sag.py:337: ConvergenceWarning: The max_iter was reached which means the coef_ did not converge\n",
      "  \"the coef_ did not converge\", ConvergenceWarning)\n",
      "/Users/taylorbritt/opt/anaconda3/lib/python3.7/site-packages/sklearn/linear_model/sag.py:337: ConvergenceWarning: The max_iter was reached which means the coef_ did not converge\n",
      "  \"the coef_ did not converge\", ConvergenceWarning)\n",
      "/Users/taylorbritt/opt/anaconda3/lib/python3.7/site-packages/sklearn/linear_model/sag.py:337: ConvergenceWarning: The max_iter was reached which means the coef_ did not converge\n",
      "  \"the coef_ did not converge\", ConvergenceWarning)\n",
      "/Users/taylorbritt/opt/anaconda3/lib/python3.7/site-packages/sklearn/linear_model/sag.py:337: ConvergenceWarning: The max_iter was reached which means the coef_ did not converge\n",
      "  \"the coef_ did not converge\", ConvergenceWarning)\n",
      "/Users/taylorbritt/opt/anaconda3/lib/python3.7/site-packages/sklearn/linear_model/sag.py:337: ConvergenceWarning: The max_iter was reached which means the coef_ did not converge\n",
      "  \"the coef_ did not converge\", ConvergenceWarning)\n",
      "/Users/taylorbritt/opt/anaconda3/lib/python3.7/site-packages/sklearn/linear_model/sag.py:337: ConvergenceWarning: The max_iter was reached which means the coef_ did not converge\n",
      "  \"the coef_ did not converge\", ConvergenceWarning)\n",
      "/Users/taylorbritt/opt/anaconda3/lib/python3.7/site-packages/sklearn/linear_model/sag.py:337: ConvergenceWarning: The max_iter was reached which means the coef_ did not converge\n",
      "  \"the coef_ did not converge\", ConvergenceWarning)\n",
      "/Users/taylorbritt/opt/anaconda3/lib/python3.7/site-packages/sklearn/linear_model/sag.py:337: ConvergenceWarning: The max_iter was reached which means the coef_ did not converge\n",
      "  \"the coef_ did not converge\", ConvergenceWarning)\n"
     ]
    },
    {
     "data": {
      "text/plain": [
       "Pipeline(memory=None,\n",
       "         steps=[('scaler',\n",
       "                 StandardScaler(copy=True, with_mean=True, with_std=True)),\n",
       "                ('elastic_scaled',\n",
       "                 LogisticRegressionCV(Cs=10, class_weight=None, cv=5,\n",
       "                                      dual=False, fit_intercept=True,\n",
       "                                      intercept_scaling=1.0,\n",
       "                                      l1_ratios=[0, 0.3, 0.5, 0.7, 1],\n",
       "                                      max_iter=100, multi_class='warn',\n",
       "                                      n_jobs=2, penalty='elasticnet',\n",
       "                                      random_state=None, refit=True,\n",
       "                                      scoring='recall', solver='saga',\n",
       "                                      tol=0.0001, verbose=0))],\n",
       "         verbose=False)"
      ]
     },
     "execution_count": 57,
     "metadata": {},
     "output_type": "execute_result"
    }
   ],
   "source": [
    "logl1pipe2.fit(X_up, y_up)"
   ]
  },
  {
   "cell_type": "code",
   "execution_count": 59,
   "metadata": {},
   "outputs": [
    {
     "name": "stdout",
     "output_type": "stream",
     "text": [
      "accuracy = 0.7210184182015168\n",
      "recall = 0.7023809523809523\n",
      "precision = 0.10746812386156648\n",
      "f1 score = 0.1864139020537125\n"
     ]
    }
   ],
   "source": [
    "metric_test(logl1pipe, X_test, y_test)"
   ]
  },
  {
   "cell_type": "code",
   "execution_count": 60,
   "metadata": {},
   "outputs": [
    {
     "name": "stdout",
     "output_type": "stream",
     "text": [
      "accuracy = 0.7226435536294691\n",
      "recall = 0.7023809523809523\n",
      "precision = 0.10805860805860806\n",
      "f1 score = 0.1873015873015873\n"
     ]
    }
   ],
   "source": [
    "metric_test(rfpipe, X_test, y_test)"
   ]
  },
  {
   "cell_type": "code",
   "execution_count": 76,
   "metadata": {},
   "outputs": [],
   "source": [
    "df2 = df_max.drop(['month', 'pec'], axis =1).dropna()\n",
    "y2 = df2['pt_attempt']\n",
    "X2 = df2.drop(['pt_attempt','pt_suc'], axis = 1)"
   ]
  },
  {
   "cell_type": "code",
   "execution_count": 77,
   "metadata": {},
   "outputs": [],
   "source": [
    "X_train2, X_test2, y_train2, y_test2 = train_test_split(X2, y2, test_size= .25, random_state= 40, stratify = y2)"
   ]
  },
  {
   "cell_type": "code",
   "execution_count": 78,
   "metadata": {},
   "outputs": [],
   "source": [
    "X_up2, y_up2 = upsampler(X_train2, y_train2)"
   ]
  },
  {
   "cell_type": "code",
   "execution_count": 79,
   "metadata": {},
   "outputs": [],
   "source": [
    "ridge_scaled2 = LogisticRegressionCV(\n",
    "        cv=5, dual=False,\n",
    "        penalty='l1', \n",
    "        scoring='recall',\n",
    "        solver='saga', \n",
    "        n_jobs = 2,\n",
    "        tol=0.0001,\n",
    "        max_iter=100,)"
   ]
  },
  {
   "cell_type": "code",
   "execution_count": 80,
   "metadata": {},
   "outputs": [],
   "source": [
    "logl1pipe2 = Pipeline([('scaler', StandardScaler()),('ridge_scaled', ridge_scaled2)])"
   ]
  },
  {
   "cell_type": "code",
   "execution_count": 81,
   "metadata": {},
   "outputs": [
    {
     "name": "stderr",
     "output_type": "stream",
     "text": [
      "/Users/taylorbritt/opt/anaconda3/lib/python3.7/site-packages/sklearn/linear_model/sag.py:337: ConvergenceWarning: The max_iter was reached which means the coef_ did not converge\n",
      "  \"the coef_ did not converge\", ConvergenceWarning)\n",
      "/Users/taylorbritt/opt/anaconda3/lib/python3.7/site-packages/sklearn/linear_model/sag.py:337: ConvergenceWarning: The max_iter was reached which means the coef_ did not converge\n",
      "  \"the coef_ did not converge\", ConvergenceWarning)\n",
      "/Users/taylorbritt/opt/anaconda3/lib/python3.7/site-packages/sklearn/linear_model/sag.py:337: ConvergenceWarning: The max_iter was reached which means the coef_ did not converge\n",
      "  \"the coef_ did not converge\", ConvergenceWarning)\n",
      "/Users/taylorbritt/opt/anaconda3/lib/python3.7/site-packages/sklearn/linear_model/sag.py:337: ConvergenceWarning: The max_iter was reached which means the coef_ did not converge\n",
      "  \"the coef_ did not converge\", ConvergenceWarning)\n",
      "/Users/taylorbritt/opt/anaconda3/lib/python3.7/site-packages/sklearn/linear_model/sag.py:337: ConvergenceWarning: The max_iter was reached which means the coef_ did not converge\n",
      "  \"the coef_ did not converge\", ConvergenceWarning)\n",
      "/Users/taylorbritt/opt/anaconda3/lib/python3.7/site-packages/sklearn/linear_model/sag.py:337: ConvergenceWarning: The max_iter was reached which means the coef_ did not converge\n",
      "  \"the coef_ did not converge\", ConvergenceWarning)\n"
     ]
    },
    {
     "data": {
      "text/plain": [
       "Pipeline(memory=None,\n",
       "         steps=[('scaler',\n",
       "                 StandardScaler(copy=True, with_mean=True, with_std=True)),\n",
       "                ('ridge_scaled',\n",
       "                 LogisticRegressionCV(Cs=10, class_weight=None, cv=5,\n",
       "                                      dual=False, fit_intercept=True,\n",
       "                                      intercept_scaling=1.0, l1_ratios=None,\n",
       "                                      max_iter=100, multi_class='warn',\n",
       "                                      n_jobs=2, penalty='l1', random_state=None,\n",
       "                                      refit=True, scoring='recall',\n",
       "                                      solver='saga', tol=0.0001, verbose=0))],\n",
       "         verbose=False)"
      ]
     },
     "execution_count": 81,
     "metadata": {},
     "output_type": "execute_result"
    }
   ],
   "source": [
    "logl1pipe2.fit(X_up2, y_up2)"
   ]
  },
  {
   "cell_type": "code",
   "execution_count": 82,
   "metadata": {},
   "outputs": [
    {
     "data": {
      "text/plain": [
       "irregular                                                       -0.430606\n",
       "upop                                                            -0.404527\n",
       "Life expectancy at birth, female (years)                        -0.381239\n",
       "election_recent                                                 -0.269523\n",
       "loss                                                            -0.268412\n",
       "year                                                            -0.242800\n",
       "Monarchy                                                        -0.237570\n",
       "Oligarchy                                                       -0.226239\n",
       "Rural population (% of total population)                        -0.217598\n",
       "Dominant Party                                                  -0.210470\n",
       "male                                                            -0.175486\n",
       "exports                                                         -0.106335\n",
       "precip                                                          -0.096744\n",
       "Party-Personal                                                  -0.074441\n",
       "leg_recent                                                      -0.071515\n",
       "leg_ant                                                         -0.068118\n",
       "tenure_months                                                   -0.056717\n",
       "Age dependency ratio (% of working-age population)              -0.038916\n",
       "Party-Personal-Military Hybrid                                  -0.036476\n",
       "Adolescent fertility rate (births per 1,000 women ages 15-19)   -0.013155\n",
       "Population growth (annual %)                                    -0.006931\n",
       "cinc                                                             0.000000\n",
       "Mortality rate, adult, male (per 1,000 male adults)              0.000000\n",
       "Life expectancy at birth, male (years)                           0.000000\n",
       "imports                                                          0.000000\n",
       "Death rate, crude (per 1,000 people)                             0.000000\n",
       "milper                                                           0.000000\n",
       "Presidential Democracy                                           0.000000\n",
       "irst                                                             0.000000\n",
       "Foreign/Occupied                                                 0.000000\n",
       "Birth rate, crude (per 1,000 people)                             0.000000\n",
       "exec_recent                                                      0.000000\n",
       "lead_recent                                                      0.000000\n",
       "nochange_recent                                                  0.000000\n",
       "anticipation                                                     0.000000\n",
       "defeat_recent                                                    0.000000\n",
       "election_now                                                     0.000000\n",
       "direct_recent                                                    0.000000\n",
       "indirect_recent                                                  0.000000\n",
       "Party-Military                                                   0.025503\n",
       "militarycareer                                                   0.028661\n",
       "elected                                                          0.053024\n",
       "irreg_lead_ant                                                   0.055231\n",
       "Urban population growth (annual %)                               0.060551\n",
       "milex                                                            0.063299\n",
       "ref_recent                                                       0.063673\n",
       "exec_ant                                                         0.075308\n",
       "delayed                                                          0.089463\n",
       "ref_ant                                                          0.092034\n",
       "Warlordism                                                       0.100075\n",
       "Provisional - Civilian                                           0.101274\n",
       "change_recent                                                    0.101754\n",
       "Provisional - Military                                           0.114648\n",
       "age                                                              0.146316\n",
       "victory_recent                                                   0.148165\n",
       "Indirect Military                                                0.154446\n",
       "prev_conflict                                                    0.173523\n",
       "Military-Personal                                                0.180682\n",
       "Personal Dictatorship                                            0.201331\n",
       "Military                                                         0.268368\n",
       "Fertility rate, total (births per woman)                         0.273099\n",
       "Population ages 0-14 (% of total population)                     0.346476\n",
       "lastelection                                                     0.465513\n",
       "dtype: float64"
      ]
     },
     "execution_count": 82,
     "metadata": {},
     "output_type": "execute_result"
    }
   ],
   "source": [
    "get_feature_weights(ridge_scaled2, X2.columns)"
   ]
  },
  {
   "cell_type": "code",
   "execution_count": 83,
   "metadata": {},
   "outputs": [
    {
     "name": "stdout",
     "output_type": "stream",
     "text": [
      "accuracy = 0.7215601300108342\n",
      "recall = 0.7023809523809523\n",
      "precision = 0.10766423357664233\n",
      "f1 score = 0.18670886075949364\n"
     ]
    }
   ],
   "source": [
    "metric_test(logl1pipe2, X_test2, y_test2)"
   ]
  },
  {
   "cell_type": "code",
   "execution_count": 85,
   "metadata": {},
   "outputs": [],
   "source": [
    "lasso_tanglers = ['cinc' ,                                                            \n",
    "'Mortality rate, adult, male (per 1,000 male adults)',              \n",
    "'Life expectancy at birth, male (years)',                           \n",
    "'imports',                                                         \n",
    "'Death rate, crude (per 1,000 people)',                             \n",
    "'milper',                                                           \n",
    "'Presidential Democracy',                                           \n",
    "'irst',                                                             \n",
    "'Foreign/Occupied',                                                 \n",
    "'Birth rate, crude (per 1,000 people)',                             \n",
    "'exec_recent',                                                      \n",
    "'lead_recent',                                                     \n",
    "'nochange_recent',                                                  \n",
    "'anticipation',                                                     \n",
    "'defeat_recent',                                                    \n",
    "'election_now',                                                     \n",
    "'direct_recent',                                                    \n",
    "'indirect_recent']                                              "
   ]
  },
  {
   "cell_type": "code",
   "execution_count": 96,
   "metadata": {},
   "outputs": [],
   "source": [
    "df3 = df2.drop(lasso_tanglers, axis =1).dropna()\n"
   ]
  },
  {
   "cell_type": "code",
   "execution_count": 97,
   "metadata": {},
   "outputs": [],
   "source": [
    "y3 = df3['pt_attempt']\n",
    "X3 = df3.drop(['pt_attempt','pt_suc'], axis = 1)"
   ]
  },
  {
   "cell_type": "code",
   "execution_count": 98,
   "metadata": {},
   "outputs": [],
   "source": [
    "X_train3, X_test3, y_train3, y_test3 = train_test_split(X3, y3, test_size= .25, random_state= 40, stratify = y3)"
   ]
  },
  {
   "cell_type": "code",
   "execution_count": 99,
   "metadata": {},
   "outputs": [],
   "source": [
    "X_up3, y_up3 = upsampler(X_train3, y_train3)"
   ]
  },
  {
   "cell_type": "code",
   "execution_count": 105,
   "metadata": {},
   "outputs": [],
   "source": [
    "ridge_scaled3 = LogisticRegressionCV(\n",
    "        cv=5, dual=False,\n",
    "        penalty='elasticnet', \n",
    "        scoring='recall',\n",
    "        solver='saga', \n",
    "        n_jobs = 2,\n",
    "        tol=0.0001,\n",
    "        max_iter=100,\n",
    "        l1_ratios = [0, .3, .5, .7, 1])"
   ]
  },
  {
   "cell_type": "code",
   "execution_count": 106,
   "metadata": {},
   "outputs": [],
   "source": [
    "logl1pipe3 = Pipeline([('scaler', StandardScaler()),('ridge_scaled', ridge_scaled3)])"
   ]
  },
  {
   "cell_type": "code",
   "execution_count": 107,
   "metadata": {},
   "outputs": [
    {
     "name": "stderr",
     "output_type": "stream",
     "text": [
      "/Users/taylorbritt/opt/anaconda3/lib/python3.7/site-packages/sklearn/linear_model/sag.py:337: ConvergenceWarning: The max_iter was reached which means the coef_ did not converge\n",
      "  \"the coef_ did not converge\", ConvergenceWarning)\n",
      "/Users/taylorbritt/opt/anaconda3/lib/python3.7/site-packages/sklearn/linear_model/sag.py:337: ConvergenceWarning: The max_iter was reached which means the coef_ did not converge\n",
      "  \"the coef_ did not converge\", ConvergenceWarning)\n",
      "/Users/taylorbritt/opt/anaconda3/lib/python3.7/site-packages/sklearn/linear_model/sag.py:337: ConvergenceWarning: The max_iter was reached which means the coef_ did not converge\n",
      "  \"the coef_ did not converge\", ConvergenceWarning)\n",
      "/Users/taylorbritt/opt/anaconda3/lib/python3.7/site-packages/sklearn/linear_model/sag.py:337: ConvergenceWarning: The max_iter was reached which means the coef_ did not converge\n",
      "  \"the coef_ did not converge\", ConvergenceWarning)\n",
      "/Users/taylorbritt/opt/anaconda3/lib/python3.7/site-packages/sklearn/linear_model/sag.py:337: ConvergenceWarning: The max_iter was reached which means the coef_ did not converge\n",
      "  \"the coef_ did not converge\", ConvergenceWarning)\n",
      "/Users/taylorbritt/opt/anaconda3/lib/python3.7/site-packages/sklearn/linear_model/sag.py:337: ConvergenceWarning: The max_iter was reached which means the coef_ did not converge\n",
      "  \"the coef_ did not converge\", ConvergenceWarning)\n",
      "/Users/taylorbritt/opt/anaconda3/lib/python3.7/site-packages/sklearn/linear_model/sag.py:337: ConvergenceWarning: The max_iter was reached which means the coef_ did not converge\n",
      "  \"the coef_ did not converge\", ConvergenceWarning)\n",
      "/Users/taylorbritt/opt/anaconda3/lib/python3.7/site-packages/sklearn/linear_model/sag.py:337: ConvergenceWarning: The max_iter was reached which means the coef_ did not converge\n",
      "  \"the coef_ did not converge\", ConvergenceWarning)\n",
      "/Users/taylorbritt/opt/anaconda3/lib/python3.7/site-packages/sklearn/linear_model/sag.py:337: ConvergenceWarning: The max_iter was reached which means the coef_ did not converge\n",
      "  \"the coef_ did not converge\", ConvergenceWarning)\n",
      "/Users/taylorbritt/opt/anaconda3/lib/python3.7/site-packages/sklearn/linear_model/sag.py:337: ConvergenceWarning: The max_iter was reached which means the coef_ did not converge\n",
      "  \"the coef_ did not converge\", ConvergenceWarning)\n",
      "/Users/taylorbritt/opt/anaconda3/lib/python3.7/site-packages/sklearn/linear_model/sag.py:337: ConvergenceWarning: The max_iter was reached which means the coef_ did not converge\n",
      "  \"the coef_ did not converge\", ConvergenceWarning)\n",
      "/Users/taylorbritt/opt/anaconda3/lib/python3.7/site-packages/sklearn/linear_model/sag.py:337: ConvergenceWarning: The max_iter was reached which means the coef_ did not converge\n",
      "  \"the coef_ did not converge\", ConvergenceWarning)\n",
      "/Users/taylorbritt/opt/anaconda3/lib/python3.7/site-packages/sklearn/linear_model/sag.py:337: ConvergenceWarning: The max_iter was reached which means the coef_ did not converge\n",
      "  \"the coef_ did not converge\", ConvergenceWarning)\n",
      "/Users/taylorbritt/opt/anaconda3/lib/python3.7/site-packages/sklearn/linear_model/sag.py:337: ConvergenceWarning: The max_iter was reached which means the coef_ did not converge\n",
      "  \"the coef_ did not converge\", ConvergenceWarning)\n",
      "/Users/taylorbritt/opt/anaconda3/lib/python3.7/site-packages/sklearn/linear_model/sag.py:337: ConvergenceWarning: The max_iter was reached which means the coef_ did not converge\n",
      "  \"the coef_ did not converge\", ConvergenceWarning)\n",
      "/Users/taylorbritt/opt/anaconda3/lib/python3.7/site-packages/sklearn/linear_model/sag.py:337: ConvergenceWarning: The max_iter was reached which means the coef_ did not converge\n",
      "  \"the coef_ did not converge\", ConvergenceWarning)\n",
      "/Users/taylorbritt/opt/anaconda3/lib/python3.7/site-packages/sklearn/linear_model/sag.py:337: ConvergenceWarning: The max_iter was reached which means the coef_ did not converge\n",
      "  \"the coef_ did not converge\", ConvergenceWarning)\n",
      "/Users/taylorbritt/opt/anaconda3/lib/python3.7/site-packages/sklearn/linear_model/sag.py:337: ConvergenceWarning: The max_iter was reached which means the coef_ did not converge\n",
      "  \"the coef_ did not converge\", ConvergenceWarning)\n",
      "/Users/taylorbritt/opt/anaconda3/lib/python3.7/site-packages/sklearn/linear_model/sag.py:337: ConvergenceWarning: The max_iter was reached which means the coef_ did not converge\n",
      "  \"the coef_ did not converge\", ConvergenceWarning)\n",
      "/Users/taylorbritt/opt/anaconda3/lib/python3.7/site-packages/sklearn/linear_model/sag.py:337: ConvergenceWarning: The max_iter was reached which means the coef_ did not converge\n",
      "  \"the coef_ did not converge\", ConvergenceWarning)\n",
      "/Users/taylorbritt/opt/anaconda3/lib/python3.7/site-packages/sklearn/linear_model/sag.py:337: ConvergenceWarning: The max_iter was reached which means the coef_ did not converge\n",
      "  \"the coef_ did not converge\", ConvergenceWarning)\n",
      "/Users/taylorbritt/opt/anaconda3/lib/python3.7/site-packages/sklearn/linear_model/sag.py:337: ConvergenceWarning: The max_iter was reached which means the coef_ did not converge\n",
      "  \"the coef_ did not converge\", ConvergenceWarning)\n",
      "/Users/taylorbritt/opt/anaconda3/lib/python3.7/site-packages/sklearn/linear_model/sag.py:337: ConvergenceWarning: The max_iter was reached which means the coef_ did not converge\n",
      "  \"the coef_ did not converge\", ConvergenceWarning)\n",
      "/Users/taylorbritt/opt/anaconda3/lib/python3.7/site-packages/sklearn/linear_model/sag.py:337: ConvergenceWarning: The max_iter was reached which means the coef_ did not converge\n",
      "  \"the coef_ did not converge\", ConvergenceWarning)\n",
      "/Users/taylorbritt/opt/anaconda3/lib/python3.7/site-packages/sklearn/linear_model/sag.py:337: ConvergenceWarning: The max_iter was reached which means the coef_ did not converge\n",
      "  \"the coef_ did not converge\", ConvergenceWarning)\n"
     ]
    },
    {
     "data": {
      "text/plain": [
       "Pipeline(memory=None,\n",
       "         steps=[('scaler',\n",
       "                 StandardScaler(copy=True, with_mean=True, with_std=True)),\n",
       "                ('ridge_scaled',\n",
       "                 LogisticRegressionCV(Cs=10, class_weight=None, cv=5,\n",
       "                                      dual=False, fit_intercept=True,\n",
       "                                      intercept_scaling=1.0,\n",
       "                                      l1_ratios=[0, 0.3, 0.5, 0.7, 1],\n",
       "                                      max_iter=100, multi_class='warn',\n",
       "                                      n_jobs=2, penalty='elasticnet',\n",
       "                                      random_state=None, refit=True,\n",
       "                                      scoring='recall', solver='saga',\n",
       "                                      tol=0.0001, verbose=0))],\n",
       "         verbose=False)"
      ]
     },
     "execution_count": 107,
     "metadata": {},
     "output_type": "execute_result"
    }
   ],
   "source": [
    "logl1pipe3.fit(X_up3, y_up3)"
   ]
  },
  {
   "cell_type": "code",
   "execution_count": 108,
   "metadata": {},
   "outputs": [
    {
     "name": "stdout",
     "output_type": "stream",
     "text": [
      "accuracy = 0.7210184182015168\n",
      "recall = 0.7142857142857143\n",
      "precision = 0.1088929219600726\n",
      "f1 score = 0.1889763779527559\n"
     ]
    }
   ],
   "source": [
    "metric_test(logl1pipe3, X_test3, y_test3)"
   ]
  },
  {
   "cell_type": "code",
   "execution_count": 109,
   "metadata": {},
   "outputs": [
    {
     "data": {
      "text/plain": [
       "irregular                                                       -0.369919\n",
       "Life expectancy at birth, female (years)                        -0.287438\n",
       "year                                                            -0.214759\n",
       "upop                                                            -0.203516\n",
       "loss                                                            -0.202883\n",
       "Dominant Party                                                  -0.195510\n",
       "Monarchy                                                        -0.183336\n",
       "Oligarchy                                                       -0.151417\n",
       "male                                                            -0.128644\n",
       "election_recent                                                 -0.084656\n",
       "precip                                                          -0.066110\n",
       "leg_recent                                                      -0.064903\n",
       "Rural population (% of total population)                        -0.062591\n",
       "Party-Personal                                                  -0.060637\n",
       "exports                                                         -0.056320\n",
       "leg_ant                                                         -0.049088\n",
       "tenure_months                                                   -0.045823\n",
       "Party-Personal-Military Hybrid                                  -0.038292\n",
       "Adolescent fertility rate (births per 1,000 women ages 15-19)    0.000000\n",
       "milex                                                            0.000000\n",
       "Population growth (annual %)                                     0.000000\n",
       "Age dependency ratio (% of working-age population)               0.000000\n",
       "elected                                                          0.000000\n",
       "change_recent                                                    0.000000\n",
       "victory_recent                                                   0.000000\n",
       "Party-Military                                                   0.003787\n",
       "Urban population growth (annual %)                               0.032603\n",
       "irreg_lead_ant                                                   0.041556\n",
       "militarycareer                                                   0.063437\n",
       "delayed                                                          0.065105\n",
       "ref_recent                                                       0.066927\n",
       "Provisional - Military                                           0.068817\n",
       "ref_ant                                                          0.070969\n",
       "exec_ant                                                         0.074401\n",
       "Warlordism                                                       0.075277\n",
       "Provisional - Civilian                                           0.076146\n",
       "age                                                              0.088696\n",
       "Military-Personal                                                0.126601\n",
       "prev_conflict                                                    0.132119\n",
       "Indirect Military                                                0.140159\n",
       "Personal Dictatorship                                            0.164530\n",
       "Military                                                         0.217071\n",
       "Population ages 0-14 (% of total population)                     0.250565\n",
       "Fertility rate, total (births per woman)                         0.263537\n",
       "lastelection                                                     0.315155\n",
       "dtype: float64"
      ]
     },
     "execution_count": 109,
     "metadata": {},
     "output_type": "execute_result"
    }
   ],
   "source": [
    "get_feature_weights(ridge_scaled3, X3.columns)"
   ]
  },
  {
   "cell_type": "code",
   "execution_count": 110,
   "metadata": {},
   "outputs": [],
   "source": [
    "lasso_drops_2 = ['Adolescent fertility rate (births per 1,000 women ages 15-19)',   \n",
    "'milex',                                                            \n",
    "'Population growth (annual %)',                                    \n",
    "'Age dependency ratio (% of working-age population)',               \n",
    "'elected',                                                          \n",
    "'change_recent',                                                    \n",
    "'victory_recent']                                                 "
   ]
  },
  {
   "cell_type": "code",
   "execution_count": 111,
   "metadata": {},
   "outputs": [],
   "source": [
    "df4 = df3.drop(lasso_drops_2, axis =1).dropna()\n"
   ]
  },
  {
   "cell_type": "code",
   "execution_count": 115,
   "metadata": {},
   "outputs": [],
   "source": [
    "y4 = df4['pt_attempt']\n",
    "X4 = df4.drop(['pt_attempt','pt_suc'], axis = 1)\n",
    "\n",
    "X_train4, X_test4, y_train4, y_test4 = train_test_split(X4, y4, test_size= .25, random_state= 40, stratify = y4)\n",
    "\n"
   ]
  },
  {
   "cell_type": "code",
   "execution_count": 120,
   "metadata": {},
   "outputs": [
    {
     "data": {
      "text/plain": [
       "(5537, 38)"
      ]
     },
     "execution_count": 120,
     "metadata": {},
     "output_type": "execute_result"
    }
   ],
   "source": [
    "X_train4.shape"
   ]
  },
  {
   "cell_type": "code",
   "execution_count": 121,
   "metadata": {},
   "outputs": [
    {
     "data": {
      "text/plain": [
       "(1846, 38)"
      ]
     },
     "execution_count": 121,
     "metadata": {},
     "output_type": "execute_result"
    }
   ],
   "source": [
    "X_test4.shape"
   ]
  },
  {
   "cell_type": "code",
   "execution_count": 122,
   "metadata": {},
   "outputs": [
    {
     "data": {
      "text/plain": [
       "(5537,)"
      ]
     },
     "execution_count": 122,
     "metadata": {},
     "output_type": "execute_result"
    }
   ],
   "source": [
    "y_train4.shape"
   ]
  },
  {
   "cell_type": "code",
   "execution_count": 123,
   "metadata": {},
   "outputs": [
    {
     "data": {
      "text/plain": [
       "(1846,)"
      ]
     },
     "execution_count": 123,
     "metadata": {},
     "output_type": "execute_result"
    }
   ],
   "source": [
    "y_test4.shape"
   ]
  },
  {
   "cell_type": "code",
   "execution_count": 118,
   "metadata": {},
   "outputs": [],
   "source": [
    "X_up4, y_up4 = upsampler(X_train4, y_train4)\n"
   ]
  },
  {
   "cell_type": "code",
   "execution_count": 125,
   "metadata": {},
   "outputs": [
    {
     "data": {
      "text/plain": [
       "(10568, 38)"
      ]
     },
     "execution_count": 125,
     "metadata": {},
     "output_type": "execute_result"
    }
   ],
   "source": [
    "X_up4.shape"
   ]
  },
  {
   "cell_type": "code",
   "execution_count": 126,
   "metadata": {},
   "outputs": [
    {
     "data": {
      "text/plain": [
       "(10568,)"
      ]
     },
     "execution_count": 126,
     "metadata": {},
     "output_type": "execute_result"
    }
   ],
   "source": [
    "y_up4.shape"
   ]
  },
  {
   "cell_type": "code",
   "execution_count": 127,
   "metadata": {},
   "outputs": [],
   "source": [
    "ridge_scaled4 = LogisticRegressionCV(\n",
    "        cv=5, dual=False,\n",
    "        penalty='elasticnet', \n",
    "        scoring='recall',\n",
    "        solver='saga', \n",
    "        n_jobs = 2,\n",
    "        tol=0.0001,\n",
    "        max_iter=100,\n",
    "        l1_ratios = [0, .3, .5, .7, 1])\n",
    "\n",
    "logl1pipe4 = Pipeline([('scaler', StandardScaler()),('ridge_scaled', ridge_scaled4)])"
   ]
  },
  {
   "cell_type": "code",
   "execution_count": 128,
   "metadata": {},
   "outputs": [
    {
     "name": "stderr",
     "output_type": "stream",
     "text": [
      "/Users/taylorbritt/opt/anaconda3/lib/python3.7/site-packages/sklearn/linear_model/sag.py:337: ConvergenceWarning: The max_iter was reached which means the coef_ did not converge\n",
      "  \"the coef_ did not converge\", ConvergenceWarning)\n",
      "/Users/taylorbritt/opt/anaconda3/lib/python3.7/site-packages/sklearn/linear_model/sag.py:337: ConvergenceWarning: The max_iter was reached which means the coef_ did not converge\n",
      "  \"the coef_ did not converge\", ConvergenceWarning)\n",
      "/Users/taylorbritt/opt/anaconda3/lib/python3.7/site-packages/sklearn/linear_model/sag.py:337: ConvergenceWarning: The max_iter was reached which means the coef_ did not converge\n",
      "  \"the coef_ did not converge\", ConvergenceWarning)\n",
      "/Users/taylorbritt/opt/anaconda3/lib/python3.7/site-packages/sklearn/linear_model/sag.py:337: ConvergenceWarning: The max_iter was reached which means the coef_ did not converge\n",
      "  \"the coef_ did not converge\", ConvergenceWarning)\n",
      "/Users/taylorbritt/opt/anaconda3/lib/python3.7/site-packages/sklearn/linear_model/sag.py:337: ConvergenceWarning: The max_iter was reached which means the coef_ did not converge\n",
      "  \"the coef_ did not converge\", ConvergenceWarning)\n",
      "/Users/taylorbritt/opt/anaconda3/lib/python3.7/site-packages/sklearn/linear_model/sag.py:337: ConvergenceWarning: The max_iter was reached which means the coef_ did not converge\n",
      "  \"the coef_ did not converge\", ConvergenceWarning)\n",
      "/Users/taylorbritt/opt/anaconda3/lib/python3.7/site-packages/sklearn/linear_model/sag.py:337: ConvergenceWarning: The max_iter was reached which means the coef_ did not converge\n",
      "  \"the coef_ did not converge\", ConvergenceWarning)\n",
      "/Users/taylorbritt/opt/anaconda3/lib/python3.7/site-packages/sklearn/linear_model/sag.py:337: ConvergenceWarning: The max_iter was reached which means the coef_ did not converge\n",
      "  \"the coef_ did not converge\", ConvergenceWarning)\n",
      "/Users/taylorbritt/opt/anaconda3/lib/python3.7/site-packages/sklearn/linear_model/sag.py:337: ConvergenceWarning: The max_iter was reached which means the coef_ did not converge\n",
      "  \"the coef_ did not converge\", ConvergenceWarning)\n",
      "/Users/taylorbritt/opt/anaconda3/lib/python3.7/site-packages/sklearn/linear_model/sag.py:337: ConvergenceWarning: The max_iter was reached which means the coef_ did not converge\n",
      "  \"the coef_ did not converge\", ConvergenceWarning)\n",
      "/Users/taylorbritt/opt/anaconda3/lib/python3.7/site-packages/sklearn/linear_model/sag.py:337: ConvergenceWarning: The max_iter was reached which means the coef_ did not converge\n",
      "  \"the coef_ did not converge\", ConvergenceWarning)\n",
      "/Users/taylorbritt/opt/anaconda3/lib/python3.7/site-packages/sklearn/linear_model/sag.py:337: ConvergenceWarning: The max_iter was reached which means the coef_ did not converge\n",
      "  \"the coef_ did not converge\", ConvergenceWarning)\n",
      "/Users/taylorbritt/opt/anaconda3/lib/python3.7/site-packages/sklearn/linear_model/sag.py:337: ConvergenceWarning: The max_iter was reached which means the coef_ did not converge\n",
      "  \"the coef_ did not converge\", ConvergenceWarning)\n",
      "/Users/taylorbritt/opt/anaconda3/lib/python3.7/site-packages/sklearn/linear_model/sag.py:337: ConvergenceWarning: The max_iter was reached which means the coef_ did not converge\n",
      "  \"the coef_ did not converge\", ConvergenceWarning)\n",
      "/Users/taylorbritt/opt/anaconda3/lib/python3.7/site-packages/sklearn/linear_model/sag.py:337: ConvergenceWarning: The max_iter was reached which means the coef_ did not converge\n",
      "  \"the coef_ did not converge\", ConvergenceWarning)\n",
      "/Users/taylorbritt/opt/anaconda3/lib/python3.7/site-packages/sklearn/linear_model/sag.py:337: ConvergenceWarning: The max_iter was reached which means the coef_ did not converge\n",
      "  \"the coef_ did not converge\", ConvergenceWarning)\n",
      "/Users/taylorbritt/opt/anaconda3/lib/python3.7/site-packages/sklearn/linear_model/sag.py:337: ConvergenceWarning: The max_iter was reached which means the coef_ did not converge\n",
      "  \"the coef_ did not converge\", ConvergenceWarning)\n",
      "/Users/taylorbritt/opt/anaconda3/lib/python3.7/site-packages/sklearn/linear_model/sag.py:337: ConvergenceWarning: The max_iter was reached which means the coef_ did not converge\n",
      "  \"the coef_ did not converge\", ConvergenceWarning)\n",
      "/Users/taylorbritt/opt/anaconda3/lib/python3.7/site-packages/sklearn/linear_model/sag.py:337: ConvergenceWarning: The max_iter was reached which means the coef_ did not converge\n",
      "  \"the coef_ did not converge\", ConvergenceWarning)\n",
      "/Users/taylorbritt/opt/anaconda3/lib/python3.7/site-packages/sklearn/linear_model/sag.py:337: ConvergenceWarning: The max_iter was reached which means the coef_ did not converge\n",
      "  \"the coef_ did not converge\", ConvergenceWarning)\n",
      "/Users/taylorbritt/opt/anaconda3/lib/python3.7/site-packages/sklearn/linear_model/sag.py:337: ConvergenceWarning: The max_iter was reached which means the coef_ did not converge\n",
      "  \"the coef_ did not converge\", ConvergenceWarning)\n",
      "/Users/taylorbritt/opt/anaconda3/lib/python3.7/site-packages/sklearn/linear_model/sag.py:337: ConvergenceWarning: The max_iter was reached which means the coef_ did not converge\n",
      "  \"the coef_ did not converge\", ConvergenceWarning)\n",
      "/Users/taylorbritt/opt/anaconda3/lib/python3.7/site-packages/sklearn/linear_model/sag.py:337: ConvergenceWarning: The max_iter was reached which means the coef_ did not converge\n",
      "  \"the coef_ did not converge\", ConvergenceWarning)\n",
      "/Users/taylorbritt/opt/anaconda3/lib/python3.7/site-packages/sklearn/linear_model/sag.py:337: ConvergenceWarning: The max_iter was reached which means the coef_ did not converge\n",
      "  \"the coef_ did not converge\", ConvergenceWarning)\n",
      "/Users/taylorbritt/opt/anaconda3/lib/python3.7/site-packages/sklearn/linear_model/sag.py:337: ConvergenceWarning: The max_iter was reached which means the coef_ did not converge\n",
      "  \"the coef_ did not converge\", ConvergenceWarning)\n"
     ]
    },
    {
     "data": {
      "text/plain": [
       "Pipeline(memory=None,\n",
       "         steps=[('scaler',\n",
       "                 StandardScaler(copy=True, with_mean=True, with_std=True)),\n",
       "                ('ridge_scaled',\n",
       "                 LogisticRegressionCV(Cs=10, class_weight=None, cv=5,\n",
       "                                      dual=False, fit_intercept=True,\n",
       "                                      intercept_scaling=1.0,\n",
       "                                      l1_ratios=[0, 0.3, 0.5, 0.7, 1],\n",
       "                                      max_iter=100, multi_class='warn',\n",
       "                                      n_jobs=2, penalty='elasticnet',\n",
       "                                      random_state=None, refit=True,\n",
       "                                      scoring='recall', solver='saga',\n",
       "                                      tol=0.0001, verbose=0))],\n",
       "         verbose=False)"
      ]
     },
     "execution_count": 128,
     "metadata": {},
     "output_type": "execute_result"
    }
   ],
   "source": [
    "logl1pipe4.fit(X_up4, y_up4)"
   ]
  },
  {
   "cell_type": "code",
   "execution_count": 129,
   "metadata": {},
   "outputs": [
    {
     "name": "stdout",
     "output_type": "stream",
     "text": [
      "accuracy = 0.7210184182015168\n",
      "recall = 0.7142857142857143\n",
      "precision = 0.1088929219600726\n",
      "f1 score = 0.1889763779527559\n"
     ]
    }
   ],
   "source": [
    "metric_test(logl1pipe4, X_test4, y_test4)"
   ]
  },
  {
   "cell_type": "code",
   "execution_count": 130,
   "metadata": {},
   "outputs": [
    {
     "data": {
      "text/plain": [
       "irregular                                      -0.369920\n",
       "Life expectancy at birth, female (years)       -0.287451\n",
       "year                                           -0.214754\n",
       "upop                                           -0.203510\n",
       "loss                                           -0.202876\n",
       "Dominant Party                                 -0.195519\n",
       "Monarchy                                       -0.183342\n",
       "Oligarchy                                      -0.151418\n",
       "male                                           -0.128643\n",
       "election_recent                                -0.084658\n",
       "precip                                         -0.066109\n",
       "leg_recent                                     -0.064901\n",
       "Rural population (% of total population)       -0.062598\n",
       "Party-Personal                                 -0.060643\n",
       "exports                                        -0.056344\n",
       "leg_ant                                        -0.049090\n",
       "tenure_months                                  -0.045822\n",
       "Party-Personal-Military Hybrid                 -0.038296\n",
       "Party-Military                                  0.003781\n",
       "Urban population growth (annual %)              0.032605\n",
       "irreg_lead_ant                                  0.041558\n",
       "militarycareer                                  0.063445\n",
       "delayed                                         0.065106\n",
       "ref_recent                                      0.066929\n",
       "Provisional - Military                          0.068812\n",
       "ref_ant                                         0.070969\n",
       "exec_ant                                        0.074399\n",
       "Warlordism                                      0.075275\n",
       "Provisional - Civilian                          0.076144\n",
       "age                                             0.088695\n",
       "Military-Personal                               0.126592\n",
       "prev_conflict                                   0.132119\n",
       "Indirect Military                               0.140157\n",
       "Personal Dictatorship                           0.164516\n",
       "Military                                        0.217061\n",
       "Population ages 0-14 (% of total population)    0.250547\n",
       "Fertility rate, total (births per woman)        0.263548\n",
       "lastelection                                    0.315154\n",
       "dtype: float64"
      ]
     },
     "execution_count": 130,
     "metadata": {},
     "output_type": "execute_result"
    }
   ],
   "source": [
    "get_feature_weights(ridge_scaled4, X4.columns)"
   ]
  },
  {
   "cell_type": "code",
   "execution_count": null,
   "metadata": {},
   "outputs": [],
   "source": []
  }
 ],
 "metadata": {
  "kernelspec": {
   "display_name": "Python 3",
   "language": "python",
   "name": "python3"
  },
  "language_info": {
   "codemirror_mode": {
    "name": "ipython",
    "version": 3
   },
   "file_extension": ".py",
   "mimetype": "text/x-python",
   "name": "python",
   "nbconvert_exporter": "python",
   "pygments_lexer": "ipython3",
   "version": "3.7.4"
  }
 },
 "nbformat": 4,
 "nbformat_minor": 2
}
